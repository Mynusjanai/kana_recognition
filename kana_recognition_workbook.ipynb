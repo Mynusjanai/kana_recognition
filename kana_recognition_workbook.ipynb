{
 "cells": [
  {
   "cell_type": "code",
   "execution_count": 182,
   "metadata": {
    "ExecuteTime": {
     "end_time": "2021-04-22T11:38:33.113542Z",
     "start_time": "2021-04-22T11:38:33.051709Z"
    }
   },
   "outputs": [
    {
     "name": "stdout",
     "output_type": "stream",
     "text": [
      "The tensorboard extension is already loaded. To reload it, use:\n",
      "  %reload_ext tensorboard\n"
     ]
    }
   ],
   "source": [
    "import seaborn as sns\n",
    "# ^^^ pyforest auto-imports - don't write above this line\n",
    "# Library imports\n",
    "import pyforest\n",
    "import struct\n",
    "import skimage.transform\n",
    "import tensorflow as tf\n",
    "import datetime\n",
    "\n",
    "# Dependency imports\n",
    "from tensorflow.keras import datasets, layers, models\n",
    "from tensorflow.keras import backend as K\n",
    "from tensorflow.keras.regularizers import l2\n",
    "from tensorflow.keras.optimizers import SGD\n",
    "from tensorflow.keras.wrappers import scikit_learn\n",
    "from tensorflow.keras.callbacks import EarlyStopping, ReduceLROnPlateau\n",
    "from tensorflow.keras.preprocessing.image import ImageDataGenerator\n",
    "from tensorflow.keras.layers import Dense, Dropout, Activation, Flatten\n",
    "from PIL import Image\n",
    "from sklearn.metrics import confusion_matrix\n",
    "from sklearn.model_selection import train_test_split, cross_val_score\n",
    "from sklearn.preprocessing import OneHotEncoder\n",
    "\n",
    "# Notebook Extentions\n",
    "%load_ext tensorboard"
   ]
  },
  {
   "cell_type": "code",
   "execution_count": 88,
   "metadata": {
    "ExecuteTime": {
     "end_time": "2021-04-21T21:39:23.103783Z",
     "start_time": "2021-04-21T21:39:23.089822Z"
    }
   },
   "outputs": [
    {
     "name": "stdout",
     "output_type": "stream",
     "text": [
      "Num GPUs Available:  0\n"
     ]
    }
   ],
   "source": [
    "print(\"Num GPUs Available: \", len(tf.config.list_physical_devices('GPU')))"
   ]
  },
  {
   "cell_type": "markdown",
   "metadata": {},
   "source": [
    "# Japanese Handwriting Recognition Project"
   ]
  },
  {
   "cell_type": "markdown",
   "metadata": {},
   "source": [
    "![Japanese_Kana_Chart](img/variant-hentaigana-chart.jpg)"
   ]
  },
  {
   "cell_type": "markdown",
   "metadata": {},
   "source": [
    "## Agenda"
   ]
  },
  {
   "cell_type": "markdown",
   "metadata": {},
   "source": [
    "This project aims to accurately predict Japanese handwriting and display the corresponding text output correctly. Using the three main Japanese language writing systems (Kanji, Hiragana, Katakana), the data is from the [ETL Character Database](http://etlcdb.db.aist.go.jp/), which includes over a million of Japanese characters hand-written and reorganized by the [National Institute of Advanced Industrial Science and Technology (AIST)](http://www.jeita.or.jp/english/). "
   ]
  },
  {
   "cell_type": "markdown",
   "metadata": {},
   "source": [
    "## Data Information"
   ]
  },
  {
   "cell_type": "markdown",
   "metadata": {},
   "source": [
    "- Each file contains 5 data sets except ETL8G_33\n",
    "- Each data set contains 956 characters written by a writer.\n",
    "- Each writer wrote 10 sheets (genkouyoushi) per data set"
   ]
  },
  {
   "cell_type": "markdown",
   "metadata": {},
   "source": [
    "### Japanese Character Dataset Info"
   ]
  },
  {
   "cell_type": "markdown",
   "metadata": {},
   "source": [
    "- **Hiragana (ETL 8)**\n",
    "    - 71 hiragana characters (46 unique + 29 diphthongs)\n",
    "    - 160 writers\n",
    "    - 8199 records (genkouyoushi sheets) \n",
    "    - 1,254,120,000 unique handwritten hiragana characters (shared with kanji chars in the same files)\n",
    "- **Kanji (ETL 8)**\n",
    "    - 883 daily use kanji\n",
    "    - 160 writers\n",
    "    - 8199 records \n",
    "    - 152,878,411 unique handwritten kanji (shared with hiragana chars in the same files)\n",
    "- **Katakana (ETL 1)**\n",
    "    - 46 katakana characters (46 unique, dipthongs not included as they are phonetically identical to hiragana)\n",
    "    - 1411 writers\n",
    "    - 2052 records\n",
    "    - 2,436,366 unique handwritten katakana characters"
   ]
  },
  {
   "cell_type": "markdown",
   "metadata": {},
   "source": [
    "### Import & Read Hiragana"
   ]
  },
  {
   "cell_type": "code",
   "execution_count": 2,
   "metadata": {
    "ExecuteTime": {
     "end_time": "2021-04-21T19:24:30.103589Z",
     "start_time": "2021-04-21T19:24:30.086607Z"
    }
   },
   "outputs": [],
   "source": [
    "hira_kanji_record = 8199"
   ]
  },
  {
   "cell_type": "code",
   "execution_count": 3,
   "metadata": {
    "ExecuteTime": {
     "end_time": "2021-04-21T19:24:30.840453Z",
     "start_time": "2021-04-21T19:24:30.828485Z"
    }
   },
   "outputs": [],
   "source": [
    "# Reading the Hiragana ETL8G File\n",
    "def read_ETL8G(f):\n",
    "    s = f.read(hira_kanji_record)\n",
    "    r = struct.unpack('>2H8sI4B4H2B30x8128s11x', s)\n",
    "    iF = Image.frombytes('F', (128, 127), r[14], 'bit', 4)\n",
    "    iL = iF.convert('L')\n",
    "    return r + (iL,)"
   ]
  },
  {
   "cell_type": "code",
   "execution_count": 4,
   "metadata": {
    "ExecuteTime": {
     "end_time": "2021-04-21T19:24:31.413361Z",
     "start_time": "2021-04-21T19:24:31.397404Z"
    }
   },
   "outputs": [],
   "source": [
    "# Function to read the binary code present in each of the 33 files included in the ETL8G folder\n",
    "def read_hiragana():\n",
    "    # Characters = 71, writers = 160, y = 127, x = 128\n",
    "    hiragana = np.zeros([71, 160, 127, 128], dtype = np.uint8)\n",
    "\n",
    "    for j in range(1, 33):\n",
    "        filename = 'data/ETL8G/ETL8G_{:02d}'.format(j)\n",
    "        with open(filename, 'rb') as f:\n",
    "            for id_dataset in range(5):\n",
    "                moji = 0\n",
    "                for i in range(956):\n",
    "                    r = read_ETL8G(f)\n",
    "                    if b'.HIRA' in r[2] or b'.WO.' in r[2]:\n",
    "                        if not b'KAI' in r[2] and not b'HEI' in r[2]:\n",
    "                            hiragana[moji, (j - 1) * 5 + id_dataset] = np.array(r[-1])\n",
    "                            moji += 1\n",
    "    np.savez_compressed('data/hiragana.npz', hiragana)"
   ]
  },
  {
   "cell_type": "code",
   "execution_count": 5,
   "metadata": {
    "ExecuteTime": {
     "end_time": "2021-04-21T19:24:32.222384Z",
     "start_time": "2021-04-21T19:24:32.210388Z"
    }
   },
   "outputs": [],
   "source": [
    "# Running the Function Above\n",
    "# read_hiragana()"
   ]
  },
  {
   "cell_type": "code",
   "execution_count": 6,
   "metadata": {
    "ExecuteTime": {
     "end_time": "2021-04-21T19:24:33.576885Z",
     "start_time": "2021-04-21T19:24:32.953389Z"
    }
   },
   "outputs": [],
   "source": [
    "hiragana_data = np.load('data/hiragana.npz')\n",
    "hira_test = hiragana_data.f.arr_0"
   ]
  },
  {
   "cell_type": "code",
   "execution_count": 7,
   "metadata": {
    "ExecuteTime": {
     "end_time": "2021-04-21T19:24:36.572378Z",
     "start_time": "2021-04-21T19:24:36.566394Z"
    }
   },
   "outputs": [
    {
     "data": {
      "text/plain": [
       "(71, 160, 127, 128)"
      ]
     },
     "execution_count": 7,
     "metadata": {},
     "output_type": "execute_result"
    }
   ],
   "source": [
    "hira_test.shape"
   ]
  },
  {
   "cell_type": "markdown",
   "metadata": {},
   "source": [
    "### Import & Read Kanji"
   ]
  },
  {
   "cell_type": "code",
   "execution_count": 8,
   "metadata": {
    "ExecuteTime": {
     "end_time": "2021-04-21T19:24:37.783348Z",
     "start_time": "2021-04-21T19:24:37.766394Z"
    }
   },
   "outputs": [],
   "source": [
    "def read_kanji():\n",
    "    # Characters = 883, writers = 160, y = 127, x = 128\n",
    "    kanji = np.zeros([883, 160, 127, 128], dtype=np.uint8)\n",
    "    for i in range(1, 33):\n",
    "        filename = 'data/ETL8G/ETL8G_{:02d}'.format(i)\n",
    "        with open(filename, 'rb') as f:\n",
    "            for dataset in range(5):\n",
    "                char = 0\n",
    "                for j in range(956):\n",
    "                    r = read_ETL8G(f)\n",
    "                    if not (b'.HIRA' in r[2] or b'.WO.' in r[2]): \n",
    "                        kanji[char, (i - 1) * 5 + dataset] = np.array(r[-1])\n",
    "                        char += 1\n",
    "    np.savez_compressed('data/kanji.npz', kanji)"
   ]
  },
  {
   "cell_type": "code",
   "execution_count": null,
   "metadata": {
    "ExecuteTime": {
     "end_time": "2021-04-21T14:05:13.050778Z",
     "start_time": "2021-04-21T14:04:26.923685Z"
    },
    "scrolled": true
   },
   "outputs": [],
   "source": [
    "# read_kanji()"
   ]
  },
  {
   "cell_type": "code",
   "execution_count": 9,
   "metadata": {
    "ExecuteTime": {
     "end_time": "2021-04-21T19:24:56.696327Z",
     "start_time": "2021-04-21T19:24:48.905093Z"
    }
   },
   "outputs": [],
   "source": [
    "kanji_data = np.load('data/kanji.npz')\n",
    "kanji_test = kanji_data.f.arr_0"
   ]
  },
  {
   "cell_type": "code",
   "execution_count": 10,
   "metadata": {
    "ExecuteTime": {
     "end_time": "2021-04-21T19:24:57.708929Z",
     "start_time": "2021-04-21T19:24:57.690950Z"
    }
   },
   "outputs": [
    {
     "data": {
      "text/plain": [
       "(883, 160, 127, 128)"
      ]
     },
     "execution_count": 10,
     "metadata": {},
     "output_type": "execute_result"
    }
   ],
   "source": [
    "kanji_test.shape"
   ]
  },
  {
   "cell_type": "markdown",
   "metadata": {},
   "source": [
    "### Import & Read Katakana"
   ]
  },
  {
   "cell_type": "code",
   "execution_count": 11,
   "metadata": {
    "ExecuteTime": {
     "end_time": "2021-04-21T19:24:59.443988Z",
     "start_time": "2021-04-21T19:24:59.426009Z"
    }
   },
   "outputs": [],
   "source": [
    "kana_record = 2052"
   ]
  },
  {
   "cell_type": "code",
   "execution_count": 12,
   "metadata": {
    "ExecuteTime": {
     "end_time": "2021-04-21T19:24:59.769950Z",
     "start_time": "2021-04-21T19:24:59.750969Z"
    }
   },
   "outputs": [],
   "source": [
    "# Reading in the Katakana ETL1 File\n",
    "def read_ETL1(total_sheets, f):\n",
    "    s = f.read(kana_record)\n",
    "    r = struct.unpack('>H2sH6BI4H4B4x2016s4x', s)\n",
    "    iF = Image.frombytes('F', (64, 63), r[18], 'bit', 4)\n",
    "    iL = iF.convert('L')\n",
    "    return r + (iL,)"
   ]
  },
  {
   "cell_type": "code",
   "execution_count": 13,
   "metadata": {
    "ExecuteTime": {
     "end_time": "2021-04-21T19:25:00.519786Z",
     "start_time": "2021-04-21T19:25:00.499840Z"
    }
   },
   "outputs": [],
   "source": [
    "def read_katakana():\n",
    "    # Character type = 46, writers = 1411, y = 63, x = 64\n",
    "    katakana = np.zeros([46, 1411, 63, 64], dtype=np.uint8)\n",
    "    counter = 0\n",
    "    moji = 0\n",
    "    for k in range(7, 14):\n",
    "        filename = 'data/ETL1/ETL1C_{:02d}'.format(k)\n",
    "        with open(filename, 'rb') as f:\n",
    "            total_sheets = 0\n",
    "            categories = 8\n",
    "            if k == 13:\n",
    "                categories = 3\n",
    "            for j in range(categories):\n",
    "                incrimenter = 0\n",
    "                person = 0\n",
    "                sheets = 1411\n",
    "                if k == 9 and j == 4:\n",
    "                    sheets = 1410\n",
    "                elif k == 12 and j == 1:\n",
    "                    sheets = 1410\n",
    "                for i in range(sheets):\n",
    "                    r = read_ETL1(total_sheets, f)\n",
    "                    total_sheets += sheets\n",
    "                    if k < 11 or (k >= 11 and b' I' not in r[1] and b' E' not in r[1] and b'WI' not in r[1] and b' U' not in r[1] and b'WE' not in r[1]):\n",
    "                        pixels = np.array(r[-1])\n",
    "                        for row in pixels:\n",
    "                            for i in range(len(row)):\n",
    "                                if row[i] == 1 or row[i] == 2:\n",
    "                                    row[i] = 0\n",
    "                        katakana[moji, person] = pixels\n",
    "                        incrimenter = 1\n",
    "                        person += 1\n",
    "                moji += incrimenter\n",
    "    np.savez_compressed('data/katakana.npz', katakana)"
   ]
  },
  {
   "cell_type": "code",
   "execution_count": 14,
   "metadata": {
    "ExecuteTime": {
     "end_time": "2021-04-21T19:25:01.427361Z",
     "start_time": "2021-04-21T19:25:01.415395Z"
    }
   },
   "outputs": [],
   "source": [
    "# read_katakana()"
   ]
  },
  {
   "cell_type": "code",
   "execution_count": 15,
   "metadata": {
    "ExecuteTime": {
     "end_time": "2021-04-21T19:25:02.498922Z",
     "start_time": "2021-04-21T19:25:01.819433Z"
    }
   },
   "outputs": [],
   "source": [
    "katakana_data = np.load('data/katakana.npz')\n",
    "kana_test = katakana_data.f.arr_0"
   ]
  },
  {
   "cell_type": "code",
   "execution_count": 16,
   "metadata": {
    "ExecuteTime": {
     "end_time": "2021-04-21T19:25:03.495935Z",
     "start_time": "2021-04-21T19:25:03.490949Z"
    }
   },
   "outputs": [
    {
     "data": {
      "text/plain": [
       "(46, 1411, 63, 64)"
      ]
     },
     "execution_count": 16,
     "metadata": {},
     "output_type": "execute_result"
    }
   ],
   "source": [
    "kana_test.shape"
   ]
  },
  {
   "cell_type": "markdown",
   "metadata": {},
   "source": [
    "## Visualizing Characters"
   ]
  },
  {
   "cell_type": "markdown",
   "metadata": {},
   "source": [
    "### Visualizing Hiragana"
   ]
  },
  {
   "cell_type": "code",
   "execution_count": 17,
   "metadata": {
    "ExecuteTime": {
     "end_time": "2021-04-21T19:25:05.396976Z",
     "start_time": "2021-04-21T19:25:05.383014Z"
    }
   },
   "outputs": [],
   "source": [
    "# Visualizing Hiragana\n",
    "def visualize_hiragana():\n",
    "    for j in range(1, 2):\n",
    "        filename = 'data/ETL8G/ETL8G_{:02d}'.format(j)\n",
    "        with open(filename, 'rb') as f:\n",
    "            for id_dataset in range(1):\n",
    "                new_img = Image.new('L', (128*32, 128*30))\n",
    "                for i in range(956):\n",
    "                    r = read_ETL8G(f)\n",
    "                    if b'.HIRA' in r[2]:\n",
    "                        print(r[:4])"
   ]
  },
  {
   "cell_type": "code",
   "execution_count": 18,
   "metadata": {
    "ExecuteTime": {
     "end_time": "2021-04-21T19:25:06.311642Z",
     "start_time": "2021-04-21T19:25:05.997428Z"
    },
    "scrolled": true
   },
   "outputs": [
    {
     "name": "stdout",
     "output_type": "stream",
     "text": [
      "(1, 9250, b'A.HIRA  ', 1)\n",
      "(1, 9252, b'I.HIRA  ', 16)\n",
      "(1, 9254, b'U.HIRA  ', 31)\n",
      "(1, 9256, b'E.HIRA  ', 46)\n",
      "(1, 9258, b'O.HIRA  ', 61)\n",
      "(1, 9259, b'KA.HIRA ', 76)\n",
      "(1, 19007, b'HEI.HIRA', 83)\n",
      "(1, 9260, b'GA.HIRA ', 91)\n",
      "(2, 9261, b'KI.HIRA ', 1)\n",
      "(2, 9262, b'GI.HIRA ', 16)\n",
      "(2, 9263, b'KU.HIRA ', 31)\n",
      "(2, 9264, b'GU.HIRA ', 46)\n",
      "(2, 9265, b'KE.HIRA ', 61)\n",
      "(2, 9266, b'GE.HIRA ', 76)\n",
      "(2, 9267, b'KO.HIRA ', 91)\n",
      "(3, 9268, b'GO.HIRA ', 193)\n",
      "(3, 9269, b'SA.HIRA ', 208)\n",
      "(3, 9270, b'ZA.HIRA ', 223)\n",
      "(3, 9271, b'SHI.HIRA', 238)\n",
      "(3, 9272, b'JI.HIRA ', 253)\n",
      "(3, 9273, b'SU.HIRA ', 268)\n",
      "(3, 9274, b'ZU.HIRA ', 283)\n",
      "(4, 9275, b'SE.HIRA ', 289)\n",
      "(4, 9276, b'ZE.HIRA ', 304)\n",
      "(4, 9277, b'SO.HIRA ', 319)\n",
      "(4, 9278, b'ZO.HIRA ', 334)\n",
      "(4, 9279, b'TA.HIRA ', 349)\n",
      "(4, 9280, b'DA.HIRA ', 364)\n",
      "(4, 9281, b'CHI.HIRA', 378)\n",
      "(5, 9282, b'JI.HIRA ', 385)\n",
      "(5, 9284, b'TSU.HIRA', 400)\n",
      "(5, 9285, b'ZU.HIRA ', 415)\n",
      "(5, 9286, b'TE.HIRA ', 430)\n",
      "(5, 9287, b'DE.HIRA ', 445)\n",
      "(5, 9288, b'TO.HIRA ', 460)\n",
      "(5, 9289, b'DO.HIRA ', 475)\n",
      "(6, 9290, b'NA.HIRA ', 480)\n",
      "(6, 9291, b'NI.HIRA ', 495)\n",
      "(6, 9292, b'NU.HIRA ', 510)\n",
      "(6, 9293, b'NE.HIRA ', 525)\n",
      "(6, 9294, b'NO.HIRA ', 540)\n",
      "(6, 9295, b'HA.HIRA ', 555)\n",
      "(6, 9296, b'BA.HIRA ', 570)\n",
      "(7, 9297, b'PA.HIRA ', 576)\n",
      "(7, 9298, b'HI.HIRA ', 591)\n",
      "(7, 9299, b'BI.HIRA ', 606)\n",
      "(7, 9300, b'PI.HIRA ', 621)\n",
      "(7, 9301, b'FU.HIRA ', 636)\n",
      "(7, 9302, b'BU.HIRA ', 651)\n",
      "(7, 9303, b'PU.HIRA ', 666)\n",
      "(8, 9304, b'HE.HIRA ', 671)\n",
      "(8, 9305, b'BE.HIRA ', 686)\n",
      "(8, 9306, b'PE.HIRA ', 701)\n",
      "(8, 9307, b'HO.HIRA ', 716)\n",
      "(8, 9308, b'BO.HIRA ', 731)\n",
      "(8, 9309, b'PO.HIRA ', 746)\n",
      "(8, 9310, b'MA.HIRA ', 761)\n",
      "(9, 9311, b'MI.HIRA ', 766)\n",
      "(9, 9312, b'MU.HIRA ', 781)\n",
      "(9, 9313, b'ME.HIRA ', 796)\n",
      "(9, 9314, b'MO.HIRA ', 811)\n",
      "(9, 9316, b'YA.HIRA ', 826)\n",
      "(9, 9318, b'YU.HIRA ', 841)\n",
      "(9, 9320, b'YO.HIRA ', 856)\n",
      "(10, 9321, b'RA.HIRA ', 861)\n",
      "(10, 13099, b'KAI.HIRA', 870)\n",
      "(10, 9322, b'RI.HIRA ', 876)\n",
      "(10, 9323, b'RU.HIRA ', 891)\n",
      "(10, 9324, b'RE.HIRA ', 906)\n",
      "(10, 9325, b'RO.HIRA ', 921)\n",
      "(10, 9327, b'WA.HIRA ', 936)\n",
      "(10, 9331, b'N.HIRA  ', 956)\n"
     ]
    }
   ],
   "source": [
    "visualize_hiragana()"
   ]
  },
  {
   "cell_type": "code",
   "execution_count": 19,
   "metadata": {
    "ExecuteTime": {
     "end_time": "2021-04-21T19:25:06.533708Z",
     "start_time": "2021-04-21T19:25:06.519747Z"
    }
   },
   "outputs": [],
   "source": [
    "def one_kana():\n",
    "    filename = 'data/ETL8G/ETL8G_01'\n",
    "    counter = 0\n",
    "    with open(filename, 'rb') as f:\n",
    "        for id_dataset in range(5):\n",
    "            for i in range(956):\n",
    "                r = read_ETL8G(f)\n",
    "                if b'.WO.' in r[2]:\n",
    "                    iE = Image.eval(r[-1], lambda x: 255-x*16)\n",
    "                    fn = 'kana_visualization.png'.format((r[0]-1)%20+1, hex(r[1])[-4:])\n",
    "                    # iE.save(fn, 'PNG')"
   ]
  },
  {
   "cell_type": "code",
   "execution_count": 20,
   "metadata": {
    "ExecuteTime": {
     "end_time": "2021-04-21T19:25:07.772089Z",
     "start_time": "2021-04-21T19:25:07.262257Z"
    }
   },
   "outputs": [],
   "source": [
    "one_kana()"
   ]
  },
  {
   "cell_type": "markdown",
   "metadata": {},
   "source": [
    "- Kana Sample Visualization ![kana](img/kana_visualization.png)"
   ]
  },
  {
   "cell_type": "markdown",
   "metadata": {},
   "source": [
    "### Visualizing Kanji"
   ]
  },
  {
   "cell_type": "code",
   "execution_count": null,
   "metadata": {
    "ExecuteTime": {
     "end_time": "2021-04-21T14:19:05.664317Z",
     "start_time": "2021-04-21T14:19:05.658333Z"
    }
   },
   "outputs": [],
   "source": [
    "def visualize_kanji():\n",
    "    for j in range(1, 2):\n",
    "        filename = 'data/ETL8G/ETL8G_{:02d}'.format(j)\n",
    "        with open(filename, 'rb') as f:\n",
    "            for id_dataset in range(1):\n",
    "                new_img = Image.new('L', (128*32, 128*30))\n",
    "                for i in range(956):\n",
    "                    r = read_ETL8G(f)\n",
    "                    if not (b'.HIRA' in r[2] or b'.WO.' in r[2]):\n",
    "                        print(r[:4])"
   ]
  },
  {
   "cell_type": "code",
   "execution_count": null,
   "metadata": {
    "ExecuteTime": {
     "end_time": "2021-04-21T14:19:06.786383Z",
     "start_time": "2021-04-21T14:19:06.506133Z"
    }
   },
   "outputs": [],
   "source": [
    "visualize_kanji()"
   ]
  },
  {
   "cell_type": "code",
   "execution_count": 21,
   "metadata": {
    "ExecuteTime": {
     "end_time": "2021-04-21T19:25:14.816944Z",
     "start_time": "2021-04-21T19:25:14.800987Z"
    }
   },
   "outputs": [],
   "source": [
    "def one_kanji():\n",
    "    filename = 'data/ETL8G/ETL8G_01'\n",
    "    counter = 0\n",
    "    with open(filename, 'rb') as f:\n",
    "        for id_dataset in range(5):\n",
    "            for i in range(956):\n",
    "                r = read_ETL8G(f)\n",
    "                if not (b'.HIRA' in r[2] or b'.WO.' in r[2]):\n",
    "                    iE = Image.eval(r[-1], lambda x: 255-x*16)\n",
    "                    fn = 'kanji_visualization.png'.format((r[0]-1)%20+1, hex(r[1])[-4:])\n",
    "                    # iE.save(fn, 'PNG')"
   ]
  },
  {
   "cell_type": "code",
   "execution_count": 22,
   "metadata": {
    "ExecuteTime": {
     "end_time": "2021-04-21T19:25:15.863642Z",
     "start_time": "2021-04-21T19:25:15.060817Z"
    }
   },
   "outputs": [],
   "source": [
    "one_kanji()"
   ]
  },
  {
   "cell_type": "markdown",
   "metadata": {
    "ExecuteTime": {
     "end_time": "2021-04-20T17:26:30.969721Z",
     "start_time": "2021-04-20T17:26:30.749589Z"
    }
   },
   "source": [
    "- Kanji Sample Visualization: ![kanji](img/kanji_visualization.png)"
   ]
  },
  {
   "cell_type": "markdown",
   "metadata": {},
   "source": [
    "## Feature Engineering"
   ]
  },
  {
   "cell_type": "markdown",
   "metadata": {},
   "source": [
    "- The image dimensions need to be resized for the ML model to work on them. Resizing to 64x64 is an option, but for processing speed and time they will instead be resized to 32x32 pixels."
   ]
  },
  {
   "cell_type": "markdown",
   "metadata": {},
   "source": [
    "### Resizing Hiragana Images"
   ]
  },
  {
   "cell_type": "code",
   "execution_count": 23,
   "metadata": {
    "ExecuteTime": {
     "end_time": "2021-04-21T19:25:20.771073Z",
     "start_time": "2021-04-21T19:25:20.761098Z"
    }
   },
   "outputs": [],
   "source": [
    "# 71 unique classes of hiragana (including dipthongs)\n",
    "hiragana_class = 71\n",
    "\n",
    "# Image dimensions\n",
    "img_row, img_col = 48, 48"
   ]
  },
  {
   "cell_type": "code",
   "execution_count": 24,
   "metadata": {
    "ExecuteTime": {
     "end_time": "2021-04-21T19:25:23.344016Z",
     "start_time": "2021-04-21T19:25:22.449866Z"
    }
   },
   "outputs": [],
   "source": [
    "hiragana_table = np.load('data/hiragana.npz')['arr_0'].reshape([-1, 127, 128]).astype(np.float32)\n",
    "hiragana_table = hiragana_table/np.max(hiragana_table)"
   ]
  },
  {
   "cell_type": "code",
   "execution_count": 25,
   "metadata": {
    "ExecuteTime": {
     "end_time": "2021-04-21T19:25:34.304019Z",
     "start_time": "2021-04-21T19:25:24.304268Z"
    }
   },
   "outputs": [],
   "source": [
    "hiragana_train = np.zeros([hiragana_class * 160, img_row, img_col], dtype = np.float32)\n",
    "\n",
    "for i in range(hiragana_class * 160):\n",
    "    hiragana_train[i] = skimage.transform.resize(hiragana_table[i], (img_row, img_col))"
   ]
  },
  {
   "cell_type": "markdown",
   "metadata": {},
   "source": [
    "### Resizing Kanji Images"
   ]
  },
  {
   "cell_type": "code",
   "execution_count": 26,
   "metadata": {
    "ExecuteTime": {
     "end_time": "2021-04-21T19:25:37.451038Z",
     "start_time": "2021-04-21T19:25:37.442062Z"
    }
   },
   "outputs": [],
   "source": [
    "# 879 unique classes of kanji (most daily used kanji)\n",
    "kanji_class = 873"
   ]
  },
  {
   "cell_type": "code",
   "execution_count": 150,
   "metadata": {
    "ExecuteTime": {
     "end_time": "2021-04-22T03:25:29.666049Z",
     "start_time": "2021-04-22T03:05:29.232502Z"
    }
   },
   "outputs": [],
   "source": [
    "kanji_table = np.load('data/kanji.npz')['arr_0'].reshape([-1, 127, 128]).astype(np.float32)\n",
    "kanji_table = kanji_table/np.max(kanji_table)"
   ]
  },
  {
   "cell_type": "markdown",
   "metadata": {},
   "source": [
    "- The kanji and hiragana characters share the ECT8 dataset, and they are not intuitively arranged. This accounts for this so hiragana are not mistakenly classified as kanji characters."
   ]
  },
  {
   "cell_type": "code",
   "execution_count": 151,
   "metadata": {
    "ExecuteTime": {
     "end_time": "2021-04-22T03:43:08.575914Z",
     "start_time": "2021-04-22T03:42:17.563506Z"
    }
   },
   "outputs": [],
   "source": [
    "kanji_train = np.zeros([kanji_class * 160, img_row, img_col], dtype = np.float32)\n",
    "\n",
    "for i in range((kanji_class + 4) * 160):\n",
    "    if int(i / 160) != 88 and int( i / 160) != 219 and int( i / 160) != 349 and int( i / 160) != 457:\n",
    "        if int(i / 160) < 88:\n",
    "            kanji_train[i] = skimage.transform.resize(kanji_table[i], (img_row, img_col))\n",
    "        if int(i/160) > 88 and int(i/160) < 219:\n",
    "            kanji_train[i-160] = skimage.transform.resize(kanji_table[i], (img_row, img_col))\n",
    "        if int(i/160) > 219 and int(i/160) < 349:\n",
    "            kanji_train[i-320] = skimage.transform.resize(kanji_table[i], (img_row, img_col))\n",
    "        if int(i/160) > 349 and int(i/160) < 457:\n",
    "            if int(i/160) > 457:\n",
    "                kanji_train[i-640] = skimage.transform.resize(kanji_table[i], (img_row, img_col))"
   ]
  },
  {
   "cell_type": "markdown",
   "metadata": {},
   "source": [
    "### Resizing Katakana Images"
   ]
  },
  {
   "cell_type": "code",
   "execution_count": 29,
   "metadata": {
    "ExecuteTime": {
     "end_time": "2021-04-21T19:29:44.030129Z",
     "start_time": "2021-04-21T19:29:44.019159Z"
    }
   },
   "outputs": [],
   "source": [
    "# 71 frequently used katakana characters (including dipthongs)\n",
    "katakana_class = 46"
   ]
  },
  {
   "cell_type": "code",
   "execution_count": 30,
   "metadata": {
    "ExecuteTime": {
     "end_time": "2021-04-21T19:29:47.708280Z",
     "start_time": "2021-04-21T19:29:45.022939Z"
    }
   },
   "outputs": [],
   "source": [
    "katakana_table = np.load('data/katakana.npz')['arr_0'].reshape([-1, 63, 64]).astype(np.float32)\n",
    "katakana_table = katakana_table/np.max(katakana_table)"
   ]
  },
  {
   "cell_type": "code",
   "execution_count": 31,
   "metadata": {
    "ExecuteTime": {
     "end_time": "2021-04-21T19:31:14.049013Z",
     "start_time": "2021-04-21T19:30:27.669165Z"
    }
   },
   "outputs": [],
   "source": [
    "katakana_train = np.zeros([katakana_class * 1411, img_row, img_col], dtype = np.float32)\n",
    "\n",
    "for i in range(katakana_class * 1411):\n",
    "    katakana_train[i] = skimage.transform.resize(katakana_table[i], (img_row, img_col))"
   ]
  },
  {
   "cell_type": "markdown",
   "metadata": {},
   "source": [
    "## Model Preparation"
   ]
  },
  {
   "cell_type": "markdown",
   "metadata": {},
   "source": [
    "### Creating Labels"
   ]
  },
  {
   "cell_type": "code",
   "execution_count": 32,
   "metadata": {
    "ExecuteTime": {
     "end_time": "2021-04-21T19:31:21.653776Z",
     "start_time": "2021-04-21T19:31:21.643803Z"
    }
   },
   "outputs": [],
   "source": [
    "y_labels_hiragana = np.repeat(np.arange(hiragana_class), 160)\n",
    "y_labels_kanji = np.repeat(np.arange(kanji_class), 160)\n",
    "y_labels_katakana = np.repeat(np.arange(katakana_class), 1411)"
   ]
  },
  {
   "cell_type": "markdown",
   "metadata": {},
   "source": [
    "### Train-Test Split"
   ]
  },
  {
   "cell_type": "markdown",
   "metadata": {},
   "source": [
    "#### Hiragana Train-Test Split"
   ]
  },
  {
   "cell_type": "code",
   "execution_count": 33,
   "metadata": {
    "ExecuteTime": {
     "end_time": "2021-04-21T19:31:23.798577Z",
     "start_time": "2021-04-21T19:31:23.280330Z"
    }
   },
   "outputs": [],
   "source": [
    "hiragana_train, hiragana_test, hiragana_labels, hiragana_test_labels = train_test_split(\n",
    "                                                    hiragana_train,\n",
    "                                                    y_labels_hiragana,\n",
    "                                                    random_state=42,\n",
    "                                                    test_size=0.2)"
   ]
  },
  {
   "cell_type": "markdown",
   "metadata": {},
   "source": [
    "#### Kanji Train-Test Split"
   ]
  },
  {
   "cell_type": "code",
   "execution_count": 152,
   "metadata": {
    "ExecuteTime": {
     "end_time": "2021-04-22T03:49:33.645373Z",
     "start_time": "2021-04-22T03:49:31.442319Z"
    }
   },
   "outputs": [],
   "source": [
    "kanji_train, kanji_test, kanji_labels, kanji_test_labels = train_test_split(\n",
    "                                                    kanji_train,\n",
    "                                                    y_labels_kanji,\n",
    "                                                    random_state=42,\n",
    "                                                    test_size=0.3)"
   ]
  },
  {
   "cell_type": "markdown",
   "metadata": {},
   "source": [
    "#### Katakana Train-Test Split"
   ]
  },
  {
   "cell_type": "code",
   "execution_count": 35,
   "metadata": {
    "ExecuteTime": {
     "end_time": "2021-04-21T19:31:26.210143Z",
     "start_time": "2021-04-21T19:31:26.004695Z"
    }
   },
   "outputs": [],
   "source": [
    "katakana_train, katakana_test, katakana_labels, katakana_test_labels = train_test_split(\n",
    "                                                    katakana_train,\n",
    "                                                    y_labels_katakana,\n",
    "                                                    random_state=42,\n",
    "                                                    test_size=0.2)"
   ]
  },
  {
   "cell_type": "markdown",
   "metadata": {},
   "source": [
    "### Multiclass Classification"
   ]
  },
  {
   "cell_type": "markdown",
   "metadata": {},
   "source": [
    "- For classification of multiple input types and target variables, we need to create a cross-validation set as well as OneHotEncode our y values (y_train, y_test, y_val)"
   ]
  },
  {
   "cell_type": "markdown",
   "metadata": {},
   "source": [
    "#### Hiragana Multiclass Preparation"
   ]
  },
  {
   "cell_type": "code",
   "execution_count": 37,
   "metadata": {
    "ExecuteTime": {
     "end_time": "2021-04-21T19:33:32.023514Z",
     "start_time": "2021-04-21T19:33:31.929766Z"
    }
   },
   "outputs": [],
   "source": [
    "# Labels are our y values\n",
    "hira_X_train, hira_X_val, hira_y_train, hira_y_val =\\\n",
    "    train_test_split(hiragana_train, hiragana_labels, random_state = 42, test_size = 0.2)\n",
    "\n",
    "hira_X_train, hira_X_val, hira_X_test = hira_X_train/np.max(hira_X_train), hira_X_val/np.max(hira_X_val),\\\n",
    "                                        hiragana_test/np.max(hiragana_test)"
   ]
  },
  {
   "cell_type": "code",
   "execution_count": 38,
   "metadata": {
    "ExecuteTime": {
     "end_time": "2021-04-21T19:33:44.254521Z",
     "start_time": "2021-04-21T19:33:44.234575Z"
    }
   },
   "outputs": [
    {
     "data": {
      "text/plain": [
       "(1818, 48, 48)"
      ]
     },
     "execution_count": 38,
     "metadata": {},
     "output_type": "execute_result"
    }
   ],
   "source": [
    "hira_X_val.shape"
   ]
  },
  {
   "cell_type": "code",
   "execution_count": 39,
   "metadata": {
    "ExecuteTime": {
     "end_time": "2021-04-21T19:33:46.902389Z",
     "start_time": "2021-04-21T19:33:46.681587Z"
    },
    "scrolled": false
   },
   "outputs": [],
   "source": [
    "hiragana_ohe = OneHotEncoder(sparse = False, handle_unknown = 'ignore')\n",
    "hira_y_train = hiragana_ohe.fit_transform(hira_y_train.reshape(-1, 1))\n",
    "hira_y_val = hiragana_ohe.transform(hira_y_val.reshape(-1, 1))\n",
    "hira_y_test = hiragana_ohe.transform(hiragana_test_labels.reshape(-1, 1))"
   ]
  },
  {
   "cell_type": "markdown",
   "metadata": {},
   "source": [
    "#### Kanji Multiclass Preparation"
   ]
  },
  {
   "cell_type": "code",
   "execution_count": 153,
   "metadata": {
    "ExecuteTime": {
     "end_time": "2021-04-22T03:49:39.934455Z",
     "start_time": "2021-04-22T03:49:39.029861Z"
    }
   },
   "outputs": [],
   "source": [
    "# Labels are our y values\n",
    "kanji_X_train, kanji_X_val, kanji_y_train, kanji_y_val =\\\n",
    "    train_test_split(kanji_train, kanji_labels, random_state = 42, test_size = 0.3)\n",
    "\n",
    "kanji_X_train, kanji_X_val, kanji_X_test = kanji_X_train/np.max(kanji_X_train), kanji_X_val/np.max(kanji_X_val),\\\n",
    "                                           kanji_test/np.max(kanji_test)"
   ]
  },
  {
   "cell_type": "code",
   "execution_count": 154,
   "metadata": {
    "ExecuteTime": {
     "end_time": "2021-04-22T03:50:05.536430Z",
     "start_time": "2021-04-22T03:50:04.013911Z"
    }
   },
   "outputs": [],
   "source": [
    "kanji_ohe = OneHotEncoder(sparse = False, handle_unknown = 'ignore')\n",
    "kanji_y_train = kanji_ohe.fit_transform(kanji_y_train.reshape(-1, 1))\n",
    "kanji_y_val = kanji_ohe.transform(kanji_y_val.reshape(-1, 1))\n",
    "kanji_y_test = kanji_ohe.transform(kanji_test_labels.reshape(-1, 1))"
   ]
  },
  {
   "cell_type": "markdown",
   "metadata": {},
   "source": [
    "#### Katakana Multiclass Preparation"
   ]
  },
  {
   "cell_type": "code",
   "execution_count": 43,
   "metadata": {
    "ExecuteTime": {
     "end_time": "2021-04-21T19:35:00.578728Z",
     "start_time": "2021-04-21T19:35:00.166128Z"
    }
   },
   "outputs": [],
   "source": [
    "# Labels are our y values\n",
    "katakana_X_train, katakana_X_val, katakana_y_train, katakana_y_val =\\\n",
    "    train_test_split(katakana_train, katakana_labels, random_state = 42, test_size = 0.2)\n",
    "\n",
    "katakana_X_train, katakana_X_val, katakana_X_test = katakana_X_train/np.max(katakana_X_train),\\\n",
    "                                                katakana_X_val/np.max(katakana_X_val), katakana_test/np.max(katakana_test)"
   ]
  },
  {
   "cell_type": "code",
   "execution_count": 44,
   "metadata": {
    "ExecuteTime": {
     "end_time": "2021-04-21T19:35:03.180511Z",
     "start_time": "2021-04-21T19:35:03.151555Z"
    }
   },
   "outputs": [],
   "source": [
    "katakana_ohe = OneHotEncoder(sparse = False, handle_unknown = 'ignore')\n",
    "katakana_y_train = katakana_ohe.fit_transform(katakana_y_train.reshape(-1, 1))\n",
    "katakana_y_val = katakana_ohe.transform(katakana_y_val.reshape(-1, 1))\n",
    "katakana_y_test = katakana_ohe.transform(katakana_test_labels.reshape(-1, 1))"
   ]
  },
  {
   "cell_type": "markdown",
   "metadata": {},
   "source": [
    "### Adding Variation with ImageDataGenerator"
   ]
  },
  {
   "cell_type": "markdown",
   "metadata": {},
   "source": [
    "- Tensorflow's ImageDataGenerator can augment images to create new vesions of the data, essentially artificially inserting variation into the data\n",
    "- Images can be rotated, zoomed, and flipped\n",
    "- This variation is used to avoid overfitting on the training set\n",
    "- Following augmentation is for a 2D CNN"
   ]
  },
  {
   "cell_type": "markdown",
   "metadata": {},
   "source": [
    "#### Hiragana Augmentation"
   ]
  },
  {
   "cell_type": "code",
   "execution_count": 45,
   "metadata": {
    "ExecuteTime": {
     "end_time": "2021-04-21T19:35:11.731087Z",
     "start_time": "2021-04-21T19:35:11.679220Z"
    }
   },
   "outputs": [],
   "source": [
    "if K.image_data_format() == 'channels_first':\n",
    "    hira_X_train = hira_X_train.reshape(hira_X_train.shape[0], 1, img_row, img_col)\n",
    "    hira_X_test = hira_X_test.reshape(hira_X_test.shape[0], 1, img_row, img_col)\n",
    "    hira_X_val = hira_X_val.reshape(hira_X_val.shape[0], 1, img_row, img_col)\n",
    "    hira_shape = (1, img_row, img_col) \n",
    "else:\n",
    "    hira_X_train = hira_X_train.reshape(hira_X_train.shape[0], img_row, img_col, 1)\n",
    "    hira_X_test = hira_X_test.reshape(hira_X_test.shape[0], img_row, img_col, 1)\n",
    "    hira_X_val = hira_X_val.reshape(hira_X_val.shape[0], img_row, img_col, 1)\n",
    "    hira_shape = (img_row, img_col, 1) # For CNN\n",
    "\n",
    "hiragana_datagen = ImageDataGenerator(rotation_range = 15, zoom_range = 0.2)\n",
    "\n",
    "hiragana_datagen.fit(hira_X_train)"
   ]
  },
  {
   "cell_type": "code",
   "execution_count": 98,
   "metadata": {
    "ExecuteTime": {
     "end_time": "2021-04-22T00:18:25.140593Z",
     "start_time": "2021-04-22T00:18:25.122614Z"
    }
   },
   "outputs": [
    {
     "data": {
      "text/plain": [
       "(7270, 48, 48, 1)"
      ]
     },
     "execution_count": 98,
     "metadata": {},
     "output_type": "execute_result"
    }
   ],
   "source": [
    "hira_X_train.shape"
   ]
  },
  {
   "cell_type": "code",
   "execution_count": 99,
   "metadata": {
    "ExecuteTime": {
     "end_time": "2021-04-22T00:18:25.884689Z",
     "start_time": "2021-04-22T00:18:25.869729Z"
    }
   },
   "outputs": [
    {
     "data": {
      "text/plain": [
       "(1818, 48, 48, 1)"
      ]
     },
     "execution_count": 99,
     "metadata": {},
     "output_type": "execute_result"
    }
   ],
   "source": [
    "hira_X_val.shape"
   ]
  },
  {
   "cell_type": "markdown",
   "metadata": {},
   "source": [
    "#### Kanji Augmentation"
   ]
  },
  {
   "cell_type": "code",
   "execution_count": 155,
   "metadata": {
    "ExecuteTime": {
     "end_time": "2021-04-22T03:50:13.305348Z",
     "start_time": "2021-04-22T03:50:12.548608Z"
    }
   },
   "outputs": [],
   "source": [
    "if K.image_data_format() == 'channels_first':\n",
    "    kanji_X_train = kanji_X_train.reshape(kanji_X_train.shape[0], 1, img_row, img_col)\n",
    "    kanji_X_test = kanji_X_test.reshape(kanji_X_test.shape[0], 1, img_row, img_col)\n",
    "    kanji_X_val = kanji_X_val.reshape(kanji_X_val.shape[0], 1, img_row, img_col)\n",
    "    kanji_shape = (1, img_row, img_col) \n",
    "else:\n",
    "    kanji_X_train = kanji_X_train.reshape(kanji_X_train.shape[0], img_row, img_col, 1)\n",
    "    kanji_X_test = kanji_X_test.reshape(kanji_X_test.shape[0], img_row, img_col, 1)\n",
    "    kanji_X_val = kanji_X_val.reshape(kanji_X_val.shape[0], img_row, img_col, 1)\n",
    "    kanji_shape = (img_row, img_col, 1) # For CNN\n",
    "\n",
    "kanji_datagen = ImageDataGenerator(rotation_range = 15, zoom_range = 0.2)\n",
    "\n",
    "kanji_datagen.fit(kanji_X_train)"
   ]
  },
  {
   "cell_type": "code",
   "execution_count": 156,
   "metadata": {
    "ExecuteTime": {
     "end_time": "2021-04-22T03:50:14.464665Z",
     "start_time": "2021-04-22T03:50:14.063447Z"
    },
    "scrolled": true
   },
   "outputs": [
    {
     "data": {
      "text/plain": [
       "(68443, 48, 48, 1)"
      ]
     },
     "execution_count": 156,
     "metadata": {},
     "output_type": "execute_result"
    }
   ],
   "source": [
    "kanji_X_train.shape"
   ]
  },
  {
   "cell_type": "code",
   "execution_count": 157,
   "metadata": {
    "ExecuteTime": {
     "end_time": "2021-04-22T03:50:15.197668Z",
     "start_time": "2021-04-22T03:50:15.183705Z"
    }
   },
   "outputs": [
    {
     "data": {
      "text/plain": [
       "(29333, 48, 48, 1)"
      ]
     },
     "execution_count": 157,
     "metadata": {},
     "output_type": "execute_result"
    }
   ],
   "source": [
    "kanji_X_val.shape"
   ]
  },
  {
   "cell_type": "markdown",
   "metadata": {},
   "source": [
    "#### Katakana Augmentation"
   ]
  },
  {
   "cell_type": "code",
   "execution_count": 51,
   "metadata": {
    "ExecuteTime": {
     "end_time": "2021-04-21T19:35:41.172458Z",
     "start_time": "2021-04-21T19:35:41.052736Z"
    }
   },
   "outputs": [],
   "source": [
    "if K.image_data_format() == 'channels_first':\n",
    "    katakana_X_train = katakana_X_train.reshape(katakana_X_train.shape[0], 1, img_row, img_col)\n",
    "    katakana_X_test = katakana_X_test.reshape(katakana_X_test.shape[0], 1, img_row, img_col)\n",
    "    katakana_X_val = katakana_X_val.reshape(katakana_X_val.shape[0], 1, img_row, img_col)\n",
    "    katakana_shape = (1, img_row, img_col) \n",
    "else:\n",
    "    katakana_X_train = katakana_X_train.reshape(katakana_X_train.shape[0], img_row, img_col, 1)\n",
    "    katakana_X_test = katakana_X_test.reshape(katakana_X_test.shape[0], img_row, img_col, 1)\n",
    "    katakana_X_val = katakana_X_val.reshape(katakana_X_val.shape[0], img_row, img_col, 1)\n",
    "    katakana_shape = (img_row, img_col, 1) # For CNN\n",
    "\n",
    "katakana_datagen = ImageDataGenerator(rotation_range = 15, zoom_range = 0.2)\n",
    "\n",
    "katakana_datagen.fit(katakana_X_train)"
   ]
  },
  {
   "cell_type": "code",
   "execution_count": 100,
   "metadata": {
    "ExecuteTime": {
     "end_time": "2021-04-22T00:18:31.496497Z",
     "start_time": "2021-04-22T00:18:31.487521Z"
    },
    "scrolled": false
   },
   "outputs": [
    {
     "data": {
      "text/plain": [
       "(41539, 48, 48, 1)"
      ]
     },
     "execution_count": 100,
     "metadata": {},
     "output_type": "execute_result"
    }
   ],
   "source": [
    "katakana_X_train.shape"
   ]
  },
  {
   "cell_type": "code",
   "execution_count": 101,
   "metadata": {
    "ExecuteTime": {
     "end_time": "2021-04-22T00:18:32.231153Z",
     "start_time": "2021-04-22T00:18:32.222180Z"
    }
   },
   "outputs": [
    {
     "data": {
      "text/plain": [
       "(10385, 48, 48, 1)"
      ]
     },
     "execution_count": 101,
     "metadata": {},
     "output_type": "execute_result"
    }
   ],
   "source": [
    "katakana_X_val.shape"
   ]
  },
  {
   "cell_type": "markdown",
   "metadata": {},
   "source": [
    "## Final Visualization Tables"
   ]
  },
  {
   "cell_type": "markdown",
   "metadata": {},
   "source": [
    "- Checking that our finalized data was extracted and correctly, and is readable in the correct visual format."
   ]
  },
  {
   "cell_type": "markdown",
   "metadata": {},
   "source": [
    "### Hiragana Table"
   ]
  },
  {
   "cell_type": "code",
   "execution_count": 54,
   "metadata": {
    "ExecuteTime": {
     "end_time": "2021-04-21T19:35:48.502865Z",
     "start_time": "2021-04-21T19:35:47.379735Z"
    }
   },
   "outputs": [
    {
     "data": {
      "image/png": "[encoded data removed]",
      "text/plain": [
       "<Figure size 432x432 with 25 Axes>"
      ]
     },
     "metadata": {},
     "output_type": "display_data"
    }
   ],
   "source": [
    "plt.figure(figsize = (6, 6)).patch.set_facecolor('black')\n",
    "for i in range(25):\n",
    "    plt.subplot(5, 5, i+1)\n",
    "    plt.xticks([])\n",
    "    plt.yticks([])\n",
    "    plt.grid(False)\n",
    "    plt.imshow(hira_X_train[i], cmap = plt.cm.binary)\n",
    "plt.show();"
   ]
  },
  {
   "cell_type": "markdown",
   "metadata": {},
   "source": [
    "### Kanji Table"
   ]
  },
  {
   "cell_type": "code",
   "execution_count": 158,
   "metadata": {
    "ExecuteTime": {
     "end_time": "2021-04-22T03:50:24.862054Z",
     "start_time": "2021-04-22T03:50:21.566983Z"
    }
   },
   "outputs": [
    {
     "data": {
      "image/png": "[encoded data removed]",
      "text/plain": [
       "<Figure size 432x432 with 25 Axes>"
      ]
     },
     "metadata": {},
     "output_type": "display_data"
    }
   ],
   "source": [
    "plt.figure(figsize = (6, 6)).patch.set_facecolor('black')\n",
    "for i in range(25):\n",
    "    plt.subplot(5, 5, i+1)\n",
    "    plt.xticks([])\n",
    "    plt.yticks([])\n",
    "    plt.grid(False)\n",
    "    plt.imshow(kanji_X_train[i], cmap = plt.cm.binary)\n",
    "plt.show();"
   ]
  },
  {
   "cell_type": "markdown",
   "metadata": {},
   "source": [
    "### Katakana Table"
   ]
  },
  {
   "cell_type": "code",
   "execution_count": 56,
   "metadata": {
    "ExecuteTime": {
     "end_time": "2021-04-21T19:35:53.594241Z",
     "start_time": "2021-04-21T19:35:52.769498Z"
    },
    "scrolled": true
   },
   "outputs": [
    {
     "data": {
      "image/png": "[encoded data removed]",
      "text/plain": [
       "<Figure size 432x432 with 25 Axes>"
      ]
     },
     "metadata": {},
     "output_type": "display_data"
    }
   ],
   "source": [
    "plt.figure(figsize = (6, 6)).patch.set_facecolor('black')\n",
    "for i in range(25):\n",
    "    plt.subplot(5, 5, i+1)\n",
    "    plt.xticks([])\n",
    "    plt.yticks([])\n",
    "    plt.grid(False)\n",
    "    plt.imshow(katakana_X_train[i], cmap = plt.cm.binary)\n",
    "plt.show();"
   ]
  },
  {
   "cell_type": "markdown",
   "metadata": {},
   "source": [
    "## Modeling"
   ]
  },
  {
   "cell_type": "markdown",
   "metadata": {
    "heading_collapsed": true
   },
   "source": [
    "### Hiragana CNN"
   ]
  },
  {
   "cell_type": "markdown",
   "metadata": {
    "hidden": true
   },
   "source": [
    "#### Hiragana CNN Prep"
   ]
  },
  {
   "cell_type": "code",
   "execution_count": 61,
   "metadata": {
    "ExecuteTime": {
     "end_time": "2021-04-21T19:42:20.357484Z",
     "start_time": "2021-04-21T19:42:20.070252Z"
    },
    "hidden": true,
    "scrolled": false
   },
   "outputs": [],
   "source": [
    "hira_model = models.Sequential()\n",
    "\n",
    "hira_model.add(layers.Conv2D(32, (3, 3), padding = 'same', input_shape = hira_shape, data_format = 'channels_last'))\n",
    "hira_model.add(Activation('relu'))\n",
    "hira_model.add(layers.Conv2D(32, (3, 3), padding = 'same'))\n",
    "hira_model.add(Activation('relu'))\n",
    "hira_model.add(layers.MaxPooling2D((2, 2)))\n",
    "hira_model.add(Dropout(0.2))\n",
    "\n",
    "hira_model.add(layers.Conv2D(64, (3, 3), padding = 'same'))\n",
    "hira_model.add(Activation('relu'))\n",
    "hira_model.add(layers.Conv2D(128, (3, 3), padding = 'same'))\n",
    "hira_model.add(Activation('relu'))\n",
    "hira_model.add(layers.MaxPooling2D((2, 2)))\n",
    "hira_model.add(Dropout(0.2))\n",
    "\n",
    "hira_model.add(Flatten())\n",
    "hira_model.add(Dense(256))\n",
    "hira_model.add(Activation('relu'))\n",
    "hira_model.add(Dropout(0.2))\n",
    "hira_model.add(Dense(hiragana_class))\n",
    "hira_model.add(Activation('softmax'))"
   ]
  },
  {
   "cell_type": "code",
   "execution_count": 62,
   "metadata": {
    "ExecuteTime": {
     "end_time": "2021-04-21T19:42:23.224028Z",
     "start_time": "2021-04-21T19:42:23.213060Z"
    },
    "hidden": true
   },
   "outputs": [
    {
     "name": "stdout",
     "output_type": "stream",
     "text": [
      "Model: \"sequential_3\"\n",
      "_________________________________________________________________\n",
      "Layer (type)                 Output Shape              Param #   \n",
      "=================================================================\n",
      "conv2d_7 (Conv2D)            (None, 48, 48, 32)        320       \n",
      "_________________________________________________________________\n",
      "activation (Activation)      (None, 48, 48, 32)        0         \n",
      "_________________________________________________________________\n",
      "conv2d_8 (Conv2D)            (None, 48, 48, 32)        9248      \n",
      "_________________________________________________________________\n",
      "activation_1 (Activation)    (None, 48, 48, 32)        0         \n",
      "_________________________________________________________________\n",
      "max_pooling2d_3 (MaxPooling2 (None, 24, 24, 32)        0         \n",
      "_________________________________________________________________\n",
      "dropout_2 (Dropout)          (None, 24, 24, 32)        0         \n",
      "_________________________________________________________________\n",
      "conv2d_9 (Conv2D)            (None, 24, 24, 64)        18496     \n",
      "_________________________________________________________________\n",
      "activation_2 (Activation)    (None, 24, 24, 64)        0         \n",
      "_________________________________________________________________\n",
      "conv2d_10 (Conv2D)           (None, 24, 24, 128)       73856     \n",
      "_________________________________________________________________\n",
      "activation_3 (Activation)    (None, 24, 24, 128)       0         \n",
      "_________________________________________________________________\n",
      "max_pooling2d_4 (MaxPooling2 (None, 12, 12, 128)       0         \n",
      "_________________________________________________________________\n",
      "dropout_3 (Dropout)          (None, 12, 12, 128)       0         \n",
      "_________________________________________________________________\n",
      "flatten_1 (Flatten)          (None, 18432)             0         \n",
      "_________________________________________________________________\n",
      "dense_1 (Dense)              (None, 256)               4718848   \n",
      "_________________________________________________________________\n",
      "activation_4 (Activation)    (None, 256)               0         \n",
      "_________________________________________________________________\n",
      "dropout_4 (Dropout)          (None, 256)               0         \n",
      "_________________________________________________________________\n",
      "dense_2 (Dense)              (None, 71)                18247     \n",
      "_________________________________________________________________\n",
      "activation_5 (Activation)    (None, 71)                0         \n",
      "=================================================================\n",
      "Total params: 4,839,015\n",
      "Trainable params: 4,839,015\n",
      "Non-trainable params: 0\n",
      "_________________________________________________________________\n"
     ]
    }
   ],
   "source": [
    "hira_model.summary()"
   ]
  },
  {
   "cell_type": "code",
   "execution_count": 86,
   "metadata": {
    "ExecuteTime": {
     "end_time": "2021-04-21T21:02:09.581183Z",
     "start_time": "2021-04-21T21:02:09.571207Z"
    },
    "hidden": true
   },
   "outputs": [],
   "source": [
    "hira_es = EarlyStopping(patience = 8, verbose = 1, restore_best_weights = True)\n",
    "hira_lr = ReduceLROnPlateau(factor = 0.5, patience = 3, verbose = 1)"
   ]
  },
  {
   "cell_type": "code",
   "execution_count": 65,
   "metadata": {
    "ExecuteTime": {
     "end_time": "2021-04-21T19:58:54.661759Z",
     "start_time": "2021-04-21T19:42:53.609295Z"
    },
    "collapsed": true,
    "hidden": true
   },
   "outputs": [
    {
     "name": "stdout",
     "output_type": "stream",
     "text": [
      "Epoch 1/30\n",
      "228/228 [==============================] - 32s 140ms/step - loss: 2.4548 - accuracy: 0.3680 - val_loss: 0.7730 - val_accuracy: 0.7657\n",
      "Epoch 2/30\n",
      "228/228 [==============================] - 31s 138ms/step - loss: 0.9538 - accuracy: 0.7124 - val_loss: 0.3851 - val_accuracy: 0.8724\n",
      "Epoch 3/30\n",
      "228/228 [==============================] - 32s 139ms/step - loss: 0.5514 - accuracy: 0.8267 - val_loss: 0.2251 - val_accuracy: 0.9323\n",
      "Epoch 4/30\n",
      "228/228 [==============================] - 32s 141ms/step - loss: 0.4044 - accuracy: 0.8754 - val_loss: 0.1414 - val_accuracy: 0.9571\n",
      "Epoch 5/30\n",
      "228/228 [==============================] - 32s 138ms/step - loss: 0.3051 - accuracy: 0.9052 - val_loss: 0.1502 - val_accuracy: 0.9543\n",
      "Epoch 6/30\n",
      "228/228 [==============================] - 32s 140ms/step - loss: 0.2401 - accuracy: 0.9261 - val_loss: 0.1687 - val_accuracy: 0.9499\n",
      "Epoch 7/30\n",
      "228/228 [==============================] - 32s 142ms/step - loss: 0.2229 - accuracy: 0.9254 - val_loss: 0.0971 - val_accuracy: 0.9703\n",
      "Epoch 8/30\n",
      "228/228 [==============================] - 32s 140ms/step - loss: 0.1671 - accuracy: 0.9461 - val_loss: 0.1084 - val_accuracy: 0.9703\n",
      "Epoch 9/30\n",
      "228/228 [==============================] - 32s 140ms/step - loss: 0.1612 - accuracy: 0.9487 - val_loss: 0.0915 - val_accuracy: 0.9752\n",
      "Epoch 10/30\n",
      "228/228 [==============================] - 32s 138ms/step - loss: 0.1375 - accuracy: 0.9535 - val_loss: 0.0976 - val_accuracy: 0.9703\n",
      "Epoch 11/30\n",
      "228/228 [==============================] - 32s 138ms/step - loss: 0.1260 - accuracy: 0.9609 - val_loss: 0.1105 - val_accuracy: 0.9681\n",
      "Epoch 12/30\n",
      "228/228 [==============================] - ETA: 0s - loss: 0.1047 - accuracy: 0.9660\n",
      "Epoch 00012: ReduceLROnPlateau reducing learning rate to 0.0005000000237487257.\n",
      "228/228 [==============================] - 32s 140ms/step - loss: 0.1047 - accuracy: 0.9660 - val_loss: 0.1024 - val_accuracy: 0.9714\n",
      "Epoch 13/30\n",
      "228/228 [==============================] - 32s 140ms/step - loss: 0.0802 - accuracy: 0.9729 - val_loss: 0.0646 - val_accuracy: 0.9813\n",
      "Epoch 14/30\n",
      "228/228 [==============================] - 32s 141ms/step - loss: 0.0619 - accuracy: 0.9802 - val_loss: 0.0604 - val_accuracy: 0.9807\n",
      "Epoch 15/30\n",
      "228/228 [==============================] - 32s 139ms/step - loss: 0.0639 - accuracy: 0.9790 - val_loss: 0.0674 - val_accuracy: 0.9818\n",
      "Epoch 16/30\n",
      "228/228 [==============================] - 32s 140ms/step - loss: 0.0591 - accuracy: 0.9779 - val_loss: 0.0916 - val_accuracy: 0.9758\n",
      "Epoch 17/30\n",
      "228/228 [==============================] - ETA: 0s - loss: 0.0566 - accuracy: 0.9813\n",
      "Epoch 00017: ReduceLROnPlateau reducing learning rate to 0.0002500000118743628.\n",
      "228/228 [==============================] - 32s 141ms/step - loss: 0.0566 - accuracy: 0.9813 - val_loss: 0.0630 - val_accuracy: 0.9807\n",
      "Epoch 18/30\n",
      "228/228 [==============================] - 32s 138ms/step - loss: 0.0509 - accuracy: 0.9847 - val_loss: 0.0549 - val_accuracy: 0.9835\n",
      "Epoch 19/30\n",
      "228/228 [==============================] - 32s 139ms/step - loss: 0.0426 - accuracy: 0.9858 - val_loss: 0.0615 - val_accuracy: 0.9857\n",
      "Epoch 20/30\n",
      "228/228 [==============================] - 32s 138ms/step - loss: 0.0319 - accuracy: 0.9893 - val_loss: 0.0601 - val_accuracy: 0.9846\n",
      "Epoch 21/30\n",
      "228/228 [==============================] - ETA: 0s - loss: 0.0351 - accuracy: 0.9887\n",
      "Epoch 00021: ReduceLROnPlateau reducing learning rate to 0.0001250000059371814.\n",
      "228/228 [==============================] - 32s 139ms/step - loss: 0.0351 - accuracy: 0.9887 - val_loss: 0.0583 - val_accuracy: 0.9851\n",
      "Epoch 22/30\n",
      "228/228 [==============================] - 32s 140ms/step - loss: 0.0318 - accuracy: 0.9902 - val_loss: 0.0585 - val_accuracy: 0.9868\n",
      "Epoch 23/30\n",
      "228/228 [==============================] - 32s 139ms/step - loss: 0.0284 - accuracy: 0.9898 - val_loss: 0.0574 - val_accuracy: 0.9851\n",
      "Epoch 24/30\n",
      "228/228 [==============================] - 32s 140ms/step - loss: 0.0282 - accuracy: 0.9906 - val_loss: 0.0533 - val_accuracy: 0.9873\n",
      "Epoch 25/30\n",
      "228/228 [==============================] - 32s 141ms/step - loss: 0.0284 - accuracy: 0.9915 - val_loss: 0.0567 - val_accuracy: 0.9829\n",
      "Epoch 26/30\n",
      "228/228 [==============================] - 33s 144ms/step - loss: 0.0293 - accuracy: 0.9883 - val_loss: 0.0588 - val_accuracy: 0.9835\n",
      "Epoch 27/30\n",
      "228/228 [==============================] - ETA: 0s - loss: 0.0224 - accuracy: 0.9922\n",
      "Epoch 00027: ReduceLROnPlateau reducing learning rate to 6.25000029685907e-05.\n",
      "228/228 [==============================] - 32s 140ms/step - loss: 0.0224 - accuracy: 0.9922 - val_loss: 0.0556 - val_accuracy: 0.9868\n",
      "Epoch 28/30\n",
      "228/228 [==============================] - 32s 139ms/step - loss: 0.0208 - accuracy: 0.9927 - val_loss: 0.0512 - val_accuracy: 0.9884\n",
      "Epoch 29/30\n",
      "228/228 [==============================] - 32s 139ms/step - loss: 0.0236 - accuracy: 0.9930 - val_loss: 0.0551 - val_accuracy: 0.9857\n",
      "Epoch 30/30\n",
      "228/228 [==============================] - 32s 139ms/step - loss: 0.0191 - accuracy: 0.9942 - val_loss: 0.0584 - val_accuracy: 0.9846\n"
     ]
    }
   ],
   "source": [
    "hira_model.compile(loss = 'categorical_crossentropy', optimizer = 'adam', metrics = ['accuracy'])\n",
    "\n",
    "hiragana_results = hira_model.fit(hiragana_datagen.flow(hira_X_train, hira_y_train, batch_size = 32),\n",
    "          epochs = 30, callbacks = (hira_es, hira_lr), validation_data = (hira_X_val, hira_y_val))"
   ]
  },
  {
   "cell_type": "markdown",
   "metadata": {
    "hidden": true
   },
   "source": [
    "#### Hiragana CNN Model Evaluation"
   ]
  },
  {
   "cell_type": "code",
   "execution_count": 66,
   "metadata": {
    "ExecuteTime": {
     "end_time": "2021-04-21T20:00:31.725335Z",
     "start_time": "2021-04-21T20:00:31.711338Z"
    },
    "hidden": true
   },
   "outputs": [],
   "source": [
    "hira_history = hiragana_results.history\n",
    "hira_training_loss = hira_history['loss']\n",
    "hira_val_loss = hira_history['val_loss']\n",
    "hira_training_accuracy = hira_history['accuracy']\n",
    "hira_val_accuracy = hira_history['val_accuracy']"
   ]
  },
  {
   "cell_type": "code",
   "execution_count": 133,
   "metadata": {
    "ExecuteTime": {
     "end_time": "2021-04-22T02:11:05.879886Z",
     "start_time": "2021-04-22T02:11:05.172915Z"
    },
    "hidden": true,
    "scrolled": true
   },
   "outputs": [
    {
     "data": {
      "image/png": "[encoded data removed]",
      "text/plain": [
       "<Figure size 1080x360 with 2 Axes>"
      ]
     },
     "metadata": {
      "needs_background": "light"
     },
     "output_type": "display_data"
    }
   ],
   "source": [
    "fig, (ax1, ax2) = plt.subplots(1,2,figsize=(15,5))\n",
    "\n",
    "\n",
    "sns.lineplot(x = list(range(len(hira_training_loss))),\n",
    "             y = hira_training_loss, color = 'purple', alpha = 0.6, label='training', ax = ax1)\n",
    "sns.lineplot(x = list(range(len(hira_val_loss))),\n",
    "             y = hira_val_loss, color = 'green', alpha = 0.6, label = 'validation', ax = ax1)\n",
    "sns.lineplot(x = list(range(len(hira_training_loss))),\n",
    "             y = hira_training_accuracy, color='r', alpha = 0.6, label='training',ax = ax2)\n",
    "sns.lineplot(x = list(range(len(hira_val_loss))),\n",
    "             y = hira_val_accuracy, color = 'b', alpha = 0.6, label = 'validation',ax = ax2)\n",
    "# plt.savefig('img/hiragana_loss_acc')\n",
    "ax1.legend();"
   ]
  },
  {
   "cell_type": "markdown",
   "metadata": {
    "hidden": true
   },
   "source": [
    "#### Hiragana Test Data Results"
   ]
  },
  {
   "cell_type": "code",
   "execution_count": 78,
   "metadata": {
    "ExecuteTime": {
     "end_time": "2021-04-21T20:15:06.928373Z",
     "start_time": "2021-04-21T20:15:04.998532Z"
    },
    "hidden": true
   },
   "outputs": [
    {
     "data": {
      "text/plain": [
       "array([[37,  0,  0, ...,  0,  0,  0],\n",
       "       [ 0, 31,  0, ...,  0,  0,  0],\n",
       "       [ 0,  0, 36, ...,  0,  0,  0],\n",
       "       ...,\n",
       "       [ 0,  0,  0, ..., 37,  0,  0],\n",
       "       [ 0,  0,  0, ...,  0, 34,  0],\n",
       "       [ 0,  0,  0, ...,  0,  0, 40]], dtype=int64)"
      ]
     },
     "execution_count": 78,
     "metadata": {},
     "output_type": "execute_result"
    }
   ],
   "source": [
    "hira_y_hat_test = np.argmax(hira_model.predict(hira_X_test), axis=-1)\n",
    "hira_test_restore = hiragana_ohe.inverse_transform(hira_y_test)\n",
    "confusion_matrix(hira_test_restore, hira_y_hat_test)"
   ]
  },
  {
   "cell_type": "code",
   "execution_count": 122,
   "metadata": {
    "ExecuteTime": {
     "end_time": "2021-04-22T02:03:13.819206Z",
     "start_time": "2021-04-22T02:03:11.646014Z"
    },
    "hidden": true
   },
   "outputs": [
    {
     "name": "stdout",
     "output_type": "stream",
     "text": [
      "71/71 [==============================] - 2s 29ms/step - loss: 0.0457 - accuracy: 0.9859\n"
     ]
    }
   ],
   "source": [
    "hira_test_loss, hira_test_acc = hira_model.evaluate(hira_X_test, hira_y_test)"
   ]
  },
  {
   "cell_type": "code",
   "execution_count": 123,
   "metadata": {
    "ExecuteTime": {
     "end_time": "2021-04-22T02:03:15.913956Z",
     "start_time": "2021-04-22T02:03:15.897002Z"
    },
    "hidden": true
   },
   "outputs": [
    {
     "name": "stdout",
     "output_type": "stream",
     "text": [
      "We acheived a test accuracy of 0.9859% on our Hiragana dataset.\n"
     ]
    }
   ],
   "source": [
    "print(f'We acheived a test accuracy of {round(hira_test_acc, 4)}% on our Hiragana dataset.')"
   ]
  },
  {
   "cell_type": "markdown",
   "metadata": {},
   "source": [
    "### Kanji CNN"
   ]
  },
  {
   "cell_type": "markdown",
   "metadata": {},
   "source": [
    "#### Kanji CNN Prep"
   ]
  },
  {
   "cell_type": "code",
   "execution_count": 177,
   "metadata": {
    "ExecuteTime": {
     "end_time": "2021-04-22T11:24:22.748956Z",
     "start_time": "2021-04-22T11:24:22.385012Z"
    }
   },
   "outputs": [],
   "source": [
    "kanji_model = models.Sequential()\n",
    "\n",
    "kanji_model.add(layers.Conv2D(64, (3, 3), activation = 'relu', padding = 'same', input_shape = kanji_shape, data_format = 'channels_last'))\n",
    "kanji_model.add(layers.MaxPooling2D((2, 2)))\n",
    "kanji_model.add(layers.Conv2D(64, (3, 3), activation = 'relu', padding = 'same'))\n",
    "kanji_model.add(layers.MaxPooling2D((2, 2)))\n",
    "kanji_model.add(layers.Flatten())\n",
    "kanji_model.add(Dropout(0.5))\n",
    "kanji_model.add(layers.Dense(2048, activation = 'relu'))\n",
    "kanji_model.add(layers.Dense(kanji_class, activation = 'softmax'))"
   ]
  },
  {
   "cell_type": "code",
   "execution_count": 178,
   "metadata": {
    "ExecuteTime": {
     "end_time": "2021-04-22T11:24:28.609624Z",
     "start_time": "2021-04-22T11:24:28.594665Z"
    }
   },
   "outputs": [
    {
     "name": "stdout",
     "output_type": "stream",
     "text": [
      "Model: \"sequential_15\"\n",
      "_________________________________________________________________\n",
      "Layer (type)                 Output Shape              Param #   \n",
      "=================================================================\n",
      "conv2d_44 (Conv2D)           (None, 48, 48, 64)        640       \n",
      "_________________________________________________________________\n",
      "max_pooling2d_23 (MaxPooling (None, 24, 24, 64)        0         \n",
      "_________________________________________________________________\n",
      "conv2d_45 (Conv2D)           (None, 24, 24, 64)        36928     \n",
      "_________________________________________________________________\n",
      "max_pooling2d_24 (MaxPooling (None, 12, 12, 64)        0         \n",
      "_________________________________________________________________\n",
      "flatten_13 (Flatten)         (None, 9216)              0         \n",
      "_________________________________________________________________\n",
      "dropout_31 (Dropout)         (None, 9216)              0         \n",
      "_________________________________________________________________\n",
      "dense_23 (Dense)             (None, 2048)              18876416  \n",
      "_________________________________________________________________\n",
      "dense_24 (Dense)             (None, 873)               1788777   \n",
      "=================================================================\n",
      "Total params: 20,702,761\n",
      "Trainable params: 20,702,761\n",
      "Non-trainable params: 0\n",
      "_________________________________________________________________\n"
     ]
    }
   ],
   "source": [
    "kanji_model.summary()"
   ]
  },
  {
   "cell_type": "code",
   "execution_count": 183,
   "metadata": {
    "ExecuteTime": {
     "end_time": "2021-04-22T11:44:12.999520Z",
     "start_time": "2021-04-22T11:44:12.989518Z"
    }
   },
   "outputs": [],
   "source": [
    "# Callbacks\n",
    "kanji_es = EarlyStopping(patience = 2, verbose = 1, restore_best_weights = True)\n",
    "kanji_lr = ReduceLROnPlateau(factor = 0.5, patience = 3, verbose = 1)\n",
    "\n",
    "# Tensorboard Callback\n",
    "log_dir = 'logs/' + datetime.datetime.now().strftime('Y%m%d-%H%M%S')\n",
    "tensorboard_callback = tf.keras.callbacks.TensorBoard(log_dir = log_dir, histogram_freq = 1)"
   ]
  },
  {
   "cell_type": "code",
   "execution_count": 164,
   "metadata": {
    "ExecuteTime": {
     "end_time": "2021-04-22T04:41:54.211531Z",
     "start_time": "2021-04-22T04:01:38.618387Z"
    }
   },
   "outputs": [
    {
     "name": "stdout",
     "output_type": "stream",
     "text": [
      "Epoch 1/25\n",
      "   1/2139 [..............................] - ETA: 0s - loss: 6.7690 - accuracy: 0.0000e+00WARNING:tensorflow:From C:\\Users\\User\\anaconda3\\lib\\site-packages\\tensorflow\\python\\ops\\summary_ops_v2.py:1277: stop (from tensorflow.python.eager.profiler) is deprecated and will be removed after 2020-07-01.\n",
      "Instructions for updating:\n",
      "use `tf.profiler.experimental.stop` instead.\n",
      "   2/2139 [..............................] - ETA: 23:38 - loss: 6.7721 - accuracy: 0.0000e+00WARNING:tensorflow:Callbacks method `on_train_batch_end` is slow compared to the batch time (batch time: 0.3349s vs `on_train_batch_end` time: 0.9927s). Check your callbacks.\n",
      "2139/2139 [==============================] - 243s 114ms/step - loss: 5.7390 - accuracy: 0.0401 - val_loss: 4.3312 - val_accuracy: 0.2677\n",
      "Epoch 2/25\n",
      "2139/2139 [==============================] - 242s 113ms/step - loss: 4.7168 - accuracy: 0.1707 - val_loss: 3.9771 - val_accuracy: 0.3460\n",
      "Epoch 3/25\n",
      "2139/2139 [==============================] - 240s 112ms/step - loss: 4.4141 - accuracy: 0.2357 - val_loss: 3.9077 - val_accuracy: 0.3620\n",
      "Epoch 4/25\n",
      "2139/2139 [==============================] - 240s 112ms/step - loss: 4.2807 - accuracy: 0.2666 - val_loss: 3.8699 - val_accuracy: 0.3749\n",
      "Epoch 5/25\n",
      "2139/2139 [==============================] - 240s 112ms/step - loss: 4.2102 - accuracy: 0.2855 - val_loss: 3.8476 - val_accuracy: 0.3792\n",
      "Epoch 6/25\n",
      "2139/2139 [==============================] - 241s 113ms/step - loss: 4.1522 - accuracy: 0.2991 - val_loss: 3.8471 - val_accuracy: 0.3785\n",
      "Epoch 7/25\n",
      "2139/2139 [==============================] - 243s 113ms/step - loss: 4.1296 - accuracy: 0.3064 - val_loss: 3.8403 - val_accuracy: 0.3806\n",
      "Epoch 8/25\n",
      "2139/2139 [==============================] - 242s 113ms/step - loss: 4.1014 - accuracy: 0.3130 - val_loss: 3.8365 - val_accuracy: 0.3829\n",
      "Epoch 9/25\n",
      "2139/2139 [==============================] - 242s 113ms/step - loss: 4.0935 - accuracy: 0.3163 - val_loss: 3.8368 - val_accuracy: 0.3837\n",
      "Epoch 10/25\n",
      "2139/2139 [==============================] - ETA: 0s - loss: 4.0835 - accuracy: 0.3198Restoring model weights from the end of the best epoch.\n",
      "2139/2139 [==============================] - 236s 111ms/step - loss: 4.0835 - accuracy: 0.3198 - val_loss: 3.8386 - val_accuracy: 0.3815\n",
      "Epoch 00010: early stopping\n"
     ]
    }
   ],
   "source": [
    "kanji_model.compile(loss = 'categorical_crossentropy', optimizer = 'adam', metrics = ['accuracy'])\n",
    "\n",
    "kanji_results = kanji_model.fit(kanji_datagen.flow(kanji_X_train, kanji_y_train, shuffle = True),\n",
    "          epochs = 50, callbacks = (kanji_es, kanji_lr, tensorboard_callback), validation_data = (kanji_X_val, kanji_y_val))"
   ]
  },
  {
   "cell_type": "markdown",
   "metadata": {},
   "source": [
    "#### Kanji CNN Model Evaluation"
   ]
  },
  {
   "cell_type": "code",
   "execution_count": null,
   "metadata": {},
   "outputs": [],
   "source": [
    "kanji_history = kanji_results.history\n",
    "kanji_training_loss = kanji_history['loss']\n",
    "kanji_val_loss = kanji_history['val_loss']\n",
    "kanji_training_accuracy = kanji_history['accuracy']\n",
    "kanji_val_accuracy = kanji_history['val_accuracy']"
   ]
  },
  {
   "cell_type": "code",
   "execution_count": null,
   "metadata": {},
   "outputs": [],
   "source": [
    "fig, (ax1, ax2) = plt.subplots(1,2,figsize=(15,5))\n",
    "\n",
    "\n",
    "sns.lineplot(x = list(range(len(kanji_training_loss))),\n",
    "             y = kanji_training_loss, color = 'r', label='training', ax = ax1)\n",
    "sns.lineplot(x = list(range(len(kanji_val_loss))),\n",
    "             y = kanji_val_loss, color = 'b', label = 'validation', ax = ax1)\n",
    "sns.lineplot(x = list(range(len(kanji_training_loss))),\n",
    "             y = kanji_training_accuracy, color='r', label='training',ax = ax2)\n",
    "sns.lineplot(x = list(range(len(kanji_val_loss))),\n",
    "             y = kanji_val_accuracy, color = 'b', label = 'validation',ax = ax2)\n",
    "ax1.legend();"
   ]
  },
  {
   "cell_type": "markdown",
   "metadata": {},
   "source": [
    "#### Kanji Test Data Results"
   ]
  },
  {
   "cell_type": "code",
   "execution_count": 78,
   "metadata": {
    "ExecuteTime": {
     "end_time": "2021-04-21T20:15:06.928373Z",
     "start_time": "2021-04-21T20:15:04.998532Z"
    },
    "scrolled": true
   },
   "outputs": [
    {
     "data": {
      "text/plain": [
       "array([[37,  0,  0, ...,  0,  0,  0],\n",
       "       [ 0, 31,  0, ...,  0,  0,  0],\n",
       "       [ 0,  0, 36, ...,  0,  0,  0],\n",
       "       ...,\n",
       "       [ 0,  0,  0, ..., 37,  0,  0],\n",
       "       [ 0,  0,  0, ...,  0, 34,  0],\n",
       "       [ 0,  0,  0, ...,  0,  0, 40]], dtype=int64)"
      ]
     },
     "execution_count": 78,
     "metadata": {},
     "output_type": "execute_result"
    }
   ],
   "source": [
    "kanji_y_hat_test = np.argmax(kanji_model.predict(kanji_X_test), axis=-1)\n",
    "kanji_test_restore = kanji_ohe.inverse_transform(kanji_y_test)\n",
    "confusion_matrix(kanji_test_restore, kanji_y_hat_test)"
   ]
  },
  {
   "cell_type": "code",
   "execution_count": 69,
   "metadata": {
    "ExecuteTime": {
     "end_time": "2021-04-21T20:06:23.755810Z",
     "start_time": "2021-04-21T20:06:21.507882Z"
    }
   },
   "outputs": [
    {
     "name": "stdout",
     "output_type": "stream",
     "text": [
      "71/71 [==============================] - 2s 29ms/step - loss: 0.0457 - accuracy: 0.9859\n"
     ]
    }
   ],
   "source": [
    "kanji_test_loss, kanji_test_acc = kanji_model.evaluate(kanji_X_test, kanji_y_test)"
   ]
  },
  {
   "cell_type": "code",
   "execution_count": 120,
   "metadata": {
    "ExecuteTime": {
     "end_time": "2021-04-22T02:02:35.533021Z",
     "start_time": "2021-04-22T02:02:35.515069Z"
    },
    "scrolled": false
   },
   "outputs": [
    {
     "ename": "NameError",
     "evalue": "name 'kanji_test_acc' is not defined",
     "output_type": "error",
     "traceback": [
      "\u001b[1;31m---------------------------------------------------------------------------\u001b[0m",
      "\u001b[1;31mNameError\u001b[0m                                 Traceback (most recent call last)",
      "\u001b[1;32m<ipython-input-120-08bfceb38d0d>\u001b[0m in \u001b[0;36m<module>\u001b[1;34m\u001b[0m\n\u001b[1;32m----> 1\u001b[1;33m \u001b[0mprint\u001b[0m\u001b[1;33m(\u001b[0m\u001b[1;34mf'We acheived a test accuracy of {round(kanji_test_acc, 4)}% on our Kanji dataset.'\u001b[0m\u001b[1;33m)\u001b[0m\u001b[1;33m\u001b[0m\u001b[1;33m\u001b[0m\u001b[0m\n\u001b[0m",
      "\u001b[1;31mNameError\u001b[0m: name 'kanji_test_acc' is not defined"
     ]
    }
   ],
   "source": [
    "print(f'We acheived a test accuracy of {round(kanji_test_acc, 4)}% on our Kanji dataset.')"
   ]
  },
  {
   "cell_type": "markdown",
   "metadata": {
    "heading_collapsed": true
   },
   "source": [
    "### Katakana CNN"
   ]
  },
  {
   "cell_type": "markdown",
   "metadata": {
    "hidden": true
   },
   "source": [
    "#### Katakana CNN Prep"
   ]
  },
  {
   "cell_type": "code",
   "execution_count": 108,
   "metadata": {
    "ExecuteTime": {
     "end_time": "2021-04-22T00:26:42.840985Z",
     "start_time": "2021-04-22T00:26:42.702256Z"
    },
    "hidden": true,
    "scrolled": false
   },
   "outputs": [],
   "source": [
    "katakana_model = models.Sequential()\n",
    "\n",
    "katakana_model.add(layers.Conv2D(32, (3, 3), padding = 'same', input_shape = katakana_shape, data_format = 'channels_last'))\n",
    "katakana_model.add(Activation('relu'))\n",
    "katakana_model.add(layers.Conv2D(32, (3, 3), padding = 'same'))\n",
    "katakana_model.add(Activation('relu'))\n",
    "katakana_model.add(layers.MaxPooling2D((2, 2)))\n",
    "katakana_model.add(Dropout(0.2))\n",
    "\n",
    "katakana_model.add(layers.Conv2D(64, (3, 3), padding = 'same'))\n",
    "katakana_model.add(Activation('relu'))\n",
    "katakana_model.add(layers.Conv2D(64, (3, 3), padding = 'same'))\n",
    "katakana_model.add(Activation('relu'))\n",
    "katakana_model.add(layers.MaxPooling2D((2, 2)))\n",
    "katakana_model.add(Dropout(0.2))\n",
    "\n",
    "katakana_model.add(Flatten())\n",
    "katakana_model.add(Dense(256))\n",
    "katakana_model.add(Activation('relu'))\n",
    "katakana_model.add(Dropout(0.2))\n",
    "katakana_model.add(Dense(katakana_class))\n",
    "katakana_model.add(Activation('softmax'))"
   ]
  },
  {
   "cell_type": "code",
   "execution_count": 109,
   "metadata": {
    "ExecuteTime": {
     "end_time": "2021-04-22T00:26:43.707325Z",
     "start_time": "2021-04-22T00:26:43.698349Z"
    },
    "hidden": true
   },
   "outputs": [
    {
     "name": "stdout",
     "output_type": "stream",
     "text": [
      "Model: \"sequential_8\"\n",
      "_________________________________________________________________\n",
      "Layer (type)                 Output Shape              Param #   \n",
      "=================================================================\n",
      "conv2d_25 (Conv2D)           (None, 48, 48, 32)        320       \n",
      "_________________________________________________________________\n",
      "activation_22 (Activation)   (None, 48, 48, 32)        0         \n",
      "_________________________________________________________________\n",
      "conv2d_26 (Conv2D)           (None, 48, 48, 32)        9248      \n",
      "_________________________________________________________________\n",
      "activation_23 (Activation)   (None, 48, 48, 32)        0         \n",
      "_________________________________________________________________\n",
      "max_pooling2d_12 (MaxPooling (None, 24, 24, 32)        0         \n",
      "_________________________________________________________________\n",
      "dropout_16 (Dropout)         (None, 24, 24, 32)        0         \n",
      "_________________________________________________________________\n",
      "conv2d_27 (Conv2D)           (None, 24, 24, 64)        18496     \n",
      "_________________________________________________________________\n",
      "activation_24 (Activation)   (None, 24, 24, 64)        0         \n",
      "_________________________________________________________________\n",
      "conv2d_28 (Conv2D)           (None, 24, 24, 64)        36928     \n",
      "_________________________________________________________________\n",
      "activation_25 (Activation)   (None, 24, 24, 64)        0         \n",
      "_________________________________________________________________\n",
      "max_pooling2d_13 (MaxPooling (None, 12, 12, 64)        0         \n",
      "_________________________________________________________________\n",
      "dropout_17 (Dropout)         (None, 12, 12, 64)        0         \n",
      "_________________________________________________________________\n",
      "flatten_6 (Flatten)          (None, 9216)              0         \n",
      "_________________________________________________________________\n",
      "dense_10 (Dense)             (None, 256)               2359552   \n",
      "_________________________________________________________________\n",
      "activation_26 (Activation)   (None, 256)               0         \n",
      "_________________________________________________________________\n",
      "dropout_18 (Dropout)         (None, 256)               0         \n",
      "_________________________________________________________________\n",
      "dense_11 (Dense)             (None, 46)                11822     \n",
      "_________________________________________________________________\n",
      "activation_27 (Activation)   (None, 46)                0         \n",
      "=================================================================\n",
      "Total params: 2,436,366\n",
      "Trainable params: 2,436,366\n",
      "Non-trainable params: 0\n",
      "_________________________________________________________________\n"
     ]
    }
   ],
   "source": [
    "katakana_model.summary()"
   ]
  },
  {
   "cell_type": "code",
   "execution_count": 112,
   "metadata": {
    "ExecuteTime": {
     "end_time": "2021-04-22T01:50:36.731678Z",
     "start_time": "2021-04-22T01:50:36.716719Z"
    },
    "hidden": true
   },
   "outputs": [],
   "source": [
    "katakana_es = EarlyStopping(patience = 8, verbose = 1, restore_best_weights = True)\n",
    "katakana_lr = ReduceLROnPlateau(factor = 0.5, patience = 3, verbose = 1)"
   ]
  },
  {
   "cell_type": "code",
   "execution_count": 111,
   "metadata": {
    "ExecuteTime": {
     "end_time": "2021-04-22T01:40:27.198866Z",
     "start_time": "2021-04-22T00:26:52.658126Z"
    },
    "hidden": true,
    "scrolled": true
   },
   "outputs": [
    {
     "name": "stdout",
     "output_type": "stream",
     "text": [
      "Epoch 1/30\n",
      "1299/1299 [==============================] - 152s 117ms/step - loss: 0.9373 - accuracy: 0.7370 - val_loss: 0.1801 - val_accuracy: 0.9542\n",
      "Epoch 2/30\n",
      "1299/1299 [==============================] - 154s 119ms/step - loss: 0.2966 - accuracy: 0.9163 - val_loss: 0.1197 - val_accuracy: 0.9720\n",
      "Epoch 3/30\n",
      "1299/1299 [==============================] - 151s 116ms/step - loss: 0.2108 - accuracy: 0.9408 - val_loss: 0.0967 - val_accuracy: 0.9786\n",
      "Epoch 4/30\n",
      "1299/1299 [==============================] - 152s 117ms/step - loss: 0.1737 - accuracy: 0.9526 - val_loss: 0.1078 - val_accuracy: 0.9773\n",
      "Epoch 5/30\n",
      "1299/1299 [==============================] - 151s 116ms/step - loss: 0.1507 - accuracy: 0.9581 - val_loss: 0.0849 - val_accuracy: 0.9821\n",
      "Epoch 6/30\n",
      "1299/1299 [==============================] - 152s 117ms/step - loss: 0.1348 - accuracy: 0.9630 - val_loss: 0.0853 - val_accuracy: 0.9846\n",
      "Epoch 7/30\n",
      "1299/1299 [==============================] - 151s 116ms/step - loss: 0.1228 - accuracy: 0.9664 - val_loss: 0.0781 - val_accuracy: 0.9832\n",
      "Epoch 8/30\n",
      "1299/1299 [==============================] - 152s 117ms/step - loss: 0.1140 - accuracy: 0.9684 - val_loss: 0.0710 - val_accuracy: 0.9851\n",
      "Epoch 9/30\n",
      "1299/1299 [==============================] - 151s 116ms/step - loss: 0.1063 - accuracy: 0.9711 - val_loss: 0.0862 - val_accuracy: 0.9816\n",
      "Epoch 10/30\n",
      "1299/1299 [==============================] - 151s 116ms/step - loss: 0.1026 - accuracy: 0.9726 - val_loss: 0.0767 - val_accuracy: 0.9842\n",
      "Epoch 11/30\n",
      "1299/1299 [==============================] - ETA: 0s - loss: 0.0943 - accuracy: 0.9741\n",
      "Epoch 00011: ReduceLROnPlateau reducing learning rate to 0.0005000000237487257.\n",
      "1299/1299 [==============================] - 151s 116ms/step - loss: 0.0943 - accuracy: 0.9741 - val_loss: 0.0796 - val_accuracy: 0.9841\n",
      "Epoch 12/30\n",
      "1299/1299 [==============================] - 153s 118ms/step - loss: 0.0692 - accuracy: 0.9811 - val_loss: 0.0724 - val_accuracy: 0.9874\n",
      "Epoch 13/30\n",
      "1299/1299 [==============================] - 151s 116ms/step - loss: 0.0609 - accuracy: 0.9836 - val_loss: 0.0760 - val_accuracy: 0.9881\n",
      "Epoch 14/30\n",
      "1299/1299 [==============================] - 152s 117ms/step - loss: 0.0598 - accuracy: 0.9833 - val_loss: 0.0677 - val_accuracy: 0.9873\n",
      "Epoch 15/30\n",
      "1299/1299 [==============================] - 152s 117ms/step - loss: 0.0561 - accuracy: 0.9848 - val_loss: 0.0726 - val_accuracy: 0.9870\n",
      "Epoch 16/30\n",
      "1299/1299 [==============================] - 153s 118ms/step - loss: 0.0521 - accuracy: 0.9853 - val_loss: 0.0727 - val_accuracy: 0.9866\n",
      "Epoch 17/30\n",
      "1299/1299 [==============================] - ETA: 0s - loss: 0.0522 - accuracy: 0.9853\n",
      "Epoch 00017: ReduceLROnPlateau reducing learning rate to 0.0002500000118743628.\n",
      "1299/1299 [==============================] - 151s 116ms/step - loss: 0.0522 - accuracy: 0.9853 - val_loss: 0.0729 - val_accuracy: 0.9859\n",
      "Epoch 18/30\n",
      "1299/1299 [==============================] - 151s 116ms/step - loss: 0.0432 - accuracy: 0.9878 - val_loss: 0.0696 - val_accuracy: 0.9883\n",
      "Epoch 19/30\n",
      "1299/1299 [==============================] - 152s 117ms/step - loss: 0.0369 - accuracy: 0.9895 - val_loss: 0.0732 - val_accuracy: 0.9885\n",
      "Epoch 20/30\n",
      "1299/1299 [==============================] - ETA: 0s - loss: 0.0379 - accuracy: 0.9890\n",
      "Epoch 00020: ReduceLROnPlateau reducing learning rate to 0.0001250000059371814.\n",
      "1299/1299 [==============================] - 153s 118ms/step - loss: 0.0379 - accuracy: 0.9890 - val_loss: 0.0748 - val_accuracy: 0.9875\n",
      "Epoch 21/30\n",
      "1299/1299 [==============================] - 151s 117ms/step - loss: 0.0319 - accuracy: 0.9912 - val_loss: 0.0667 - val_accuracy: 0.9894\n",
      "Epoch 22/30\n",
      "1299/1299 [==============================] - 151s 116ms/step - loss: 0.0290 - accuracy: 0.9916 - val_loss: 0.0674 - val_accuracy: 0.9898\n",
      "Epoch 23/30\n",
      "1299/1299 [==============================] - 152s 117ms/step - loss: 0.0288 - accuracy: 0.9921 - val_loss: 0.0684 - val_accuracy: 0.9896\n",
      "Epoch 24/30\n",
      "1299/1299 [==============================] - ETA: 0s - loss: 0.0303 - accuracy: 0.9910\n",
      "Epoch 00024: ReduceLROnPlateau reducing learning rate to 6.25000029685907e-05.\n",
      "1299/1299 [==============================] - 155s 119ms/step - loss: 0.0303 - accuracy: 0.9910 - val_loss: 0.0686 - val_accuracy: 0.9892\n",
      "Epoch 25/30\n",
      "1299/1299 [==============================] - 152s 117ms/step - loss: 0.0282 - accuracy: 0.9919 - val_loss: 0.0682 - val_accuracy: 0.9894\n",
      "Epoch 26/30\n",
      "1299/1299 [==============================] - 155s 120ms/step - loss: 0.0256 - accuracy: 0.9921 - val_loss: 0.0694 - val_accuracy: 0.9896\n",
      "Epoch 27/30\n",
      "1299/1299 [==============================] - ETA: 0s - loss: 0.0269 - accuracy: 0.9922\n",
      "Epoch 00027: ReduceLROnPlateau reducing learning rate to 3.125000148429535e-05.\n",
      "1299/1299 [==============================] - 152s 117ms/step - loss: 0.0269 - accuracy: 0.9922 - val_loss: 0.0692 - val_accuracy: 0.9898\n",
      "Epoch 28/30\n",
      "1299/1299 [==============================] - 153s 118ms/step - loss: 0.0234 - accuracy: 0.9930 - val_loss: 0.0713 - val_accuracy: 0.9894\n",
      "Epoch 29/30\n",
      "1299/1299 [==============================] - ETA: 0s - loss: 0.0254 - accuracy: 0.9926Restoring model weights from the end of the best epoch.\n",
      "1299/1299 [==============================] - 152s 117ms/step - loss: 0.0254 - accuracy: 0.9926 - val_loss: 0.0700 - val_accuracy: 0.9894\n",
      "Epoch 00029: early stopping\n"
     ]
    }
   ],
   "source": [
    "katakana_model.compile(loss = 'categorical_crossentropy', optimizer = 'adam', metrics = ['accuracy'])\n",
    "\n",
    "katakana_results = katakana_model.fit(katakana_datagen.flow(katakana_X_train, katakana_y_train, batch_size = 32),\n",
    "          epochs = 30, callbacks = (katakana_es, katakana_lr), validation_data = (katakana_X_val, katakana_y_val))"
   ]
  },
  {
   "cell_type": "markdown",
   "metadata": {
    "hidden": true
   },
   "source": [
    "#### Katakana CNN Model Evaluation"
   ]
  },
  {
   "cell_type": "code",
   "execution_count": 113,
   "metadata": {
    "ExecuteTime": {
     "end_time": "2021-04-22T01:50:49.265171Z",
     "start_time": "2021-04-22T01:50:49.249214Z"
    },
    "hidden": true
   },
   "outputs": [],
   "source": [
    "katakana_history = katakana_results.history\n",
    "katakana_training_loss = katakana_history['loss']\n",
    "katakana_val_loss = katakana_history['val_loss']\n",
    "katakana_training_accuracy = katakana_history['accuracy']\n",
    "katakana_val_accuracy = katakana_history['val_accuracy']"
   ]
  },
  {
   "cell_type": "code",
   "execution_count": 131,
   "metadata": {
    "ExecuteTime": {
     "end_time": "2021-04-22T02:09:23.335902Z",
     "start_time": "2021-04-22T02:09:22.920397Z"
    },
    "hidden": true,
    "scrolled": true
   },
   "outputs": [
    {
     "data": {
      "image/png": "[encoded data removed]",
      "text/plain": [
       "<Figure size 1080x360 with 2 Axes>"
      ]
     },
     "metadata": {
      "needs_background": "light"
     },
     "output_type": "display_data"
    }
   ],
   "source": [
    "fig, (ax1, ax2) = plt.subplots(1,2,figsize=(15,5))\n",
    "\n",
    "\n",
    "sns.lineplot(x = list(range(len(katakana_training_loss))),\n",
    "             y = katakana_training_loss, color = 'purple', alpha = 0.6, label='training', ax = ax1)\n",
    "sns.lineplot(x = list(range(len(katakana_val_loss))),\n",
    "             y = katakana_val_loss, color = 'green', alpha = 0.6, label = 'validation', ax = ax1)\n",
    "sns.lineplot(x = list(range(len(katakana_training_loss))),\n",
    "             y = katakana_training_accuracy, color = 'r', alpha = 0.6, label = 'training', ax = ax2)\n",
    "sns.lineplot(x = list(range(len(katakana_val_loss))),\n",
    "             y = katakana_val_accuracy, color = 'b', alpha = 0.6, label = 'validation', ax = ax2)\n",
    "# plt.savefig('img/katakana_loss_acc.png')\n",
    "ax1.legend();"
   ]
  },
  {
   "cell_type": "markdown",
   "metadata": {
    "hidden": true
   },
   "source": [
    "#### Katakana Test Data Results"
   ]
  },
  {
   "cell_type": "code",
   "execution_count": 116,
   "metadata": {
    "ExecuteTime": {
     "end_time": "2021-04-22T01:52:24.319072Z",
     "start_time": "2021-04-22T01:52:15.322117Z"
    },
    "hidden": true
   },
   "outputs": [
    {
     "data": {
      "text/plain": [
       "array([[289,   0,   0, ...,   0,   0,   0],\n",
       "       [  0, 264,   0, ...,   0,   0,   1],\n",
       "       [  0,   0, 290, ...,   1,   0,   0],\n",
       "       ...,\n",
       "       [  0,   0,   1, ..., 278,   0,   0],\n",
       "       [  0,   0,   0, ...,   0, 280,   0],\n",
       "       [  0,   0,   0, ...,   0,   0, 259]], dtype=int64)"
      ]
     },
     "execution_count": 116,
     "metadata": {},
     "output_type": "execute_result"
    }
   ],
   "source": [
    "katakana_y_hat_test = np.argmax(katakana_model.predict(katakana_X_test), axis=-1)\n",
    "katakana_test_restore = katakana_ohe.inverse_transform(katakana_y_test)\n",
    "confusion_matrix(katakana_test_restore, katakana_y_hat_test)"
   ]
  },
  {
   "cell_type": "code",
   "execution_count": 117,
   "metadata": {
    "ExecuteTime": {
     "end_time": "2021-04-22T01:52:39.293782Z",
     "start_time": "2021-04-22T01:52:29.792149Z"
    },
    "hidden": true
   },
   "outputs": [
    {
     "name": "stdout",
     "output_type": "stream",
     "text": [
      "406/406 [==============================] - 9s 23ms/step - loss: 0.0661 - accuracy: 0.9891\n"
     ]
    }
   ],
   "source": [
    "katakana_test_loss, katakana_test_acc = katakana_model.evaluate(katakana_X_test, katakana_y_test)"
   ]
  },
  {
   "cell_type": "code",
   "execution_count": 119,
   "metadata": {
    "ExecuteTime": {
     "end_time": "2021-04-22T01:52:58.463774Z",
     "start_time": "2021-04-22T01:52:58.454798Z"
    },
    "hidden": true
   },
   "outputs": [
    {
     "name": "stdout",
     "output_type": "stream",
     "text": [
      "We acheived a test accuracy of 0.9891% on our Katakana dataset.\n"
     ]
    }
   ],
   "source": [
    "print(f'We acheived a test accuracy of {round(katakana_test_acc, 4)}% on our Katakana dataset.')"
   ]
  },
  {
   "cell_type": "markdown",
   "metadata": {},
   "source": [
    "## Conclusions & Next Steps"
   ]
  },
  {
   "cell_type": "code",
   "execution_count": null,
   "metadata": {},
   "outputs": [],
   "source": []
  }
 ],
 "metadata": {
  "kernelspec": {
   "display_name": "Python 3",
   "language": "python",
   "name": "python3"
  },
  "language_info": {
   "codemirror_mode": {
    "name": "ipython",
    "version": 3
   },
   "file_extension": ".py",
   "mimetype": "text/x-python",
   "name": "python",
   "nbconvert_exporter": "python",
   "pygments_lexer": "ipython3",
   "version": "3.8.5"
  },
  "toc": {
   "base_numbering": 1,
   "nav_menu": {},
   "number_sections": true,
   "sideBar": true,
   "skip_h1_title": true,
   "title_cell": "Table of Contents",
   "title_sidebar": "Contents",
   "toc_cell": false,
   "toc_position": {
    "height": "calc(100% - 180px)",
    "left": "10px",
    "top": "150px",
    "width": "305px"
   },
   "toc_section_display": true,
   "toc_window_display": true
  }
 },
 "nbformat": 4,
 "nbformat_minor": 4
}
