{
 "cells": [
  {
   "cell_type": "code",
   "execution_count": 92,
   "metadata": {
    "ExecuteTime": {
     "end_time": "2021-04-22T19:00:46.427833Z",
     "start_time": "2021-04-22T19:00:46.405896Z"
    }
   },
   "outputs": [],
   "source": [
    "import matplotlib.pyplot as plt\n",
    "import numpy as np\n",
    "# ^^^ pyforest auto-imports - don't write above this line\n",
    "# Library imports\n",
    "import pyforest\n",
    "import struct\n",
    "import skimage.transform\n",
    "import tensorflow as tf\n",
    "import datetime\n",
    "\n",
    "# Dependency imports\n",
    "from tensorflow.keras import datasets, layers, models\n",
    "from tensorflow.keras import backend as K\n",
    "from tensorflow.keras.regularizers import l2\n",
    "from tensorflow.keras.optimizers import SGD\n",
    "from tensorflow.keras.wrappers import scikit_learn\n",
    "from tensorflow.keras.callbacks import EarlyStopping, ReduceLROnPlateau\n",
    "from tensorflow.keras.preprocessing.image import ImageDataGenerator\n",
    "from tensorflow.keras.layers import Dense, Dropout, Activation, Flatten\n",
    "from PIL import Image\n",
    "from sklearn.metrics import confusion_matrix\n",
    "from sklearn.model_selection import train_test_split, cross_val_score\n",
    "from sklearn.preprocessing import OneHotEncoder\n",
    "\n",
    "# Notebook Extentions\n",
    "%load_ext tensorboard"
   ]
  },
  {
   "cell_type": "code",
   "execution_count": 2,
   "metadata": {
    "ExecuteTime": {
     "end_time": "2021-04-22T13:56:14.054041Z",
     "start_time": "2021-04-22T13:56:14.046097Z"
    }
   },
   "outputs": [
    {
     "name": "stdout",
     "output_type": "stream",
     "text": [
      "Num GPUs Available:  0\n"
     ]
    }
   ],
   "source": [
    "print(\"Num GPUs Available: \", len(tf.config.list_physical_devices('GPU')))"
   ]
  },
  {
   "cell_type": "markdown",
   "metadata": {
    "heading_collapsed": true
   },
   "source": [
    "# Japanese Handwriting Recognition Project"
   ]
  },
  {
   "cell_type": "markdown",
   "metadata": {
    "hidden": true
   },
   "source": [
    "![Japanese_Kana_Chart](img/variant-hentaigana-chart.jpg)"
   ]
  },
  {
   "cell_type": "markdown",
   "metadata": {
    "heading_collapsed": true,
    "hidden": true
   },
   "source": [
    "## Agenda"
   ]
  },
  {
   "cell_type": "markdown",
   "metadata": {
    "hidden": true
   },
   "source": [
    "This project aims to accurately predict Japanese handwriting and display the corresponding text output correctly. Using the three main Japanese language writing systems (Kanji, Hiragana, Katakana), the data is from the [ETL Character Database](http://etlcdb.db.aist.go.jp/), which includes over a billion total of Japanese characters hand-written and reorganized by the [National Institute of Advanced Industrial Science and Technology (AIST)](http://www.jeita.or.jp/english/). "
   ]
  },
  {
   "cell_type": "markdown",
   "metadata": {
    "heading_collapsed": true,
    "hidden": true
   },
   "source": [
    "## Data Information"
   ]
  },
  {
   "cell_type": "markdown",
   "metadata": {
    "hidden": true
   },
   "source": [
    "- Each file contains 5 data sets except ETL8G_33\n",
    "- Each data set contains 956 characters written by a writer.\n",
    "- Each writer wrote 10 sheets (genkouyoushi) per data set"
   ]
  },
  {
   "cell_type": "markdown",
   "metadata": {
    "heading_collapsed": true,
    "hidden": true
   },
   "source": [
    "### Japanese Character Dataset Info"
   ]
  },
  {
   "cell_type": "markdown",
   "metadata": {
    "hidden": true
   },
   "source": [
    "- **Hiragana (ETL 8)**\n",
    "    - 71 hiragana characters (46 unique + 29 diphthongs)\n",
    "    - 160 writers\n",
    "    - 8199 records (genkouyoushi sheets) \n",
    "    - 1,254,120,000 unique handwritten hiragana characters (shared with kanji chars in the same files)\n",
    "- **Kanji (ETL 8)**\n",
    "    - 883 daily use kanji\n",
    "    - 160 writers\n",
    "    - 8199 records \n",
    "    - 152,878,411 unique handwritten kanji (shared with hiragana chars in the same files)\n",
    "- **Katakana (ETL 1)**\n",
    "    - 46 katakana characters (46 unique, dipthongs not included as they are phonetically identical to hiragana)\n",
    "    - 1411 writers\n",
    "    - 2052 records\n",
    "    - 2,436,366 unique handwritten katakana characters"
   ]
  },
  {
   "cell_type": "markdown",
   "metadata": {
    "heading_collapsed": true,
    "hidden": true
   },
   "source": [
    "### Import & Read Hiragana"
   ]
  },
  {
   "cell_type": "code",
   "execution_count": 2,
   "metadata": {
    "ExecuteTime": {
     "end_time": "2021-04-21T19:24:30.103589Z",
     "start_time": "2021-04-21T19:24:30.086607Z"
    },
    "hidden": true
   },
   "outputs": [],
   "source": [
    "hira_kanji_record = 8199"
   ]
  },
  {
   "cell_type": "code",
   "execution_count": 3,
   "metadata": {
    "ExecuteTime": {
     "end_time": "2021-04-21T19:24:30.840453Z",
     "start_time": "2021-04-21T19:24:30.828485Z"
    },
    "hidden": true
   },
   "outputs": [],
   "source": [
    "# Reading the Hiragana ETL8G File\n",
    "def read_ETL8G(f):\n",
    "    s = f.read(hira_kanji_record)\n",
    "    r = struct.unpack('>2H8sI4B4H2B30x8128s11x', s)\n",
    "    iF = Image.frombytes('F', (128, 127), r[14], 'bit', 4)\n",
    "    iL = iF.convert('L')\n",
    "    return r + (iL,)"
   ]
  },
  {
   "cell_type": "code",
   "execution_count": 4,
   "metadata": {
    "ExecuteTime": {
     "end_time": "2021-04-21T19:24:31.413361Z",
     "start_time": "2021-04-21T19:24:31.397404Z"
    },
    "hidden": true
   },
   "outputs": [],
   "source": [
    "# Function to read the binary code present in each of the 33 files included in the ETL8G folder\n",
    "def read_hiragana():\n",
    "    # Characters = 71, writers = 160, y = 127, x = 128\n",
    "    hiragana = np.zeros([71, 160, 127, 128], dtype = np.uint8)\n",
    "\n",
    "    for j in range(1, 33):\n",
    "        filename = 'data/ETL8G/ETL8G_{:02d}'.format(j)\n",
    "        with open(filename, 'rb') as f:\n",
    "            for id_dataset in range(5):\n",
    "                moji = 0\n",
    "                for i in range(956):\n",
    "                    r = read_ETL8G(f)\n",
    "                    if b'.HIRA' in r[2] or b'.WO.' in r[2]:\n",
    "                        if not b'KAI' in r[2] and not b'HEI' in r[2]:\n",
    "                            hiragana[moji, (j - 1) * 5 + id_dataset] = np.array(r[-1])\n",
    "                            moji += 1\n",
    "    np.savez_compressed('data/hiragana.npz', hiragana)"
   ]
  },
  {
   "cell_type": "code",
   "execution_count": 5,
   "metadata": {
    "ExecuteTime": {
     "end_time": "2021-04-21T19:24:32.222384Z",
     "start_time": "2021-04-21T19:24:32.210388Z"
    },
    "hidden": true
   },
   "outputs": [],
   "source": [
    "# Running the Function Above\n",
    "# read_hiragana()"
   ]
  },
  {
   "cell_type": "code",
   "execution_count": 6,
   "metadata": {
    "ExecuteTime": {
     "end_time": "2021-04-21T19:24:33.576885Z",
     "start_time": "2021-04-21T19:24:32.953389Z"
    },
    "hidden": true
   },
   "outputs": [],
   "source": [
    "hiragana_data = np.load('data/hiragana.npz')\n",
    "hira_test = hiragana_data.f.arr_0"
   ]
  },
  {
   "cell_type": "code",
   "execution_count": 7,
   "metadata": {
    "ExecuteTime": {
     "end_time": "2021-04-21T19:24:36.572378Z",
     "start_time": "2021-04-21T19:24:36.566394Z"
    },
    "hidden": true
   },
   "outputs": [
    {
     "data": {
      "text/plain": [
       "(71, 160, 127, 128)"
      ]
     },
     "execution_count": 7,
     "metadata": {},
     "output_type": "execute_result"
    }
   ],
   "source": [
    "hira_test.shape"
   ]
  },
  {
   "cell_type": "markdown",
   "metadata": {
    "heading_collapsed": true,
    "hidden": true
   },
   "source": [
    "### Import & Read Kanji"
   ]
  },
  {
   "cell_type": "code",
   "execution_count": 8,
   "metadata": {
    "ExecuteTime": {
     "end_time": "2021-04-21T19:24:37.783348Z",
     "start_time": "2021-04-21T19:24:37.766394Z"
    },
    "hidden": true
   },
   "outputs": [],
   "source": [
    "def read_kanji():\n",
    "    # Characters = 883, writers = 160, y = 127, x = 128\n",
    "    kanji = np.zeros([883, 160, 127, 128], dtype=np.uint8)\n",
    "    for i in range(1, 33):\n",
    "        filename = 'data/ETL8G/ETL8G_{:02d}'.format(i)\n",
    "        with open(filename, 'rb') as f:\n",
    "            for dataset in range(5):\n",
    "                char = 0\n",
    "                for j in range(956):\n",
    "                    r = read_ETL8G(f)\n",
    "                    if not (b'.HIRA' in r[2] or b'.WO.' in r[2]): \n",
    "                        kanji[char, (i - 1) * 5 + dataset] = np.array(r[-1])\n",
    "                        char += 1\n",
    "    np.savez_compressed('data/kanji.npz', kanji)"
   ]
  },
  {
   "cell_type": "code",
   "execution_count": null,
   "metadata": {
    "ExecuteTime": {
     "end_time": "2021-04-21T14:05:13.050778Z",
     "start_time": "2021-04-21T14:04:26.923685Z"
    },
    "hidden": true,
    "scrolled": true
   },
   "outputs": [],
   "source": [
    "# read_kanji()"
   ]
  },
  {
   "cell_type": "code",
   "execution_count": 9,
   "metadata": {
    "ExecuteTime": {
     "end_time": "2021-04-21T19:24:56.696327Z",
     "start_time": "2021-04-21T19:24:48.905093Z"
    },
    "hidden": true
   },
   "outputs": [],
   "source": [
    "kanji_data = np.load('data/kanji.npz')\n",
    "kanji_test = kanji_data.f.arr_0"
   ]
  },
  {
   "cell_type": "code",
   "execution_count": 10,
   "metadata": {
    "ExecuteTime": {
     "end_time": "2021-04-21T19:24:57.708929Z",
     "start_time": "2021-04-21T19:24:57.690950Z"
    },
    "hidden": true
   },
   "outputs": [
    {
     "data": {
      "text/plain": [
       "(883, 160, 127, 128)"
      ]
     },
     "execution_count": 10,
     "metadata": {},
     "output_type": "execute_result"
    }
   ],
   "source": [
    "kanji_test.shape"
   ]
  },
  {
   "cell_type": "markdown",
   "metadata": {
    "heading_collapsed": true,
    "hidden": true
   },
   "source": [
    "### Import & Read Katakana"
   ]
  },
  {
   "cell_type": "code",
   "execution_count": 11,
   "metadata": {
    "ExecuteTime": {
     "end_time": "2021-04-21T19:24:59.443988Z",
     "start_time": "2021-04-21T19:24:59.426009Z"
    },
    "hidden": true
   },
   "outputs": [],
   "source": [
    "kana_record = 2052"
   ]
  },
  {
   "cell_type": "code",
   "execution_count": 12,
   "metadata": {
    "ExecuteTime": {
     "end_time": "2021-04-21T19:24:59.769950Z",
     "start_time": "2021-04-21T19:24:59.750969Z"
    },
    "hidden": true
   },
   "outputs": [],
   "source": [
    "# Reading in the Katakana ETL1 File\n",
    "def read_ETL1(total_sheets, f):\n",
    "    s = f.read(kana_record)\n",
    "    r = struct.unpack('>H2sH6BI4H4B4x2016s4x', s)\n",
    "    iF = Image.frombytes('F', (64, 63), r[18], 'bit', 4)\n",
    "    iL = iF.convert('L')\n",
    "    return r + (iL,)"
   ]
  },
  {
   "cell_type": "code",
   "execution_count": 13,
   "metadata": {
    "ExecuteTime": {
     "end_time": "2021-04-21T19:25:00.519786Z",
     "start_time": "2021-04-21T19:25:00.499840Z"
    },
    "hidden": true
   },
   "outputs": [],
   "source": [
    "def read_katakana():\n",
    "    # Character type = 46, writers = 1411, y = 63, x = 64\n",
    "    katakana = np.zeros([46, 1411, 63, 64], dtype=np.uint8)\n",
    "    counter = 0\n",
    "    moji = 0\n",
    "    for k in range(7, 14):\n",
    "        filename = 'data/ETL1/ETL1C_{:02d}'.format(k)\n",
    "        with open(filename, 'rb') as f:\n",
    "            total_sheets = 0\n",
    "            categories = 8\n",
    "            if k == 13:\n",
    "                categories = 3\n",
    "            for j in range(categories):\n",
    "                incrimenter = 0\n",
    "                person = 0\n",
    "                sheets = 1411\n",
    "                if k == 9 and j == 4:\n",
    "                    sheets = 1410\n",
    "                elif k == 12 and j == 1:\n",
    "                    sheets = 1410\n",
    "                for i in range(sheets):\n",
    "                    r = read_ETL1(total_sheets, f)\n",
    "                    total_sheets += sheets\n",
    "                    if k < 11 or (k >= 11 and b' I' not in r[1] and b' E' not in r[1] and b'WI' not in r[1] and b' U' not in r[1] and b'WE' not in r[1]):\n",
    "                        pixels = np.array(r[-1])\n",
    "                        for row in pixels:\n",
    "                            for i in range(len(row)):\n",
    "                                if row[i] == 1 or row[i] == 2:\n",
    "                                    row[i] = 0\n",
    "                        katakana[moji, person] = pixels\n",
    "                        incrimenter = 1\n",
    "                        person += 1\n",
    "                moji += incrimenter\n",
    "    np.savez_compressed('data/katakana.npz', katakana)"
   ]
  },
  {
   "cell_type": "code",
   "execution_count": 14,
   "metadata": {
    "ExecuteTime": {
     "end_time": "2021-04-21T19:25:01.427361Z",
     "start_time": "2021-04-21T19:25:01.415395Z"
    },
    "hidden": true
   },
   "outputs": [],
   "source": [
    "# read_katakana()"
   ]
  },
  {
   "cell_type": "code",
   "execution_count": 15,
   "metadata": {
    "ExecuteTime": {
     "end_time": "2021-04-21T19:25:02.498922Z",
     "start_time": "2021-04-21T19:25:01.819433Z"
    },
    "hidden": true
   },
   "outputs": [],
   "source": [
    "katakana_data = np.load('data/katakana.npz')\n",
    "kana_test = katakana_data.f.arr_0"
   ]
  },
  {
   "cell_type": "code",
   "execution_count": 16,
   "metadata": {
    "ExecuteTime": {
     "end_time": "2021-04-21T19:25:03.495935Z",
     "start_time": "2021-04-21T19:25:03.490949Z"
    },
    "hidden": true
   },
   "outputs": [
    {
     "data": {
      "text/plain": [
       "(46, 1411, 63, 64)"
      ]
     },
     "execution_count": 16,
     "metadata": {},
     "output_type": "execute_result"
    }
   ],
   "source": [
    "kana_test.shape"
   ]
  },
  {
   "cell_type": "markdown",
   "metadata": {
    "heading_collapsed": true,
    "hidden": true
   },
   "source": [
    "## Visualizing Characters"
   ]
  },
  {
   "cell_type": "markdown",
   "metadata": {
    "hidden": true
   },
   "source": [
    "### Visualizing Hiragana"
   ]
  },
  {
   "cell_type": "code",
   "execution_count": 17,
   "metadata": {
    "ExecuteTime": {
     "end_time": "2021-04-21T19:25:05.396976Z",
     "start_time": "2021-04-21T19:25:05.383014Z"
    },
    "hidden": true
   },
   "outputs": [],
   "source": [
    "# Visualizing Hiragana\n",
    "def visualize_hiragana():\n",
    "    for j in range(1, 2):\n",
    "        filename = 'data/ETL8G/ETL8G_{:02d}'.format(j)\n",
    "        with open(filename, 'rb') as f:\n",
    "            for id_dataset in range(1):\n",
    "                new_img = Image.new('L', (128*32, 128*30))\n",
    "                for i in range(956):\n",
    "                    r = read_ETL8G(f)\n",
    "                    if b'.HIRA' in r[2]:\n",
    "                        print(r[:4])"
   ]
  },
  {
   "cell_type": "code",
   "execution_count": 18,
   "metadata": {
    "ExecuteTime": {
     "end_time": "2021-04-21T19:25:06.311642Z",
     "start_time": "2021-04-21T19:25:05.997428Z"
    },
    "collapsed": true,
    "hidden": true
   },
   "outputs": [
    {
     "name": "stdout",
     "output_type": "stream",
     "text": [
      "(1, 9250, b'A.HIRA  ', 1)\n",
      "(1, 9252, b'I.HIRA  ', 16)\n",
      "(1, 9254, b'U.HIRA  ', 31)\n",
      "(1, 9256, b'E.HIRA  ', 46)\n",
      "(1, 9258, b'O.HIRA  ', 61)\n",
      "(1, 9259, b'KA.HIRA ', 76)\n",
      "(1, 19007, b'HEI.HIRA', 83)\n",
      "(1, 9260, b'GA.HIRA ', 91)\n",
      "(2, 9261, b'KI.HIRA ', 1)\n",
      "(2, 9262, b'GI.HIRA ', 16)\n",
      "(2, 9263, b'KU.HIRA ', 31)\n",
      "(2, 9264, b'GU.HIRA ', 46)\n",
      "(2, 9265, b'KE.HIRA ', 61)\n",
      "(2, 9266, b'GE.HIRA ', 76)\n",
      "(2, 9267, b'KO.HIRA ', 91)\n",
      "(3, 9268, b'GO.HIRA ', 193)\n",
      "(3, 9269, b'SA.HIRA ', 208)\n",
      "(3, 9270, b'ZA.HIRA ', 223)\n",
      "(3, 9271, b'SHI.HIRA', 238)\n",
      "(3, 9272, b'JI.HIRA ', 253)\n",
      "(3, 9273, b'SU.HIRA ', 268)\n",
      "(3, 9274, b'ZU.HIRA ', 283)\n",
      "(4, 9275, b'SE.HIRA ', 289)\n",
      "(4, 9276, b'ZE.HIRA ', 304)\n",
      "(4, 9277, b'SO.HIRA ', 319)\n",
      "(4, 9278, b'ZO.HIRA ', 334)\n",
      "(4, 9279, b'TA.HIRA ', 349)\n",
      "(4, 9280, b'DA.HIRA ', 364)\n",
      "(4, 9281, b'CHI.HIRA', 378)\n",
      "(5, 9282, b'JI.HIRA ', 385)\n",
      "(5, 9284, b'TSU.HIRA', 400)\n",
      "(5, 9285, b'ZU.HIRA ', 415)\n",
      "(5, 9286, b'TE.HIRA ', 430)\n",
      "(5, 9287, b'DE.HIRA ', 445)\n",
      "(5, 9288, b'TO.HIRA ', 460)\n",
      "(5, 9289, b'DO.HIRA ', 475)\n",
      "(6, 9290, b'NA.HIRA ', 480)\n",
      "(6, 9291, b'NI.HIRA ', 495)\n",
      "(6, 9292, b'NU.HIRA ', 510)\n",
      "(6, 9293, b'NE.HIRA ', 525)\n",
      "(6, 9294, b'NO.HIRA ', 540)\n",
      "(6, 9295, b'HA.HIRA ', 555)\n",
      "(6, 9296, b'BA.HIRA ', 570)\n",
      "(7, 9297, b'PA.HIRA ', 576)\n",
      "(7, 9298, b'HI.HIRA ', 591)\n",
      "(7, 9299, b'BI.HIRA ', 606)\n",
      "(7, 9300, b'PI.HIRA ', 621)\n",
      "(7, 9301, b'FU.HIRA ', 636)\n",
      "(7, 9302, b'BU.HIRA ', 651)\n",
      "(7, 9303, b'PU.HIRA ', 666)\n",
      "(8, 9304, b'HE.HIRA ', 671)\n",
      "(8, 9305, b'BE.HIRA ', 686)\n",
      "(8, 9306, b'PE.HIRA ', 701)\n",
      "(8, 9307, b'HO.HIRA ', 716)\n",
      "(8, 9308, b'BO.HIRA ', 731)\n",
      "(8, 9309, b'PO.HIRA ', 746)\n",
      "(8, 9310, b'MA.HIRA ', 761)\n",
      "(9, 9311, b'MI.HIRA ', 766)\n",
      "(9, 9312, b'MU.HIRA ', 781)\n",
      "(9, 9313, b'ME.HIRA ', 796)\n",
      "(9, 9314, b'MO.HIRA ', 811)\n",
      "(9, 9316, b'YA.HIRA ', 826)\n",
      "(9, 9318, b'YU.HIRA ', 841)\n",
      "(9, 9320, b'YO.HIRA ', 856)\n",
      "(10, 9321, b'RA.HIRA ', 861)\n",
      "(10, 13099, b'KAI.HIRA', 870)\n",
      "(10, 9322, b'RI.HIRA ', 876)\n",
      "(10, 9323, b'RU.HIRA ', 891)\n",
      "(10, 9324, b'RE.HIRA ', 906)\n",
      "(10, 9325, b'RO.HIRA ', 921)\n",
      "(10, 9327, b'WA.HIRA ', 936)\n",
      "(10, 9331, b'N.HIRA  ', 956)\n"
     ]
    }
   ],
   "source": [
    "visualize_hiragana()"
   ]
  },
  {
   "cell_type": "code",
   "execution_count": 19,
   "metadata": {
    "ExecuteTime": {
     "end_time": "2021-04-21T19:25:06.533708Z",
     "start_time": "2021-04-21T19:25:06.519747Z"
    },
    "hidden": true
   },
   "outputs": [],
   "source": [
    "def one_kana():\n",
    "    filename = 'data/ETL8G/ETL8G_01'\n",
    "    counter = 0\n",
    "    with open(filename, 'rb') as f:\n",
    "        for id_dataset in range(5):\n",
    "            for i in range(956):\n",
    "                r = read_ETL8G(f)\n",
    "                if b'.WO.' in r[2]:\n",
    "                    iE = Image.eval(r[-1], lambda x: 255-x*16)\n",
    "                    fn = 'kana_visualization.png'.format((r[0]-1)%20+1, hex(r[1])[-4:])\n",
    "                    # iE.save(fn, 'PNG')"
   ]
  },
  {
   "cell_type": "code",
   "execution_count": 20,
   "metadata": {
    "ExecuteTime": {
     "end_time": "2021-04-21T19:25:07.772089Z",
     "start_time": "2021-04-21T19:25:07.262257Z"
    },
    "hidden": true
   },
   "outputs": [],
   "source": [
    "one_kana()"
   ]
  },
  {
   "cell_type": "markdown",
   "metadata": {
    "hidden": true
   },
   "source": [
    "- Kana Sample Visualization ![kana](img/kana_visualization.png)"
   ]
  },
  {
   "cell_type": "markdown",
   "metadata": {
    "heading_collapsed": true,
    "hidden": true
   },
   "source": [
    "### Visualizing Kanji"
   ]
  },
  {
   "cell_type": "code",
   "execution_count": null,
   "metadata": {
    "ExecuteTime": {
     "end_time": "2021-04-21T14:19:05.664317Z",
     "start_time": "2021-04-21T14:19:05.658333Z"
    },
    "hidden": true
   },
   "outputs": [],
   "source": [
    "def visualize_kanji():\n",
    "    for j in range(1, 2):\n",
    "        filename = 'data/ETL8G/ETL8G_{:02d}'.format(j)\n",
    "        with open(filename, 'rb') as f:\n",
    "            for id_dataset in range(1):\n",
    "                new_img = Image.new('L', (128*32, 128*30))\n",
    "                for i in range(956):\n",
    "                    r = read_ETL8G(f)\n",
    "                    if not (b'.HIRA' in r[2] or b'.WO.' in r[2]):\n",
    "                        print(r[:4])"
   ]
  },
  {
   "cell_type": "code",
   "execution_count": null,
   "metadata": {
    "ExecuteTime": {
     "end_time": "2021-04-21T14:19:06.786383Z",
     "start_time": "2021-04-21T14:19:06.506133Z"
    },
    "hidden": true
   },
   "outputs": [],
   "source": [
    "visualize_kanji()"
   ]
  },
  {
   "cell_type": "code",
   "execution_count": 21,
   "metadata": {
    "ExecuteTime": {
     "end_time": "2021-04-21T19:25:14.816944Z",
     "start_time": "2021-04-21T19:25:14.800987Z"
    },
    "hidden": true
   },
   "outputs": [],
   "source": [
    "def one_kanji():\n",
    "    filename = 'data/ETL8G/ETL8G_01'\n",
    "    counter = 0\n",
    "    with open(filename, 'rb') as f:\n",
    "        for id_dataset in range(5):\n",
    "            for i in range(956):\n",
    "                r = read_ETL8G(f)\n",
    "                if not (b'.HIRA' in r[2] or b'.WO.' in r[2]):\n",
    "                    iE = Image.eval(r[-1], lambda x: 255-x*16)\n",
    "                    fn = 'kanji_visualization.png'.format((r[0]-1)%20+1, hex(r[1])[-4:])\n",
    "                    # iE.save(fn, 'PNG')"
   ]
  },
  {
   "cell_type": "code",
   "execution_count": 22,
   "metadata": {
    "ExecuteTime": {
     "end_time": "2021-04-21T19:25:15.863642Z",
     "start_time": "2021-04-21T19:25:15.060817Z"
    },
    "hidden": true
   },
   "outputs": [],
   "source": [
    "one_kanji()"
   ]
  },
  {
   "cell_type": "markdown",
   "metadata": {
    "ExecuteTime": {
     "end_time": "2021-04-20T17:26:30.969721Z",
     "start_time": "2021-04-20T17:26:30.749589Z"
    },
    "hidden": true
   },
   "source": [
    "- Kanji Sample Visualization: ![kanji](img/kanji_visualization.png)"
   ]
  },
  {
   "cell_type": "markdown",
   "metadata": {
    "heading_collapsed": true,
    "hidden": true
   },
   "source": [
    "## Feature Engineering"
   ]
  },
  {
   "cell_type": "markdown",
   "metadata": {
    "hidden": true
   },
   "source": [
    "- The image dimensions need to be resized for the ML model to work on them. Initially images were resized to 32x32, but due to model performance, they were upsized to be 48x48."
   ]
  },
  {
   "cell_type": "markdown",
   "metadata": {
    "heading_collapsed": true,
    "hidden": true
   },
   "source": [
    "### Resizing Hiragana Images"
   ]
  },
  {
   "cell_type": "code",
   "execution_count": 3,
   "metadata": {
    "ExecuteTime": {
     "end_time": "2021-04-22T13:58:04.863554Z",
     "start_time": "2021-04-22T13:58:04.850588Z"
    },
    "hidden": true
   },
   "outputs": [],
   "source": [
    "# 71 unique classes of hiragana (including dipthongs)\n",
    "hiragana_class = 71\n",
    "\n",
    "# Image dimensions\n",
    "img_row, img_col = 48, 48"
   ]
  },
  {
   "cell_type": "code",
   "execution_count": 4,
   "metadata": {
    "ExecuteTime": {
     "end_time": "2021-04-22T13:58:07.464514Z",
     "start_time": "2021-04-22T13:58:06.306108Z"
    },
    "hidden": true
   },
   "outputs": [
    {
     "data": {
      "application/javascript": [
       "\n",
       "        if (window._pyforest_update_imports_cell) { window._pyforest_update_imports_cell('import numpy as np'); }\n",
       "    "
      ],
      "text/plain": [
       "<IPython.core.display.Javascript object>"
      ]
     },
     "metadata": {},
     "output_type": "display_data"
    },
    {
     "data": {
      "application/javascript": [
       "\n",
       "        if (window._pyforest_update_imports_cell) { window._pyforest_update_imports_cell('import numpy as np'); }\n",
       "    "
      ],
      "text/plain": [
       "<IPython.core.display.Javascript object>"
      ]
     },
     "metadata": {},
     "output_type": "display_data"
    },
    {
     "data": {
      "application/javascript": [
       "\n",
       "        if (window._pyforest_update_imports_cell) { window._pyforest_update_imports_cell('import numpy as np'); }\n",
       "    "
      ],
      "text/plain": [
       "<IPython.core.display.Javascript object>"
      ]
     },
     "metadata": {},
     "output_type": "display_data"
    }
   ],
   "source": [
    "hiragana_table = np.load('data/hiragana.npz')['arr_0'].reshape([-1, 127, 128]).astype(np.float32)\n",
    "hiragana_table = hiragana_table/np.max(hiragana_table)"
   ]
  },
  {
   "cell_type": "code",
   "execution_count": 5,
   "metadata": {
    "ExecuteTime": {
     "end_time": "2021-04-22T13:58:18.645022Z",
     "start_time": "2021-04-22T13:58:08.833205Z"
    },
    "hidden": true
   },
   "outputs": [
    {
     "data": {
      "application/javascript": [
       "\n",
       "        if (window._pyforest_update_imports_cell) { window._pyforest_update_imports_cell('import numpy as np'); }\n",
       "    "
      ],
      "text/plain": [
       "<IPython.core.display.Javascript object>"
      ]
     },
     "metadata": {},
     "output_type": "display_data"
    },
    {
     "data": {
      "application/javascript": [
       "\n",
       "        if (window._pyforest_update_imports_cell) { window._pyforest_update_imports_cell('import numpy as np'); }\n",
       "    "
      ],
      "text/plain": [
       "<IPython.core.display.Javascript object>"
      ]
     },
     "metadata": {},
     "output_type": "display_data"
    }
   ],
   "source": [
    "hiragana_train = np.zeros([hiragana_class * 160, img_row, img_col], dtype = np.float32)\n",
    "\n",
    "for i in range(hiragana_class * 160):\n",
    "    hiragana_train[i] = skimage.transform.resize(hiragana_table[i], (img_row, img_col))"
   ]
  },
  {
   "cell_type": "markdown",
   "metadata": {
    "heading_collapsed": true,
    "hidden": true
   },
   "source": [
    "### Resizing Kanji Images"
   ]
  },
  {
   "cell_type": "code",
   "execution_count": 6,
   "metadata": {
    "ExecuteTime": {
     "end_time": "2021-04-22T13:58:22.594505Z",
     "start_time": "2021-04-22T13:58:22.583502Z"
    },
    "hidden": true
   },
   "outputs": [],
   "source": [
    "# 879 unique classes of kanji (most daily used kanji)\n",
    "kanji_class = 873"
   ]
  },
  {
   "cell_type": "code",
   "execution_count": 7,
   "metadata": {
    "ExecuteTime": {
     "end_time": "2021-04-22T13:59:35.245072Z",
     "start_time": "2021-04-22T13:58:23.744583Z"
    },
    "hidden": true
   },
   "outputs": [
    {
     "data": {
      "application/javascript": [
       "\n",
       "        if (window._pyforest_update_imports_cell) { window._pyforest_update_imports_cell('import numpy as np'); }\n",
       "    "
      ],
      "text/plain": [
       "<IPython.core.display.Javascript object>"
      ]
     },
     "metadata": {},
     "output_type": "display_data"
    },
    {
     "data": {
      "application/javascript": [
       "\n",
       "        if (window._pyforest_update_imports_cell) { window._pyforest_update_imports_cell('import numpy as np'); }\n",
       "    "
      ],
      "text/plain": [
       "<IPython.core.display.Javascript object>"
      ]
     },
     "metadata": {},
     "output_type": "display_data"
    },
    {
     "data": {
      "application/javascript": [
       "\n",
       "        if (window._pyforest_update_imports_cell) { window._pyforest_update_imports_cell('import numpy as np'); }\n",
       "    "
      ],
      "text/plain": [
       "<IPython.core.display.Javascript object>"
      ]
     },
     "metadata": {},
     "output_type": "display_data"
    }
   ],
   "source": [
    "kanji_table = np.load('data/kanji.npz')['arr_0'].reshape([-1, 127, 128]).astype(np.float32)\n",
    "kanji_table = kanji_table/np.max(kanji_table)"
   ]
  },
  {
   "cell_type": "markdown",
   "metadata": {
    "hidden": true
   },
   "source": [
    "- The kanji and hiragana characters share the ECT8 dataset, and they are not intuitively arranged. This accounts for this so hiragana are not mistakenly classified as kanji characters."
   ]
  },
  {
   "cell_type": "code",
   "execution_count": 8,
   "metadata": {
    "ExecuteTime": {
     "end_time": "2021-04-22T14:00:48.238786Z",
     "start_time": "2021-04-22T13:59:57.841605Z"
    },
    "hidden": true
   },
   "outputs": [
    {
     "data": {
      "application/javascript": [
       "\n",
       "        if (window._pyforest_update_imports_cell) { window._pyforest_update_imports_cell('import numpy as np'); }\n",
       "    "
      ],
      "text/plain": [
       "<IPython.core.display.Javascript object>"
      ]
     },
     "metadata": {},
     "output_type": "display_data"
    },
    {
     "data": {
      "application/javascript": [
       "\n",
       "        if (window._pyforest_update_imports_cell) { window._pyforest_update_imports_cell('import numpy as np'); }\n",
       "    "
      ],
      "text/plain": [
       "<IPython.core.display.Javascript object>"
      ]
     },
     "metadata": {},
     "output_type": "display_data"
    }
   ],
   "source": [
    "kanji_train = np.zeros([kanji_class * 160, img_row, img_col], dtype = np.float32)\n",
    "\n",
    "for i in range((kanji_class + 4) * 160):\n",
    "    if int(i / 160) != 88 and int( i / 160) != 219 and int( i / 160) != 349 and int( i / 160) != 457:\n",
    "        if int(i / 160) < 88:\n",
    "            kanji_train[i] = skimage.transform.resize(kanji_table[i], (img_row, img_col))\n",
    "        if int(i/160) > 88 and int(i/160) < 219:\n",
    "            kanji_train[i-160] = skimage.transform.resize(kanji_table[i], (img_row, img_col))\n",
    "        if int(i/160) > 219 and int(i/160) < 349:\n",
    "            kanji_train[i-320] = skimage.transform.resize(kanji_table[i], (img_row, img_col))\n",
    "        if int(i/160) > 349 and int(i/160) < 457:\n",
    "            if int(i/160) > 457:\n",
    "                kanji_train[i-640] = skimage.transform.resize(kanji_table[i], (img_row, img_col))"
   ]
  },
  {
   "cell_type": "markdown",
   "metadata": {
    "heading_collapsed": true,
    "hidden": true
   },
   "source": [
    "### Resizing Katakana Images"
   ]
  },
  {
   "cell_type": "code",
   "execution_count": 9,
   "metadata": {
    "ExecuteTime": {
     "end_time": "2021-04-22T14:01:29.937834Z",
     "start_time": "2021-04-22T14:01:29.929856Z"
    },
    "hidden": true
   },
   "outputs": [],
   "source": [
    "# 71 frequently used katakana characters (including dipthongs)\n",
    "katakana_class = 46"
   ]
  },
  {
   "cell_type": "code",
   "execution_count": 10,
   "metadata": {
    "ExecuteTime": {
     "end_time": "2021-04-22T14:01:32.328261Z",
     "start_time": "2021-04-22T14:01:30.457040Z"
    },
    "hidden": true
   },
   "outputs": [
    {
     "data": {
      "application/javascript": [
       "\n",
       "        if (window._pyforest_update_imports_cell) { window._pyforest_update_imports_cell('import numpy as np'); }\n",
       "    "
      ],
      "text/plain": [
       "<IPython.core.display.Javascript object>"
      ]
     },
     "metadata": {},
     "output_type": "display_data"
    },
    {
     "data": {
      "application/javascript": [
       "\n",
       "        if (window._pyforest_update_imports_cell) { window._pyforest_update_imports_cell('import numpy as np'); }\n",
       "    "
      ],
      "text/plain": [
       "<IPython.core.display.Javascript object>"
      ]
     },
     "metadata": {},
     "output_type": "display_data"
    },
    {
     "data": {
      "application/javascript": [
       "\n",
       "        if (window._pyforest_update_imports_cell) { window._pyforest_update_imports_cell('import numpy as np'); }\n",
       "    "
      ],
      "text/plain": [
       "<IPython.core.display.Javascript object>"
      ]
     },
     "metadata": {},
     "output_type": "display_data"
    }
   ],
   "source": [
    "katakana_table = np.load('data/katakana.npz')['arr_0'].reshape([-1, 63, 64]).astype(np.float32)\n",
    "katakana_table = katakana_table/np.max(katakana_table)"
   ]
  },
  {
   "cell_type": "code",
   "execution_count": 11,
   "metadata": {
    "ExecuteTime": {
     "end_time": "2021-04-22T14:07:08.662194Z",
     "start_time": "2021-04-22T14:06:22.960426Z"
    },
    "hidden": true
   },
   "outputs": [
    {
     "data": {
      "application/javascript": [
       "\n",
       "        if (window._pyforest_update_imports_cell) { window._pyforest_update_imports_cell('import numpy as np'); }\n",
       "    "
      ],
      "text/plain": [
       "<IPython.core.display.Javascript object>"
      ]
     },
     "metadata": {},
     "output_type": "display_data"
    },
    {
     "data": {
      "application/javascript": [
       "\n",
       "        if (window._pyforest_update_imports_cell) { window._pyforest_update_imports_cell('import numpy as np'); }\n",
       "    "
      ],
      "text/plain": [
       "<IPython.core.display.Javascript object>"
      ]
     },
     "metadata": {},
     "output_type": "display_data"
    }
   ],
   "source": [
    "katakana_train = np.zeros([katakana_class * 1411, img_row, img_col], dtype = np.float32)\n",
    "\n",
    "for i in range(katakana_class * 1411):\n",
    "    katakana_train[i] = skimage.transform.resize(katakana_table[i], (img_row, img_col))"
   ]
  },
  {
   "cell_type": "markdown",
   "metadata": {
    "heading_collapsed": true,
    "hidden": true
   },
   "source": [
    "## Model Preparation"
   ]
  },
  {
   "cell_type": "markdown",
   "metadata": {
    "heading_collapsed": true,
    "hidden": true
   },
   "source": [
    "### Creating Labels"
   ]
  },
  {
   "cell_type": "code",
   "execution_count": 12,
   "metadata": {
    "ExecuteTime": {
     "end_time": "2021-04-22T14:21:52.079036Z",
     "start_time": "2021-04-22T14:21:52.052081Z"
    },
    "hidden": true
   },
   "outputs": [
    {
     "data": {
      "application/javascript": [
       "\n",
       "        if (window._pyforest_update_imports_cell) { window._pyforest_update_imports_cell('import numpy as np'); }\n",
       "    "
      ],
      "text/plain": [
       "<IPython.core.display.Javascript object>"
      ]
     },
     "metadata": {},
     "output_type": "display_data"
    },
    {
     "data": {
      "application/javascript": [
       "\n",
       "        if (window._pyforest_update_imports_cell) { window._pyforest_update_imports_cell('import numpy as np'); }\n",
       "    "
      ],
      "text/plain": [
       "<IPython.core.display.Javascript object>"
      ]
     },
     "metadata": {},
     "output_type": "display_data"
    },
    {
     "data": {
      "application/javascript": [
       "\n",
       "        if (window._pyforest_update_imports_cell) { window._pyforest_update_imports_cell('import numpy as np'); }\n",
       "    "
      ],
      "text/plain": [
       "<IPython.core.display.Javascript object>"
      ]
     },
     "metadata": {},
     "output_type": "display_data"
    },
    {
     "data": {
      "application/javascript": [
       "\n",
       "        if (window._pyforest_update_imports_cell) { window._pyforest_update_imports_cell('import numpy as np'); }\n",
       "    "
      ],
      "text/plain": [
       "<IPython.core.display.Javascript object>"
      ]
     },
     "metadata": {},
     "output_type": "display_data"
    },
    {
     "data": {
      "application/javascript": [
       "\n",
       "        if (window._pyforest_update_imports_cell) { window._pyforest_update_imports_cell('import numpy as np'); }\n",
       "    "
      ],
      "text/plain": [
       "<IPython.core.display.Javascript object>"
      ]
     },
     "metadata": {},
     "output_type": "display_data"
    },
    {
     "data": {
      "application/javascript": [
       "\n",
       "        if (window._pyforest_update_imports_cell) { window._pyforest_update_imports_cell('import numpy as np'); }\n",
       "    "
      ],
      "text/plain": [
       "<IPython.core.display.Javascript object>"
      ]
     },
     "metadata": {},
     "output_type": "display_data"
    }
   ],
   "source": [
    "y_labels_hiragana = np.repeat(np.arange(hiragana_class), 160)\n",
    "y_labels_kanji = np.repeat(np.arange(kanji_class), 160)\n",
    "y_labels_katakana = np.repeat(np.arange(katakana_class), 1411)"
   ]
  },
  {
   "cell_type": "markdown",
   "metadata": {
    "heading_collapsed": true,
    "hidden": true
   },
   "source": [
    "### Train-Test Split"
   ]
  },
  {
   "cell_type": "markdown",
   "metadata": {
    "hidden": true
   },
   "source": [
    "#### Hiragana Train-Test Split"
   ]
  },
  {
   "cell_type": "code",
   "execution_count": 13,
   "metadata": {
    "ExecuteTime": {
     "end_time": "2021-04-22T14:21:58.617699Z",
     "start_time": "2021-04-22T14:21:58.421129Z"
    },
    "hidden": true
   },
   "outputs": [],
   "source": [
    "hiragana_train, hiragana_test, hiragana_labels, hiragana_test_labels = train_test_split(\n",
    "                                                    hiragana_train,\n",
    "                                                    y_labels_hiragana,\n",
    "                                                    random_state=42,\n",
    "                                                    test_size=0.2)"
   ]
  },
  {
   "cell_type": "markdown",
   "metadata": {
    "hidden": true
   },
   "source": [
    "#### Kanji Train-Test Split"
   ]
  },
  {
   "cell_type": "code",
   "execution_count": 14,
   "metadata": {
    "ExecuteTime": {
     "end_time": "2021-04-22T14:22:00.748874Z",
     "start_time": "2021-04-22T14:21:59.956959Z"
    },
    "hidden": true
   },
   "outputs": [],
   "source": [
    "kanji_train, kanji_test, kanji_labels, kanji_test_labels = train_test_split(\n",
    "                                                    kanji_train,\n",
    "                                                    y_labels_kanji,\n",
    "                                                    random_state=42,\n",
    "                                                    test_size=0.3)"
   ]
  },
  {
   "cell_type": "markdown",
   "metadata": {
    "hidden": true
   },
   "source": [
    "#### Katakana Train-Test Split"
   ]
  },
  {
   "cell_type": "code",
   "execution_count": 15,
   "metadata": {
    "ExecuteTime": {
     "end_time": "2021-04-22T14:22:01.933209Z",
     "start_time": "2021-04-22T14:22:01.679855Z"
    },
    "hidden": true
   },
   "outputs": [],
   "source": [
    "katakana_train, katakana_test, katakana_labels, katakana_test_labels = train_test_split(\n",
    "                                                    katakana_train,\n",
    "                                                    y_labels_katakana,\n",
    "                                                    random_state=42,\n",
    "                                                    test_size=0.2)"
   ]
  },
  {
   "cell_type": "markdown",
   "metadata": {
    "heading_collapsed": true,
    "hidden": true
   },
   "source": [
    "### Multiclass Classification"
   ]
  },
  {
   "cell_type": "markdown",
   "metadata": {
    "hidden": true
   },
   "source": [
    "- For classification of multiple input types and target variables, we need to create a cross-validation set as well as OneHotEncode our y values (y_train, y_test, y_val)\n",
    "- We will divide our X values by the number of classes to normalize our pixel values to be between 0 & 1"
   ]
  },
  {
   "cell_type": "markdown",
   "metadata": {
    "hidden": true
   },
   "source": [
    "#### Hiragana Multiclass Preparation"
   ]
  },
  {
   "cell_type": "code",
   "execution_count": 16,
   "metadata": {
    "ExecuteTime": {
     "end_time": "2021-04-22T14:23:04.564524Z",
     "start_time": "2021-04-22T14:23:04.485737Z"
    },
    "hidden": true
   },
   "outputs": [
    {
     "data": {
      "application/javascript": [
       "\n",
       "        if (window._pyforest_update_imports_cell) { window._pyforest_update_imports_cell('import numpy as np'); }\n",
       "    "
      ],
      "text/plain": [
       "<IPython.core.display.Javascript object>"
      ]
     },
     "metadata": {},
     "output_type": "display_data"
    },
    {
     "data": {
      "application/javascript": [
       "\n",
       "        if (window._pyforest_update_imports_cell) { window._pyforest_update_imports_cell('import numpy as np'); }\n",
       "    "
      ],
      "text/plain": [
       "<IPython.core.display.Javascript object>"
      ]
     },
     "metadata": {},
     "output_type": "display_data"
    },
    {
     "data": {
      "application/javascript": [
       "\n",
       "        if (window._pyforest_update_imports_cell) { window._pyforest_update_imports_cell('import numpy as np'); }\n",
       "    "
      ],
      "text/plain": [
       "<IPython.core.display.Javascript object>"
      ]
     },
     "metadata": {},
     "output_type": "display_data"
    }
   ],
   "source": [
    "# Labels are our y values\n",
    "\n",
    "hira_X_train, hira_X_val, hira_y_train, hira_y_val =\\\n",
    "    train_test_split(hiragana_train, hiragana_labels, random_state = 42, test_size = 0.2)\n",
    "\n",
    "hira_X_train, hira_X_val, hira_X_test = hira_X_train/np.max(hira_X_train), hira_X_val/np.max(hira_X_val),\\\n",
    "                                        hiragana_test/np.max(hiragana_test)"
   ]
  },
  {
   "cell_type": "code",
   "execution_count": 95,
   "metadata": {
    "ExecuteTime": {
     "end_time": "2021-04-23T11:50:26.812350Z",
     "start_time": "2021-04-23T11:50:26.790410Z"
    },
    "hidden": true
   },
   "outputs": [
    {
     "data": {
      "text/plain": [
       "(7270, 48, 48, 1)"
      ]
     },
     "execution_count": 95,
     "metadata": {},
     "output_type": "execute_result"
    }
   ],
   "source": [
    "hira_X_train.shape"
   ]
  },
  {
   "cell_type": "code",
   "execution_count": 96,
   "metadata": {
    "ExecuteTime": {
     "end_time": "2021-04-23T11:50:31.888226Z",
     "start_time": "2021-04-23T11:50:31.870274Z"
    },
    "hidden": true
   },
   "outputs": [
    {
     "data": {
      "text/plain": [
       "(1818, 48, 48, 1)"
      ]
     },
     "execution_count": 96,
     "metadata": {},
     "output_type": "execute_result"
    }
   ],
   "source": [
    "hira_X_val.shape"
   ]
  },
  {
   "cell_type": "code",
   "execution_count": 18,
   "metadata": {
    "ExecuteTime": {
     "end_time": "2021-04-22T14:23:08.204702Z",
     "start_time": "2021-04-22T14:23:07.987386Z"
    },
    "hidden": true,
    "scrolled": false
   },
   "outputs": [],
   "source": [
    "# One Hot Encode our y values. Fit & transform on y train and only transform on our CV and test data.\n",
    "\n",
    "hiragana_ohe = OneHotEncoder(sparse = False, handle_unknown = 'ignore')\n",
    "hira_y_train = hiragana_ohe.fit_transform(hira_y_train.reshape(-1, 1))\n",
    "hira_y_val = hiragana_ohe.transform(hira_y_val.reshape(-1, 1))\n",
    "hira_y_test = hiragana_ohe.transform(hiragana_test_labels.reshape(-1, 1))"
   ]
  },
  {
   "cell_type": "markdown",
   "metadata": {
    "hidden": true
   },
   "source": [
    "#### Kanji Multiclass Preparation"
   ]
  },
  {
   "cell_type": "code",
   "execution_count": 19,
   "metadata": {
    "ExecuteTime": {
     "end_time": "2021-04-22T14:23:15.058007Z",
     "start_time": "2021-04-22T14:23:14.351812Z"
    },
    "hidden": true
   },
   "outputs": [
    {
     "data": {
      "application/javascript": [
       "\n",
       "        if (window._pyforest_update_imports_cell) { window._pyforest_update_imports_cell('import numpy as np'); }\n",
       "    "
      ],
      "text/plain": [
       "<IPython.core.display.Javascript object>"
      ]
     },
     "metadata": {},
     "output_type": "display_data"
    },
    {
     "data": {
      "application/javascript": [
       "\n",
       "        if (window._pyforest_update_imports_cell) { window._pyforest_update_imports_cell('import numpy as np'); }\n",
       "    "
      ],
      "text/plain": [
       "<IPython.core.display.Javascript object>"
      ]
     },
     "metadata": {},
     "output_type": "display_data"
    },
    {
     "data": {
      "application/javascript": [
       "\n",
       "        if (window._pyforest_update_imports_cell) { window._pyforest_update_imports_cell('import numpy as np'); }\n",
       "    "
      ],
      "text/plain": [
       "<IPython.core.display.Javascript object>"
      ]
     },
     "metadata": {},
     "output_type": "display_data"
    }
   ],
   "source": [
    "# Labels are our y values\n",
    "\n",
    "kanji_X_train, kanji_X_val, kanji_y_train, kanji_y_val =\\\n",
    "    train_test_split(kanji_train, kanji_labels, random_state = 42, test_size = 0.3)\n",
    "\n",
    "kanji_X_train, kanji_X_val, kanji_X_test = kanji_X_train/np.max(kanji_X_train), kanji_X_val/np.max(kanji_X_val),\\\n",
    "                                           kanji_test/np.max(kanji_test)"
   ]
  },
  {
   "cell_type": "code",
   "execution_count": 97,
   "metadata": {
    "ExecuteTime": {
     "end_time": "2021-04-23T11:50:38.414205Z",
     "start_time": "2021-04-23T11:50:38.404205Z"
    },
    "hidden": true
   },
   "outputs": [
    {
     "data": {
      "text/plain": [
       "(68443, 48, 48, 1)"
      ]
     },
     "execution_count": 97,
     "metadata": {},
     "output_type": "execute_result"
    }
   ],
   "source": [
    "kanji_X_train.shape"
   ]
  },
  {
   "cell_type": "code",
   "execution_count": 98,
   "metadata": {
    "ExecuteTime": {
     "end_time": "2021-04-23T11:50:39.370353Z",
     "start_time": "2021-04-23T11:50:39.359383Z"
    },
    "hidden": true
   },
   "outputs": [
    {
     "data": {
      "text/plain": [
       "(29333, 48, 48, 1)"
      ]
     },
     "execution_count": 98,
     "metadata": {},
     "output_type": "execute_result"
    }
   ],
   "source": [
    "kanji_X_val.shape"
   ]
  },
  {
   "cell_type": "code",
   "execution_count": 24,
   "metadata": {
    "ExecuteTime": {
     "end_time": "2021-04-22T14:24:55.603044Z",
     "start_time": "2021-04-22T14:24:55.350719Z"
    },
    "hidden": true
   },
   "outputs": [],
   "source": [
    "# One Hot Encode our y values. Fit & transform on y train and only transform on our CV and test data.\n",
    "\n",
    "kanji_ohe = OneHotEncoder(sparse = False, handle_unknown = 'ignore')\n",
    "kanji_y_train = kanji_ohe.fit_transform(kanji_y_train.reshape(-1, 1))\n",
    "kanji_y_val = kanji_ohe.transform(kanji_y_val.reshape(-1, 1))\n",
    "kanji_y_test = kanji_ohe.transform(kanji_test_labels.reshape(-1, 1))"
   ]
  },
  {
   "cell_type": "markdown",
   "metadata": {
    "hidden": true
   },
   "source": [
    "#### Katakana Multiclass Preparation"
   ]
  },
  {
   "cell_type": "code",
   "execution_count": 25,
   "metadata": {
    "ExecuteTime": {
     "end_time": "2021-04-22T14:24:59.242844Z",
     "start_time": "2021-04-22T14:24:58.817982Z"
    },
    "hidden": true
   },
   "outputs": [
    {
     "data": {
      "application/javascript": [
       "\n",
       "        if (window._pyforest_update_imports_cell) { window._pyforest_update_imports_cell('import numpy as np'); }\n",
       "    "
      ],
      "text/plain": [
       "<IPython.core.display.Javascript object>"
      ]
     },
     "metadata": {},
     "output_type": "display_data"
    },
    {
     "data": {
      "application/javascript": [
       "\n",
       "        if (window._pyforest_update_imports_cell) { window._pyforest_update_imports_cell('import numpy as np'); }\n",
       "    "
      ],
      "text/plain": [
       "<IPython.core.display.Javascript object>"
      ]
     },
     "metadata": {},
     "output_type": "display_data"
    },
    {
     "data": {
      "application/javascript": [
       "\n",
       "        if (window._pyforest_update_imports_cell) { window._pyforest_update_imports_cell('import numpy as np'); }\n",
       "    "
      ],
      "text/plain": [
       "<IPython.core.display.Javascript object>"
      ]
     },
     "metadata": {},
     "output_type": "display_data"
    }
   ],
   "source": [
    "# Labels are our y values\n",
    "\n",
    "katakana_X_train, katakana_X_val, katakana_y_train, katakana_y_val =\\\n",
    "    train_test_split(katakana_train, katakana_labels, random_state = 42, test_size = 0.2)\n",
    "\n",
    "katakana_X_train, katakana_X_val, katakana_X_test = katakana_X_train/np.max(katakana_X_train),\\\n",
    "                                                katakana_X_val/np.max(katakana_X_val), katakana_test/np.max(katakana_test)"
   ]
  },
  {
   "cell_type": "code",
   "execution_count": 26,
   "metadata": {
    "ExecuteTime": {
     "end_time": "2021-04-22T14:25:00.794854Z",
     "start_time": "2021-04-22T14:25:00.745985Z"
    },
    "hidden": true
   },
   "outputs": [],
   "source": [
    "# One Hot Encode our y values. Fit & transform on y train and only transform on our CV and test data.\n",
    "\n",
    "katakana_ohe = OneHotEncoder(sparse = False, handle_unknown = 'ignore')\n",
    "katakana_y_train = katakana_ohe.fit_transform(katakana_y_train.reshape(-1, 1))\n",
    "katakana_y_val = katakana_ohe.transform(katakana_y_val.reshape(-1, 1))\n",
    "katakana_y_test = katakana_ohe.transform(katakana_test_labels.reshape(-1, 1))"
   ]
  },
  {
   "cell_type": "markdown",
   "metadata": {
    "heading_collapsed": true,
    "hidden": true
   },
   "source": [
    "### Adding Variation with ImageDataGenerator"
   ]
  },
  {
   "cell_type": "markdown",
   "metadata": {
    "hidden": true
   },
   "source": [
    "- Tensorflow's ImageDataGenerator can augment images to create new vesions of the data, essentially artificially inserting variation into the data\n",
    "- Images can be rotated, zoomed, and flipped\n",
    "- This variation is used to avoid overfitting on the training set\n",
    "- Following augmentation is for a 2D CNN"
   ]
  },
  {
   "cell_type": "markdown",
   "metadata": {
    "heading_collapsed": true,
    "hidden": true
   },
   "source": [
    "#### Hiragana Augmentation"
   ]
  },
  {
   "cell_type": "code",
   "execution_count": 27,
   "metadata": {
    "ExecuteTime": {
     "end_time": "2021-04-22T14:25:19.005729Z",
     "start_time": "2021-04-22T14:25:18.829730Z"
    },
    "hidden": true
   },
   "outputs": [],
   "source": [
    "# Default shape for CNN is 'channels_last', this makes sure everything is in the right order\n",
    "\n",
    "if K.image_data_format() == 'channels_first':\n",
    "    hira_X_train = hira_X_train.reshape(hira_X_train.shape[0], 1, img_row, img_col)\n",
    "    hira_X_test = hira_X_test.reshape(hira_X_test.shape[0], 1, img_row, img_col)\n",
    "    hira_X_val = hira_X_val.reshape(hira_X_val.shape[0], 1, img_row, img_col)\n",
    "    hira_shape = (1, img_row, img_col) \n",
    "else:\n",
    "    hira_X_train = hira_X_train.reshape(hira_X_train.shape[0], img_row, img_col, 1)\n",
    "    hira_X_test = hira_X_test.reshape(hira_X_test.shape[0], img_row, img_col, 1)\n",
    "    hira_X_val = hira_X_val.reshape(hira_X_val.shape[0], img_row, img_col, 1)\n",
    "    hira_shape = (img_row, img_col, 1) # For CNN\n",
    "\n",
    "hiragana_datagen = ImageDataGenerator(rotation_range = 15, zoom_range = 0.2)\n",
    "\n",
    "hiragana_datagen.fit(hira_X_train)"
   ]
  },
  {
   "cell_type": "code",
   "execution_count": 99,
   "metadata": {
    "ExecuteTime": {
     "end_time": "2021-04-23T11:50:54.538244Z",
     "start_time": "2021-04-23T11:50:54.521290Z"
    },
    "hidden": true
   },
   "outputs": [
    {
     "data": {
      "text/plain": [
       "(7270, 48, 48, 1)"
      ]
     },
     "execution_count": 99,
     "metadata": {},
     "output_type": "execute_result"
    }
   ],
   "source": [
    "hira_X_train.shape"
   ]
  },
  {
   "cell_type": "code",
   "execution_count": 100,
   "metadata": {
    "ExecuteTime": {
     "end_time": "2021-04-23T11:50:55.191669Z",
     "start_time": "2021-04-23T11:50:55.172690Z"
    },
    "hidden": true
   },
   "outputs": [
    {
     "data": {
      "text/plain": [
       "(1818, 48, 48, 1)"
      ]
     },
     "execution_count": 100,
     "metadata": {},
     "output_type": "execute_result"
    }
   ],
   "source": [
    "hira_X_val.shape"
   ]
  },
  {
   "cell_type": "markdown",
   "metadata": {
    "heading_collapsed": true,
    "hidden": true
   },
   "source": [
    "#### Kanji Augmentation"
   ]
  },
  {
   "cell_type": "code",
   "execution_count": 30,
   "metadata": {
    "ExecuteTime": {
     "end_time": "2021-04-22T14:25:28.688121Z",
     "start_time": "2021-04-22T14:25:28.421840Z"
    },
    "hidden": true
   },
   "outputs": [],
   "source": [
    "# Default shape for CNN is 'channels_last', this makes sure everything is in the right order\n",
    "\n",
    "if K.image_data_format() == 'channels_first':\n",
    "    kanji_X_train = kanji_X_train.reshape(kanji_X_train.shape[0], 1, img_row, img_col)\n",
    "    kanji_X_test = kanji_X_test.reshape(kanji_X_test.shape[0], 1, img_row, img_col)\n",
    "    kanji_X_val = kanji_X_val.reshape(kanji_X_val.shape[0], 1, img_row, img_col)\n",
    "    kanji_shape = (1, img_row, img_col) \n",
    "else:\n",
    "    kanji_X_train = kanji_X_train.reshape(kanji_X_train.shape[0], img_row, img_col, 1)\n",
    "    kanji_X_test = kanji_X_test.reshape(kanji_X_test.shape[0], img_row, img_col, 1)\n",
    "    kanji_X_val = kanji_X_val.reshape(kanji_X_val.shape[0], img_row, img_col, 1)\n",
    "    kanji_shape = (img_row, img_col, 1) # For CNN\n",
    "\n",
    "kanji_datagen = ImageDataGenerator(rotation_range = 15, zoom_range = 0.2)\n",
    "\n",
    "kanji_datagen.fit(kanji_X_train)"
   ]
  },
  {
   "cell_type": "code",
   "execution_count": 101,
   "metadata": {
    "ExecuteTime": {
     "end_time": "2021-04-23T11:50:58.625625Z",
     "start_time": "2021-04-23T11:50:58.613630Z"
    },
    "hidden": true,
    "scrolled": true
   },
   "outputs": [
    {
     "data": {
      "text/plain": [
       "(68443, 48, 48, 1)"
      ]
     },
     "execution_count": 101,
     "metadata": {},
     "output_type": "execute_result"
    }
   ],
   "source": [
    "kanji_X_train.shape"
   ]
  },
  {
   "cell_type": "code",
   "execution_count": 102,
   "metadata": {
    "ExecuteTime": {
     "end_time": "2021-04-23T11:50:59.183754Z",
     "start_time": "2021-04-23T11:50:59.177771Z"
    },
    "hidden": true
   },
   "outputs": [
    {
     "data": {
      "text/plain": [
       "(29333, 48, 48, 1)"
      ]
     },
     "execution_count": 102,
     "metadata": {},
     "output_type": "execute_result"
    }
   ],
   "source": [
    "kanji_X_val.shape"
   ]
  },
  {
   "cell_type": "markdown",
   "metadata": {
    "heading_collapsed": true,
    "hidden": true
   },
   "source": [
    "#### Katakana Augmentation"
   ]
  },
  {
   "cell_type": "code",
   "execution_count": 33,
   "metadata": {
    "ExecuteTime": {
     "end_time": "2021-04-22T14:25:34.922447Z",
     "start_time": "2021-04-22T14:25:34.771818Z"
    },
    "hidden": true
   },
   "outputs": [],
   "source": [
    "# Default shape for CNN is 'channels_last', this makes sure everything is in the right order\n",
    "\n",
    "if K.image_data_format() == 'channels_first':\n",
    "    katakana_X_train = katakana_X_train.reshape(katakana_X_train.shape[0], 1, img_row, img_col)\n",
    "    katakana_X_test = katakana_X_test.reshape(katakana_X_test.shape[0], 1, img_row, img_col)\n",
    "    katakana_X_val = katakana_X_val.reshape(katakana_X_val.shape[0], 1, img_row, img_col)\n",
    "    katakana_shape = (1, img_row, img_col) \n",
    "else:\n",
    "    katakana_X_train = katakana_X_train.reshape(katakana_X_train.shape[0], img_row, img_col, 1)\n",
    "    katakana_X_test = katakana_X_test.reshape(katakana_X_test.shape[0], img_row, img_col, 1)\n",
    "    katakana_X_val = katakana_X_val.reshape(katakana_X_val.shape[0], img_row, img_col, 1)\n",
    "    katakana_shape = (img_row, img_col, 1) # For CNN\n",
    "\n",
    "katakana_datagen = ImageDataGenerator(rotation_range = 15, zoom_range = 0.2)\n",
    "\n",
    "katakana_datagen.fit(katakana_X_train)"
   ]
  },
  {
   "cell_type": "code",
   "execution_count": 103,
   "metadata": {
    "ExecuteTime": {
     "end_time": "2021-04-23T11:51:02.285203Z",
     "start_time": "2021-04-23T11:51:02.280187Z"
    },
    "hidden": true,
    "scrolled": false
   },
   "outputs": [
    {
     "data": {
      "text/plain": [
       "(41539, 48, 48, 1)"
      ]
     },
     "execution_count": 103,
     "metadata": {},
     "output_type": "execute_result"
    }
   ],
   "source": [
    "katakana_X_train.shape"
   ]
  },
  {
   "cell_type": "code",
   "execution_count": 104,
   "metadata": {
    "ExecuteTime": {
     "end_time": "2021-04-23T11:51:02.831295Z",
     "start_time": "2021-04-23T11:51:02.817332Z"
    },
    "hidden": true
   },
   "outputs": [
    {
     "data": {
      "text/plain": [
       "(10385, 48, 48, 1)"
      ]
     },
     "execution_count": 104,
     "metadata": {},
     "output_type": "execute_result"
    }
   ],
   "source": [
    "katakana_X_val.shape"
   ]
  },
  {
   "cell_type": "markdown",
   "metadata": {
    "heading_collapsed": true,
    "hidden": true
   },
   "source": [
    "## Final Visualization Tables"
   ]
  },
  {
   "cell_type": "markdown",
   "metadata": {
    "hidden": true
   },
   "source": [
    "- Checking that our finalized data was extracted and correctly, and is readable in the correct visual format."
   ]
  },
  {
   "cell_type": "markdown",
   "metadata": {
    "hidden": true
   },
   "source": [
    "### Hiragana Table"
   ]
  },
  {
   "cell_type": "code",
   "execution_count": 54,
   "metadata": {
    "ExecuteTime": {
     "end_time": "2021-04-21T19:35:48.502865Z",
     "start_time": "2021-04-21T19:35:47.379735Z"
    },
    "hidden": true
   },
   "outputs": [
    {
     "data": {
      "image/png": "[encoded data removed]",
      "text/plain": [
       "<Figure size 432x432 with 25 Axes>"
      ]
     },
     "metadata": {},
     "output_type": "display_data"
    }
   ],
   "source": [
    "plt.figure(figsize = (6, 6)).patch.set_facecolor('black')\n",
    "for i in range(25):\n",
    "    plt.subplot(5, 5, i+1)\n",
    "    plt.xticks([])\n",
    "    plt.yticks([])\n",
    "    plt.grid(False)\n",
    "    plt.imshow(hira_X_train[i], cmap = plt.cm.binary)\n",
    "plt.show();"
   ]
  },
  {
   "cell_type": "markdown",
   "metadata": {
    "hidden": true
   },
   "source": [
    "### Kanji Table"
   ]
  },
  {
   "cell_type": "code",
   "execution_count": 158,
   "metadata": {
    "ExecuteTime": {
     "end_time": "2021-04-22T03:50:24.862054Z",
     "start_time": "2021-04-22T03:50:21.566983Z"
    },
    "hidden": true
   },
   "outputs": [
    {
     "data": {
      "image/png": "[encoded data removed]",
      "text/plain": [
       "<Figure size 432x432 with 25 Axes>"
      ]
     },
     "metadata": {},
     "output_type": "display_data"
    }
   ],
   "source": [
    "plt.figure(figsize = (6, 6)).patch.set_facecolor('black')\n",
    "for i in range(25):\n",
    "    plt.subplot(5, 5, i+1)\n",
    "    plt.xticks([])\n",
    "    plt.yticks([])\n",
    "    plt.grid(False)\n",
    "    plt.imshow(kanji_X_train[i], cmap = plt.cm.binary)\n",
    "plt.show();"
   ]
  },
  {
   "cell_type": "markdown",
   "metadata": {
    "hidden": true
   },
   "source": [
    "### Katakana Table"
   ]
  },
  {
   "cell_type": "code",
   "execution_count": 56,
   "metadata": {
    "ExecuteTime": {
     "end_time": "2021-04-21T19:35:53.594241Z",
     "start_time": "2021-04-21T19:35:52.769498Z"
    },
    "hidden": true,
    "scrolled": true
   },
   "outputs": [
    {
     "data": {
      "image/png": "[encoded data removed]",
      "text/plain": [
       "<Figure size 432x432 with 25 Axes>"
      ]
     },
     "metadata": {},
     "output_type": "display_data"
    }
   ],
   "source": [
    "plt.figure(figsize = (6, 6)).patch.set_facecolor('black')\n",
    "for i in range(25):\n",
    "    plt.subplot(5, 5, i+1)\n",
    "    plt.xticks([])\n",
    "    plt.yticks([])\n",
    "    plt.grid(False)\n",
    "    plt.imshow(katakana_X_train[i], cmap = plt.cm.binary)\n",
    "plt.show();"
   ]
  },
  {
   "cell_type": "markdown",
   "metadata": {
    "heading_collapsed": true,
    "hidden": true
   },
   "source": [
    "## Modeling"
   ]
  },
  {
   "cell_type": "markdown",
   "metadata": {
    "heading_collapsed": true,
    "hidden": true
   },
   "source": [
    "### Hiragana CNN"
   ]
  },
  {
   "cell_type": "markdown",
   "metadata": {
    "hidden": true
   },
   "source": [
    "#### Hiragana CNN Prep"
   ]
  },
  {
   "cell_type": "code",
   "execution_count": 37,
   "metadata": {
    "ExecuteTime": {
     "end_time": "2021-04-22T14:29:13.499118Z",
     "start_time": "2021-04-22T14:29:11.696635Z"
    },
    "hidden": true,
    "scrolled": false
   },
   "outputs": [],
   "source": [
    "hira_model = models.Sequential()\n",
    "\n",
    "hira_model.add(layers.Conv2D(32, (3, 3), activation = 'relu', padding = 'same', input_shape = hira_shape, data_format = 'channels_last'))\n",
    "hira_model.add(layers.MaxPooling2D((2, 2)))\n",
    "hira_model.add(layers.Conv2D(32, (3, 3), activation = 'relu', padding = 'same'))\n",
    "hira_model.add(Dropout(0.2))\n",
    "\n",
    "hira_model.add(layers.Conv2D(64, (3, 3), activation = 'relu', padding = 'same'))\n",
    "hira_model.add(layers.MaxPooling2D((2, 2)))\n",
    "hira_model.add(layers.Conv2D(128, (3, 3), activation = 'relu', padding = 'same'))\n",
    "hira_model.add(Dropout(0.2))\n",
    "\n",
    "hira_model.add(Flatten())\n",
    "hira_model.add(Dense(256, activation = 'relu'))\n",
    "hira_model.add(Dropout(0.2))\n",
    "hira_model.add(Dense(hiragana_class, activation = 'softmax'))"
   ]
  },
  {
   "cell_type": "code",
   "execution_count": 38,
   "metadata": {
    "ExecuteTime": {
     "end_time": "2021-04-22T14:29:14.677729Z",
     "start_time": "2021-04-22T14:29:14.576878Z"
    },
    "collapsed": true,
    "hidden": true
   },
   "outputs": [
    {
     "name": "stdout",
     "output_type": "stream",
     "text": [
      "Model: \"sequential\"\n",
      "_________________________________________________________________\n",
      "Layer (type)                 Output Shape              Param #   \n",
      "=================================================================\n",
      "conv2d (Conv2D)              (None, 48, 48, 32)        320       \n",
      "_________________________________________________________________\n",
      "max_pooling2d (MaxPooling2D) (None, 24, 24, 32)        0         \n",
      "_________________________________________________________________\n",
      "conv2d_1 (Conv2D)            (None, 24, 24, 32)        9248      \n",
      "_________________________________________________________________\n",
      "dropout (Dropout)            (None, 24, 24, 32)        0         \n",
      "_________________________________________________________________\n",
      "conv2d_2 (Conv2D)            (None, 24, 24, 64)        18496     \n",
      "_________________________________________________________________\n",
      "max_pooling2d_1 (MaxPooling2 (None, 12, 12, 64)        0         \n",
      "_________________________________________________________________\n",
      "conv2d_3 (Conv2D)            (None, 12, 12, 128)       73856     \n",
      "_________________________________________________________________\n",
      "dropout_1 (Dropout)          (None, 12, 12, 128)       0         \n",
      "_________________________________________________________________\n",
      "flatten (Flatten)            (None, 18432)             0         \n",
      "_________________________________________________________________\n",
      "dense (Dense)                (None, 256)               4718848   \n",
      "_________________________________________________________________\n",
      "dropout_2 (Dropout)          (None, 256)               0         \n",
      "_________________________________________________________________\n",
      "dense_1 (Dense)              (None, 71)                18247     \n",
      "=================================================================\n",
      "Total params: 4,839,015\n",
      "Trainable params: 4,839,015\n",
      "Non-trainable params: 0\n",
      "_________________________________________________________________\n"
     ]
    }
   ],
   "source": [
    "hira_model.summary()"
   ]
  },
  {
   "cell_type": "code",
   "execution_count": 44,
   "metadata": {
    "ExecuteTime": {
     "end_time": "2021-04-22T14:35:40.678118Z",
     "start_time": "2021-04-22T14:35:40.663127Z"
    },
    "hidden": true
   },
   "outputs": [],
   "source": [
    "# Callbacks\n",
    "hira_es = EarlyStopping(patience = 5, verbose = 1, restore_best_weights = True)\n",
    "hira_lr = ReduceLROnPlateau(factor = 0.5, patience = 3, verbose = 1)\n",
    "\n",
    "# Tensorboard Callback\n",
    "hira_log_dir = 'logs/hiragana/' + datetime.datetime.now().strftime('Y%m%d-%H%M%S')\n",
    "tensorboard_callback = tf.keras.callbacks.TensorBoard(log_dir = hira_log_dir, histogram_freq = 1)"
   ]
  },
  {
   "cell_type": "code",
   "execution_count": 45,
   "metadata": {
    "ExecuteTime": {
     "end_time": "2021-04-22T14:42:45.636932Z",
     "start_time": "2021-04-22T14:35:42.321781Z"
    },
    "collapsed": true,
    "hidden": true
   },
   "outputs": [
    {
     "name": "stdout",
     "output_type": "stream",
     "text": [
      "Epoch 1/30\n",
      "  2/228 [..............................] - ETA: 2:01 - loss: 0.3978 - accuracy: 0.9219WARNING:tensorflow:Callbacks method `on_train_batch_end` is slow compared to the batch time (batch time: 0.0808s vs `on_train_batch_end` time: 0.9905s). Check your callbacks.\n",
      "228/228 [==============================] - 21s 91ms/step - loss: 0.4894 - accuracy: 0.8546 - val_loss: 0.2191 - val_accuracy: 0.9345\n",
      "Epoch 2/30\n",
      "228/228 [==============================] - 20s 87ms/step - loss: 0.3745 - accuracy: 0.8810 - val_loss: 0.2003 - val_accuracy: 0.9373\n",
      "Epoch 3/30\n",
      "228/228 [==============================] - 20s 88ms/step - loss: 0.2992 - accuracy: 0.9081 - val_loss: 0.1563 - val_accuracy: 0.9505\n",
      "Epoch 4/30\n",
      "228/228 [==============================] - 20s 87ms/step - loss: 0.2482 - accuracy: 0.9150 - val_loss: 0.1495 - val_accuracy: 0.9571\n",
      "Epoch 5/30\n",
      "228/228 [==============================] - 20s 87ms/step - loss: 0.2171 - accuracy: 0.9331 - val_loss: 0.1175 - val_accuracy: 0.9626\n",
      "Epoch 6/30\n",
      "228/228 [==============================] - 20s 88ms/step - loss: 0.1790 - accuracy: 0.9410 - val_loss: 0.1379 - val_accuracy: 0.9626\n",
      "Epoch 7/30\n",
      "228/228 [==============================] - 20s 87ms/step - loss: 0.1760 - accuracy: 0.9433 - val_loss: 0.2031 - val_accuracy: 0.9373\n",
      "Epoch 8/30\n",
      "228/228 [==============================] - 20s 88ms/step - loss: 0.1565 - accuracy: 0.9506 - val_loss: 0.1164 - val_accuracy: 0.9670\n",
      "Epoch 9/30\n",
      "228/228 [==============================] - 21s 93ms/step - loss: 0.1401 - accuracy: 0.9563 - val_loss: 0.1186 - val_accuracy: 0.9703\n",
      "Epoch 10/30\n",
      "228/228 [==============================] - 20s 86ms/step - loss: 0.1258 - accuracy: 0.9587 - val_loss: 0.1542 - val_accuracy: 0.9571\n",
      "Epoch 11/30\n",
      "228/228 [==============================] - ETA: 0s - loss: 0.1196 - accuracy: 0.9598\n",
      "Epoch 00011: ReduceLROnPlateau reducing learning rate to 0.0005000000237487257.\n",
      "228/228 [==============================] - 20s 86ms/step - loss: 0.1196 - accuracy: 0.9598 - val_loss: 0.1793 - val_accuracy: 0.9477\n",
      "Epoch 12/30\n",
      "228/228 [==============================] - 20s 89ms/step - loss: 0.0798 - accuracy: 0.9736 - val_loss: 0.0885 - val_accuracy: 0.9741\n",
      "Epoch 13/30\n",
      "228/228 [==============================] - 20s 87ms/step - loss: 0.0615 - accuracy: 0.9801 - val_loss: 0.1096 - val_accuracy: 0.9758\n",
      "Epoch 14/30\n",
      "228/228 [==============================] - 20s 87ms/step - loss: 0.0609 - accuracy: 0.9802 - val_loss: 0.0941 - val_accuracy: 0.9835\n",
      "Epoch 15/30\n",
      "228/228 [==============================] - 20s 87ms/step - loss: 0.0646 - accuracy: 0.9792 - val_loss: 0.0815 - val_accuracy: 0.9835\n",
      "Epoch 16/30\n",
      "228/228 [==============================] - 20s 86ms/step - loss: 0.0623 - accuracy: 0.9799 - val_loss: 0.0649 - val_accuracy: 0.9802\n",
      "Epoch 17/30\n",
      "228/228 [==============================] - 20s 88ms/step - loss: 0.0525 - accuracy: 0.9817 - val_loss: 0.0822 - val_accuracy: 0.9802\n",
      "Epoch 18/30\n",
      "228/228 [==============================] - 20s 90ms/step - loss: 0.0538 - accuracy: 0.9824 - val_loss: 0.0978 - val_accuracy: 0.9796\n",
      "Epoch 19/30\n",
      "228/228 [==============================] - ETA: 0s - loss: 0.0521 - accuracy: 0.9807\n",
      "Epoch 00019: ReduceLROnPlateau reducing learning rate to 0.0002500000118743628.\n",
      "228/228 [==============================] - 20s 87ms/step - loss: 0.0521 - accuracy: 0.9807 - val_loss: 0.0721 - val_accuracy: 0.9846\n",
      "Epoch 20/30\n",
      "228/228 [==============================] - 20s 86ms/step - loss: 0.0412 - accuracy: 0.9862 - val_loss: 0.0788 - val_accuracy: 0.9840\n",
      "Epoch 21/30\n",
      "228/228 [==============================] - ETA: 0s - loss: 0.0341 - accuracy: 0.9891Restoring model weights from the end of the best epoch.\n",
      "228/228 [==============================] - 20s 87ms/step - loss: 0.0341 - accuracy: 0.9891 - val_loss: 0.0889 - val_accuracy: 0.9824\n",
      "Epoch 00021: early stopping\n"
     ]
    }
   ],
   "source": [
    "hira_model.compile(loss = 'categorical_crossentropy', optimizer = 'adam', metrics = ['accuracy'])\n",
    "\n",
    "hiragana_results = hira_model.fit(hiragana_datagen.flow(hira_X_train, hira_y_train, batch_size = 32),\n",
    "          epochs = 30, callbacks = (hira_es, hira_lr, tensorboard_callback), validation_data = (hira_X_val, hira_y_val))"
   ]
  },
  {
   "cell_type": "markdown",
   "metadata": {
    "hidden": true
   },
   "source": [
    "#### Hiragana CNN Model Evaluation"
   ]
  },
  {
   "cell_type": "code",
   "execution_count": 46,
   "metadata": {
    "ExecuteTime": {
     "end_time": "2021-04-22T14:43:41.973377Z",
     "start_time": "2021-04-22T14:43:41.959415Z"
    },
    "hidden": true
   },
   "outputs": [],
   "source": [
    "hira_history = hiragana_results.history\n",
    "hira_training_loss = hira_history['loss']\n",
    "hira_val_loss = hira_history['val_loss']\n",
    "hira_training_accuracy = hira_history['accuracy']\n",
    "hira_val_accuracy = hira_history['val_accuracy']"
   ]
  },
  {
   "cell_type": "code",
   "execution_count": 84,
   "metadata": {
    "ExecuteTime": {
     "end_time": "2021-04-22T18:35:51.601391Z",
     "start_time": "2021-04-22T18:35:51.159569Z"
    },
    "hidden": true,
    "scrolled": true
   },
   "outputs": [
    {
     "data": {
      "application/javascript": [
       "\n",
       "        if (window._pyforest_update_imports_cell) { window._pyforest_update_imports_cell('import matplotlib.pyplot as plt\\nimport numpy as np'); }\n",
       "    "
      ],
      "text/plain": [
       "<IPython.core.display.Javascript object>"
      ]
     },
     "metadata": {},
     "output_type": "display_data"
    },
    {
     "data": {
      "application/javascript": [
       "\n",
       "        if (window._pyforest_update_imports_cell) { window._pyforest_update_imports_cell('import matplotlib.pyplot as plt\\nimport numpy as np'); }\n",
       "    "
      ],
      "text/plain": [
       "<IPython.core.display.Javascript object>"
      ]
     },
     "metadata": {},
     "output_type": "display_data"
    },
    {
     "data": {
      "image/png": "[encoded data removed]",
      "text/plain": [
       "<Figure size 1080x360 with 2 Axes>"
      ]
     },
     "metadata": {
      "needs_background": "light"
     },
     "output_type": "display_data"
    }
   ],
   "source": [
    "fig, (ax1, ax2) = plt.subplots(1,2,figsize=(15,5))\n",
    "\n",
    "\n",
    "sns.lineplot(x = list(range(len(hira_training_loss))),\n",
    "             y = hira_training_loss, color = 'purple', alpha = 0.6, label='training', ax = ax1)\n",
    "sns.lineplot(x = list(range(len(hira_val_loss))),\n",
    "             y = hira_val_loss, color = 'green', alpha = 0.6, linestyle = 'dashed', label = 'validation', ax = ax1)\n",
    "sns.lineplot(x = list(range(len(hira_training_loss))),\n",
    "             y = hira_training_accuracy, color='r', alpha = 0.6, label='training',ax = ax2)\n",
    "sns.lineplot(x = list(range(len(hira_val_loss))),\n",
    "             y = hira_val_accuracy, color = 'b', alpha = 0.6, linestyle = 'dashed', label = 'validation',ax = ax2)\n",
    "# plt.savefig('img/hiragana_loss_acc')\n",
    "ax1.legend();"
   ]
  },
  {
   "cell_type": "markdown",
   "metadata": {
    "hidden": true
   },
   "source": [
    "#### Hiragana Test Data Results"
   ]
  },
  {
   "cell_type": "code",
   "execution_count": 48,
   "metadata": {
    "ExecuteTime": {
     "end_time": "2021-04-22T14:44:46.950977Z",
     "start_time": "2021-04-22T14:44:45.717032Z"
    },
    "hidden": true
   },
   "outputs": [
    {
     "data": {
      "application/javascript": [
       "\n",
       "        if (window._pyforest_update_imports_cell) { window._pyforest_update_imports_cell('import matplotlib.pyplot as plt\\nimport numpy as np'); }\n",
       "    "
      ],
      "text/plain": [
       "<IPython.core.display.Javascript object>"
      ]
     },
     "metadata": {},
     "output_type": "display_data"
    },
    {
     "data": {
      "text/plain": [
       "array([[37,  0,  0, ...,  0,  0,  0],\n",
       "       [ 0, 31,  0, ...,  0,  0,  0],\n",
       "       [ 0,  0, 36, ...,  0,  0,  0],\n",
       "       ...,\n",
       "       [ 0,  0,  0, ..., 37,  0,  0],\n",
       "       [ 0,  0,  0, ...,  0, 34,  0],\n",
       "       [ 0,  0,  0, ...,  0,  0, 40]], dtype=int64)"
      ]
     },
     "execution_count": 48,
     "metadata": {},
     "output_type": "execute_result"
    }
   ],
   "source": [
    "hira_y_hat_test = np.argmax(hira_model.predict(hira_X_test), axis=-1)\n",
    "hira_test_restore = hiragana_ohe.inverse_transform(hira_y_test)\n",
    "confusion_matrix(hira_test_restore, hira_y_hat_test)"
   ]
  },
  {
   "cell_type": "code",
   "execution_count": 49,
   "metadata": {
    "ExecuteTime": {
     "end_time": "2021-04-22T14:44:52.245276Z",
     "start_time": "2021-04-22T14:44:50.932037Z"
    },
    "hidden": true
   },
   "outputs": [
    {
     "name": "stdout",
     "output_type": "stream",
     "text": [
      "71/71 [==============================] - 1s 16ms/step - loss: 0.0541 - accuracy: 0.9833\n"
     ]
    }
   ],
   "source": [
    "hira_test_loss, hira_test_acc = hira_model.evaluate(hira_X_test, hira_y_test)"
   ]
  },
  {
   "cell_type": "code",
   "execution_count": 50,
   "metadata": {
    "ExecuteTime": {
     "end_time": "2021-04-22T14:46:31.619860Z",
     "start_time": "2021-04-22T14:46:31.607891Z"
    },
    "hidden": true
   },
   "outputs": [
    {
     "name": "stdout",
     "output_type": "stream",
     "text": [
      "We acheived a test accuracy of 0.9833% on our Hiragana dataset.\n"
     ]
    }
   ],
   "source": [
    "print(f'We acheived a test accuracy of {round(hira_test_acc, 4)}% on our Hiragana dataset.')"
   ]
  },
  {
   "cell_type": "code",
   "execution_count": 53,
   "metadata": {
    "ExecuteTime": {
     "end_time": "2021-04-22T14:49:29.553460Z",
     "start_time": "2021-04-22T14:49:28.880779Z"
    },
    "hidden": true
   },
   "outputs": [],
   "source": [
    "hira_model.save('hiragana_model.h5')"
   ]
  },
  {
   "cell_type": "markdown",
   "metadata": {
    "heading_collapsed": true,
    "hidden": true
   },
   "source": [
    "### Kanji CNN"
   ]
  },
  {
   "cell_type": "markdown",
   "metadata": {
    "hidden": true
   },
   "source": [
    "#### Kanji CNN Prep"
   ]
  },
  {
   "cell_type": "code",
   "execution_count": 70,
   "metadata": {
    "ExecuteTime": {
     "end_time": "2021-04-22T15:31:29.592848Z",
     "start_time": "2021-04-22T15:31:29.412287Z"
    },
    "hidden": true
   },
   "outputs": [],
   "source": [
    "# Tried a dropout rate of 0.5 to improve the model some. Had slight positive effect\n",
    "\n",
    "kanji_model = models.Sequential()\n",
    "\n",
    "kanji_model.add(layers.Conv2D(64, (3, 3), activation = 'relu', padding = 'same', input_shape = kanji_shape, data_format = 'channels_last'))\n",
    "kanji_model.add(layers.MaxPooling2D((2, 2)))\n",
    "kanji_model.add(layers.Conv2D(64, (3, 3), activation = 'relu', padding = 'same'))\n",
    "kanji_model.add(layers.MaxPooling2D((2, 2)))\n",
    "kanji_model.add(layers.Flatten())\n",
    "kanji_model.add(Dropout(0.5))\n",
    "kanji_model.add(layers.Dense(2048, activation = 'relu'))\n",
    "kanji_model.add(layers.Dense(kanji_class, activation = 'softmax'))"
   ]
  },
  {
   "cell_type": "code",
   "execution_count": 71,
   "metadata": {
    "ExecuteTime": {
     "end_time": "2021-04-22T15:31:30.262721Z",
     "start_time": "2021-04-22T15:31:30.248744Z"
    },
    "collapsed": true,
    "hidden": true
   },
   "outputs": [
    {
     "name": "stdout",
     "output_type": "stream",
     "text": [
      "Model: \"sequential_4\"\n",
      "_________________________________________________________________\n",
      "Layer (type)                 Output Shape              Param #   \n",
      "=================================================================\n",
      "conv2d_16 (Conv2D)           (None, 48, 48, 64)        640       \n",
      "_________________________________________________________________\n",
      "max_pooling2d_8 (MaxPooling2 (None, 24, 24, 64)        0         \n",
      "_________________________________________________________________\n",
      "conv2d_17 (Conv2D)           (None, 24, 24, 64)        36928     \n",
      "_________________________________________________________________\n",
      "max_pooling2d_9 (MaxPooling2 (None, 12, 12, 64)        0         \n",
      "_________________________________________________________________\n",
      "flatten_4 (Flatten)          (None, 9216)              0         \n",
      "_________________________________________________________________\n",
      "dropout_12 (Dropout)         (None, 9216)              0         \n",
      "_________________________________________________________________\n",
      "dense_8 (Dense)              (None, 2048)              18876416  \n",
      "_________________________________________________________________\n",
      "dense_9 (Dense)              (None, 873)               1788777   \n",
      "=================================================================\n",
      "Total params: 20,702,761\n",
      "Trainable params: 20,702,761\n",
      "Non-trainable params: 0\n",
      "_________________________________________________________________\n"
     ]
    }
   ],
   "source": [
    "kanji_model.summary()"
   ]
  },
  {
   "cell_type": "code",
   "execution_count": 72,
   "metadata": {
    "ExecuteTime": {
     "end_time": "2021-04-22T15:31:35.452300Z",
     "start_time": "2021-04-22T15:31:35.439343Z"
    },
    "hidden": true
   },
   "outputs": [],
   "source": [
    "# Callbacks\n",
    "kanji_es = EarlyStopping(patience = 5, verbose = 1, restore_best_weights = True)\n",
    "kanji_lr = ReduceLROnPlateau(factor = 0.5, patience = 3, verbose = 1)\n",
    "\n",
    "# Tensorboard Callback\n",
    "kanji_log_dir = 'logs/kanji/' + datetime.datetime.now().strftime('Y%m%d-%H%M%S')\n",
    "tensorboard_callback = tf.keras.callbacks.TensorBoard(log_dir = kanji_log_dir, histogram_freq = 1)"
   ]
  },
  {
   "cell_type": "code",
   "execution_count": 73,
   "metadata": {
    "ExecuteTime": {
     "end_time": "2021-04-22T18:17:00.425754Z",
     "start_time": "2021-04-22T15:32:02.805145Z"
    },
    "collapsed": true,
    "hidden": true
   },
   "outputs": [
    {
     "name": "stdout",
     "output_type": "stream",
     "text": [
      "Epoch 1/50\n",
      "   2/2139 [..............................] - ETA: 17:53 - loss: 6.7646 - accuracy: 0.0000e+00WARNING:tensorflow:Callbacks method `on_train_batch_end` is slow compared to the batch time (batch time: 0.1366s vs `on_train_batch_end` time: 0.8666s). Check your callbacks.\n",
      "2139/2139 [==============================] - 330s 154ms/step - loss: 4.9173 - accuracy: 0.1635 - val_loss: 4.0430 - val_accuracy: 0.3265\n",
      "Epoch 2/50\n",
      "2139/2139 [==============================] - 326s 153ms/step - loss: 4.0895 - accuracy: 0.3133 - val_loss: 3.8938 - val_accuracy: 0.3652\n",
      "Epoch 3/50\n",
      "2139/2139 [==============================] - 324s 152ms/step - loss: 3.9900 - accuracy: 0.3389 - val_loss: 3.8623 - val_accuracy: 0.3745\n",
      "Epoch 4/50\n",
      "2139/2139 [==============================] - 327s 153ms/step - loss: 3.9440 - accuracy: 0.3507 - val_loss: 3.8575 - val_accuracy: 0.3767\n",
      "Epoch 5/50\n",
      "2139/2139 [==============================] - 325s 152ms/step - loss: 3.9189 - accuracy: 0.3577 - val_loss: 3.8377 - val_accuracy: 0.3817\n",
      "Epoch 6/50\n",
      "2139/2139 [==============================] - 325s 152ms/step - loss: 3.8988 - accuracy: 0.3627 - val_loss: 3.8484 - val_accuracy: 0.3798\n",
      "Epoch 7/50\n",
      "2139/2139 [==============================] - 325s 152ms/step - loss: 3.8854 - accuracy: 0.3661 - val_loss: 3.8293 - val_accuracy: 0.3847\n",
      "Epoch 8/50\n",
      "2139/2139 [==============================] - 325s 152ms/step - loss: 3.8775 - accuracy: 0.3686 - val_loss: 3.8280 - val_accuracy: 0.3843\n",
      "Epoch 9/50\n",
      "2139/2139 [==============================] - 324s 151ms/step - loss: 3.8656 - accuracy: 0.3718 - val_loss: 3.8280 - val_accuracy: 0.3853\n",
      "Epoch 10/50\n",
      "2139/2139 [==============================] - 325s 152ms/step - loss: 3.8603 - accuracy: 0.3738 - val_loss: 3.8333 - val_accuracy: 0.3845\n",
      "Epoch 11/50\n",
      "2139/2139 [==============================] - 326s 153ms/step - loss: 3.8544 - accuracy: 0.3753 - val_loss: 3.8253 - val_accuracy: 0.3858\n",
      "Epoch 12/50\n",
      "2139/2139 [==============================] - 325s 152ms/step - loss: 3.8477 - accuracy: 0.3776 - val_loss: 3.8236 - val_accuracy: 0.3864\n",
      "Epoch 13/50\n",
      "2139/2139 [==============================] - 324s 152ms/step - loss: 3.8454 - accuracy: 0.3781 - val_loss: 3.8182 - val_accuracy: 0.3880\n",
      "Epoch 14/50\n",
      "2139/2139 [==============================] - 322s 151ms/step - loss: 3.8412 - accuracy: 0.3797 - val_loss: 3.8201 - val_accuracy: 0.3872\n",
      "Epoch 15/50\n",
      "2139/2139 [==============================] - 322s 151ms/step - loss: 3.8394 - accuracy: 0.3803 - val_loss: 3.8199 - val_accuracy: 0.3882\n",
      "Epoch 16/50\n",
      "2139/2139 [==============================] - 322s 151ms/step - loss: 3.8383 - accuracy: 0.3803 - val_loss: 3.8140 - val_accuracy: 0.3893\n",
      "Epoch 17/50\n",
      "2139/2139 [==============================] - 327s 153ms/step - loss: 3.8355 - accuracy: 0.3812 - val_loss: 3.8207 - val_accuracy: 0.3870\n",
      "Epoch 18/50\n",
      "2139/2139 [==============================] - 360s 168ms/step - loss: 3.8311 - accuracy: 0.3823 - val_loss: 3.8160 - val_accuracy: 0.3886\n",
      "Epoch 19/50\n",
      "2139/2139 [==============================] - ETA: 0s - loss: 3.8305 - accuracy: 0.3829\n",
      "Epoch 00019: ReduceLROnPlateau reducing learning rate to 0.0005000000237487257.\n",
      "2139/2139 [==============================] - 369s 172ms/step - loss: 3.8305 - accuracy: 0.3829 - val_loss: 3.8178 - val_accuracy: 0.3887\n",
      "Epoch 20/50\n",
      "2139/2139 [==============================] - 350s 164ms/step - loss: 3.8099 - accuracy: 0.3885 - val_loss: 3.8074 - val_accuracy: 0.3916\n",
      "Epoch 21/50\n",
      "2139/2139 [==============================] - 338s 158ms/step - loss: 3.8067 - accuracy: 0.3894 - val_loss: 3.8117 - val_accuracy: 0.3908\n",
      "Epoch 22/50\n",
      "2139/2139 [==============================] - 339s 158ms/step - loss: 3.8039 - accuracy: 0.3906 - val_loss: 3.8108 - val_accuracy: 0.3908\n",
      "Epoch 23/50\n",
      "2139/2139 [==============================] - ETA: 0s - loss: 3.8043 - accuracy: 0.3903\n",
      "Epoch 00023: ReduceLROnPlateau reducing learning rate to 0.0002500000118743628.\n",
      "2139/2139 [==============================] - 330s 154ms/step - loss: 3.8043 - accuracy: 0.3903 - val_loss: 3.8106 - val_accuracy: 0.3912\n",
      "Epoch 24/50\n",
      "2139/2139 [==============================] - 326s 153ms/step - loss: 3.7972 - accuracy: 0.3924 - val_loss: 3.8022 - val_accuracy: 0.3925\n",
      "Epoch 25/50\n",
      "2139/2139 [==============================] - 326s 152ms/step - loss: 3.7944 - accuracy: 0.3935 - val_loss: 3.8019 - val_accuracy: 0.3934\n",
      "Epoch 26/50\n",
      "2139/2139 [==============================] - 326s 152ms/step - loss: 3.7934 - accuracy: 0.3934 - val_loss: 3.8034 - val_accuracy: 0.3933\n",
      "Epoch 27/50\n",
      "2139/2139 [==============================] - 325s 152ms/step - loss: 3.7952 - accuracy: 0.3929 - val_loss: 3.8052 - val_accuracy: 0.3928\n",
      "Epoch 28/50\n",
      "2139/2139 [==============================] - ETA: 0s - loss: 3.7927 - accuracy: 0.3933\n",
      "Epoch 00028: ReduceLROnPlateau reducing learning rate to 0.0001250000059371814.\n",
      "2139/2139 [==============================] - 326s 152ms/step - loss: 3.7927 - accuracy: 0.3933 - val_loss: 3.8049 - val_accuracy: 0.3928\n",
      "Epoch 29/50\n",
      "2139/2139 [==============================] - 326s 152ms/step - loss: 3.7903 - accuracy: 0.3946 - val_loss: 3.8055 - val_accuracy: 0.3927\n",
      "Epoch 30/50\n",
      "2139/2139 [==============================] - ETA: 0s - loss: 3.7882 - accuracy: 0.3949Restoring model weights from the end of the best epoch.\n",
      "2139/2139 [==============================] - 326s 152ms/step - loss: 3.7882 - accuracy: 0.3949 - val_loss: 3.8052 - val_accuracy: 0.3928\n",
      "Epoch 00030: early stopping\n"
     ]
    }
   ],
   "source": [
    "kanji_model.compile(loss = 'categorical_crossentropy', optimizer = 'adam', metrics = ['accuracy'])\n",
    "\n",
    "kanji_results = kanji_model.fit(kanji_datagen.flow(kanji_X_train, kanji_y_train, shuffle = True),\n",
    "          epochs = 50, callbacks = (kanji_es, kanji_lr, tensorboard_callback), validation_data = (kanji_X_val, kanji_y_val))"
   ]
  },
  {
   "cell_type": "markdown",
   "metadata": {
    "hidden": true
   },
   "source": [
    "#### Kanji CNN Model Evaluation"
   ]
  },
  {
   "cell_type": "code",
   "execution_count": 74,
   "metadata": {
    "ExecuteTime": {
     "end_time": "2021-04-22T18:19:11.099907Z",
     "start_time": "2021-04-22T18:19:11.084947Z"
    },
    "hidden": true
   },
   "outputs": [],
   "source": [
    "kanji_history = kanji_results.history\n",
    "kanji_training_loss = kanji_history['loss']\n",
    "kanji_val_loss = kanji_history['val_loss']\n",
    "kanji_training_accuracy = kanji_history['accuracy']\n",
    "kanji_val_accuracy = kanji_history['val_accuracy']"
   ]
  },
  {
   "cell_type": "code",
   "execution_count": 83,
   "metadata": {
    "ExecuteTime": {
     "end_time": "2021-04-22T18:35:08.494572Z",
     "start_time": "2021-04-22T18:35:08.080669Z"
    },
    "hidden": true
   },
   "outputs": [
    {
     "data": {
      "application/javascript": [
       "\n",
       "        if (window._pyforest_update_imports_cell) { window._pyforest_update_imports_cell('import matplotlib.pyplot as plt\\nimport numpy as np'); }\n",
       "    "
      ],
      "text/plain": [
       "<IPython.core.display.Javascript object>"
      ]
     },
     "metadata": {},
     "output_type": "display_data"
    },
    {
     "data": {
      "application/javascript": [
       "\n",
       "        if (window._pyforest_update_imports_cell) { window._pyforest_update_imports_cell('import matplotlib.pyplot as plt\\nimport numpy as np'); }\n",
       "    "
      ],
      "text/plain": [
       "<IPython.core.display.Javascript object>"
      ]
     },
     "metadata": {},
     "output_type": "display_data"
    },
    {
     "data": {
      "image/png": "[encoded data removed]",
      "text/plain": [
       "<Figure size 1080x360 with 2 Axes>"
      ]
     },
     "metadata": {
      "needs_background": "light"
     },
     "output_type": "display_data"
    }
   ],
   "source": [
    "fig, (ax1, ax2) = plt.subplots(1,2,figsize=(15,5))\n",
    "\n",
    "\n",
    "sns.lineplot(x = list(range(len(kanji_training_loss))),\n",
    "             y = kanji_training_loss, color = 'purple', alpha = 0.6, label='training', ax = ax1)\n",
    "sns.lineplot(x = list(range(len(kanji_val_loss))),\n",
    "             y = kanji_val_loss, color = 'green', alpha = 0.6, linestyle = 'dashed', label = 'validation', ax = ax1)\n",
    "sns.lineplot(x = list(range(len(kanji_training_loss))),\n",
    "             y = kanji_training_accuracy, color='r', alpha = 0.6, label='training',ax = ax2)\n",
    "sns.lineplot(x = list(range(len(kanji_val_loss))),\n",
    "             y = kanji_val_accuracy, color = 'b', alpha = 0.6, linestyle = 'dashed', label = 'validation',ax = ax2)\n",
    "# plt.savefig('img/kanji_loss_acc.png')\n",
    "ax1.legend();"
   ]
  },
  {
   "cell_type": "markdown",
   "metadata": {
    "hidden": true
   },
   "source": [
    "#### Kanji Test Data Results"
   ]
  },
  {
   "cell_type": "code",
   "execution_count": 76,
   "metadata": {
    "ExecuteTime": {
     "end_time": "2021-04-22T18:19:55.462086Z",
     "start_time": "2021-04-22T18:19:20.409860Z"
    },
    "hidden": true,
    "scrolled": true
   },
   "outputs": [
    {
     "data": {
      "application/javascript": [
       "\n",
       "        if (window._pyforest_update_imports_cell) { window._pyforest_update_imports_cell('import matplotlib.pyplot as plt\\nimport numpy as np'); }\n",
       "    "
      ],
      "text/plain": [
       "<IPython.core.display.Javascript object>"
      ]
     },
     "metadata": {},
     "output_type": "display_data"
    },
    {
     "data": {
      "text/plain": [
       "array([[43,  0,  0, ...,  0,  0,  0],\n",
       "       [ 0, 45,  0, ...,  0,  0,  0],\n",
       "       [ 0,  0, 56, ...,  0,  0,  0],\n",
       "       ...,\n",
       "       [ 0,  0,  0, ...,  0,  0,  0],\n",
       "       [ 0,  0,  0, ...,  0,  0,  0],\n",
       "       [ 0,  0,  0, ...,  0,  0,  0]], dtype=int64)"
      ]
     },
     "execution_count": 76,
     "metadata": {},
     "output_type": "execute_result"
    }
   ],
   "source": [
    "kanji_y_hat_test = np.argmax(kanji_model.predict(kanji_X_test), axis=-1)\n",
    "kanji_test_restore = kanji_ohe.inverse_transform(kanji_y_test)\n",
    "confusion_matrix(kanji_test_restore, kanji_y_hat_test)"
   ]
  },
  {
   "cell_type": "code",
   "execution_count": 77,
   "metadata": {
    "ExecuteTime": {
     "end_time": "2021-04-22T18:21:29.536357Z",
     "start_time": "2021-04-22T18:20:52.555292Z"
    },
    "hidden": true
   },
   "outputs": [
    {
     "name": "stdout",
     "output_type": "stream",
     "text": [
      "1310/1310 [==============================] - 37s 28ms/step - loss: 3.7919 - accuracy: 0.3944\n"
     ]
    }
   ],
   "source": [
    "kanji_test_loss, kanji_test_acc = kanji_model.evaluate(kanji_X_test, kanji_y_test)"
   ]
  },
  {
   "cell_type": "code",
   "execution_count": 78,
   "metadata": {
    "ExecuteTime": {
     "end_time": "2021-04-22T18:28:01.365415Z",
     "start_time": "2021-04-22T18:28:01.356464Z"
    },
    "hidden": true,
    "scrolled": false
   },
   "outputs": [
    {
     "name": "stdout",
     "output_type": "stream",
     "text": [
      "We acheived a test accuracy of 0.3944% on our Kanji dataset.\n"
     ]
    }
   ],
   "source": [
    "print(f'We acheived a test accuracy of {round(kanji_test_acc, 4)}% on our Kanji dataset.')"
   ]
  },
  {
   "cell_type": "code",
   "execution_count": 79,
   "metadata": {
    "ExecuteTime": {
     "end_time": "2021-04-22T18:28:23.040803Z",
     "start_time": "2021-04-22T18:28:21.668912Z"
    },
    "hidden": true
   },
   "outputs": [],
   "source": [
    "kanji_model.save('kanji_model.h5')"
   ]
  },
  {
   "cell_type": "markdown",
   "metadata": {
    "heading_collapsed": true,
    "hidden": true
   },
   "source": [
    "### Katakana CNN"
   ]
  },
  {
   "cell_type": "markdown",
   "metadata": {
    "hidden": true
   },
   "source": [
    "#### Katakana CNN Prep"
   ]
  },
  {
   "cell_type": "code",
   "execution_count": 57,
   "metadata": {
    "ExecuteTime": {
     "end_time": "2021-04-22T14:52:41.222152Z",
     "start_time": "2021-04-22T14:52:41.116432Z"
    },
    "hidden": true,
    "scrolled": false
   },
   "outputs": [],
   "source": [
    "katakana_model = models.Sequential()\n",
    "\n",
    "katakana_model.add(layers.Conv2D(32, (3, 3), activation = 'relu', padding = 'same', input_shape = katakana_shape, data_format = 'channels_last'))\n",
    "katakana_model.add(layers.MaxPooling2D((2, 2)))\n",
    "katakana_model.add(layers.Conv2D(32, (3, 3), activation = 'relu', padding = 'same'))\n",
    "katakana_model.add(Dropout(0.2))\n",
    "\n",
    "katakana_model.add(layers.Conv2D(64, (3, 3), activation = 'relu', padding = 'same'))\n",
    "katakana_model.add(layers.MaxPooling2D((2, 2)))\n",
    "katakana_model.add(layers.Conv2D(64, (3, 3), activation = 'relu', padding = 'same'))\n",
    "katakana_model.add(Dropout(0.2))\n",
    "\n",
    "katakana_model.add(Flatten())\n",
    "katakana_model.add(layers.Dense(256, activation = 'relu'))\n",
    "katakana_model.add(Dropout(0.2))\n",
    "katakana_model.add(layers.Dense(katakana_class, activation = 'softmax'))"
   ]
  },
  {
   "cell_type": "code",
   "execution_count": 58,
   "metadata": {
    "ExecuteTime": {
     "end_time": "2021-04-22T14:52:44.853975Z",
     "start_time": "2021-04-22T14:52:44.843005Z"
    },
    "collapsed": true,
    "hidden": true
   },
   "outputs": [
    {
     "name": "stdout",
     "output_type": "stream",
     "text": [
      "Model: \"sequential_3\"\n",
      "_________________________________________________________________\n",
      "Layer (type)                 Output Shape              Param #   \n",
      "=================================================================\n",
      "conv2d_12 (Conv2D)           (None, 48, 48, 32)        320       \n",
      "_________________________________________________________________\n",
      "max_pooling2d_6 (MaxPooling2 (None, 24, 24, 32)        0         \n",
      "_________________________________________________________________\n",
      "conv2d_13 (Conv2D)           (None, 24, 24, 32)        9248      \n",
      "_________________________________________________________________\n",
      "dropout_9 (Dropout)          (None, 24, 24, 32)        0         \n",
      "_________________________________________________________________\n",
      "conv2d_14 (Conv2D)           (None, 24, 24, 64)        18496     \n",
      "_________________________________________________________________\n",
      "max_pooling2d_7 (MaxPooling2 (None, 12, 12, 64)        0         \n",
      "_________________________________________________________________\n",
      "conv2d_15 (Conv2D)           (None, 12, 12, 64)        36928     \n",
      "_________________________________________________________________\n",
      "dropout_10 (Dropout)         (None, 12, 12, 64)        0         \n",
      "_________________________________________________________________\n",
      "flatten_3 (Flatten)          (None, 9216)              0         \n",
      "_________________________________________________________________\n",
      "dense_6 (Dense)              (None, 256)               2359552   \n",
      "_________________________________________________________________\n",
      "dropout_11 (Dropout)         (None, 256)               0         \n",
      "_________________________________________________________________\n",
      "dense_7 (Dense)              (None, 46)                11822     \n",
      "=================================================================\n",
      "Total params: 2,436,366\n",
      "Trainable params: 2,436,366\n",
      "Non-trainable params: 0\n",
      "_________________________________________________________________\n"
     ]
    }
   ],
   "source": [
    "katakana_model.summary()"
   ]
  },
  {
   "cell_type": "code",
   "execution_count": 60,
   "metadata": {
    "ExecuteTime": {
     "end_time": "2021-04-22T14:54:13.323485Z",
     "start_time": "2021-04-22T14:54:13.318498Z"
    },
    "hidden": true
   },
   "outputs": [],
   "source": [
    "# Callbacks\n",
    "katakana_es = EarlyStopping(patience = 5, verbose = 1, restore_best_weights = True)\n",
    "katakana_lr = ReduceLROnPlateau(factor = 0.5, patience = 3, verbose = 1)\n",
    "\n",
    "# Tensorboard Callback\n",
    "katakana_log_dir = 'logs/katakana/' + datetime.datetime.now().strftime('Y%m%d-%H%M%S')\n",
    "tensorboard_callback = tf.keras.callbacks.TensorBoard(log_dir = katakana_log_dir, histogram_freq = 1)"
   ]
  },
  {
   "cell_type": "code",
   "execution_count": 61,
   "metadata": {
    "ExecuteTime": {
     "end_time": "2021-04-22T15:26:07.086816Z",
     "start_time": "2021-04-22T14:54:14.323245Z"
    },
    "collapsed": true,
    "hidden": true
   },
   "outputs": [
    {
     "name": "stdout",
     "output_type": "stream",
     "text": [
      "Epoch 1/30\n",
      "   2/1299 [..............................] - ETA: 12:44 - loss: 3.8255 - accuracy: 0.0312WARNING:tensorflow:Callbacks method `on_train_batch_end` is slow compared to the batch time (batch time: 0.0718s vs `on_train_batch_end` time: 1.1072s). Check your callbacks.\n",
      "1299/1299 [==============================] - 98s 75ms/step - loss: 0.9570 - accuracy: 0.7344 - val_loss: 0.1774 - val_accuracy: 0.9549\n",
      "Epoch 2/30\n",
      "1299/1299 [==============================] - 96s 74ms/step - loss: 0.3032 - accuracy: 0.9148 - val_loss: 0.1208 - val_accuracy: 0.9714\n",
      "Epoch 3/30\n",
      "1299/1299 [==============================] - 95s 73ms/step - loss: 0.2216 - accuracy: 0.9382 - val_loss: 0.1268 - val_accuracy: 0.9672\n",
      "Epoch 4/30\n",
      "1299/1299 [==============================] - 97s 74ms/step - loss: 0.1882 - accuracy: 0.9490 - val_loss: 0.0888 - val_accuracy: 0.9801\n",
      "Epoch 5/30\n",
      "1299/1299 [==============================] - 96s 74ms/step - loss: 0.1578 - accuracy: 0.9564 - val_loss: 0.0838 - val_accuracy: 0.9815\n",
      "Epoch 6/30\n",
      "1299/1299 [==============================] - 95s 74ms/step - loss: 0.1409 - accuracy: 0.9609 - val_loss: 0.0961 - val_accuracy: 0.9763\n",
      "Epoch 7/30\n",
      "1299/1299 [==============================] - 95s 73ms/step - loss: 0.1294 - accuracy: 0.9654 - val_loss: 0.0754 - val_accuracy: 0.9854\n",
      "Epoch 8/30\n",
      "1299/1299 [==============================] - 94s 73ms/step - loss: 0.1195 - accuracy: 0.9670 - val_loss: 0.0763 - val_accuracy: 0.9841\n",
      "Epoch 9/30\n",
      "1299/1299 [==============================] - 95s 73ms/step - loss: 0.1065 - accuracy: 0.9713 - val_loss: 0.0743 - val_accuracy: 0.9830\n",
      "Epoch 10/30\n",
      "1299/1299 [==============================] - 95s 73ms/step - loss: 0.1013 - accuracy: 0.9732 - val_loss: 0.0778 - val_accuracy: 0.9829\n",
      "Epoch 11/30\n",
      "1299/1299 [==============================] - 96s 74ms/step - loss: 0.0943 - accuracy: 0.9740 - val_loss: 0.0868 - val_accuracy: 0.9817\n",
      "Epoch 12/30\n",
      "1299/1299 [==============================] - ETA: 0s - loss: 0.0859 - accuracy: 0.9767\n",
      "Epoch 00012: ReduceLROnPlateau reducing learning rate to 0.0005000000237487257.\n",
      "1299/1299 [==============================] - 96s 74ms/step - loss: 0.0859 - accuracy: 0.9767 - val_loss: 0.0779 - val_accuracy: 0.9841\n",
      "Epoch 13/30\n",
      "1299/1299 [==============================] - 95s 73ms/step - loss: 0.0648 - accuracy: 0.9824 - val_loss: 0.0730 - val_accuracy: 0.9856\n",
      "Epoch 14/30\n",
      "1299/1299 [==============================] - 95s 73ms/step - loss: 0.0580 - accuracy: 0.9835 - val_loss: 0.0722 - val_accuracy: 0.9866\n",
      "Epoch 15/30\n",
      "1299/1299 [==============================] - 96s 74ms/step - loss: 0.0559 - accuracy: 0.9841 - val_loss: 0.0673 - val_accuracy: 0.9873\n",
      "Epoch 16/30\n",
      "1299/1299 [==============================] - 95s 73ms/step - loss: 0.0515 - accuracy: 0.9854 - val_loss: 0.0718 - val_accuracy: 0.9872\n",
      "Epoch 17/30\n",
      "1299/1299 [==============================] - 95s 73ms/step - loss: 0.0512 - accuracy: 0.9861 - val_loss: 0.0713 - val_accuracy: 0.9872\n",
      "Epoch 18/30\n",
      "1299/1299 [==============================] - ETA: 0s - loss: 0.0475 - accuracy: 0.9861\n",
      "Epoch 00018: ReduceLROnPlateau reducing learning rate to 0.0002500000118743628.\n",
      "1299/1299 [==============================] - 95s 73ms/step - loss: 0.0475 - accuracy: 0.9861 - val_loss: 0.0715 - val_accuracy: 0.9876\n",
      "Epoch 19/30\n",
      "1299/1299 [==============================] - 95s 73ms/step - loss: 0.0418 - accuracy: 0.9881 - val_loss: 0.0725 - val_accuracy: 0.9879\n",
      "Epoch 20/30\n",
      "1299/1299 [==============================] - ETA: 0s - loss: 0.0379 - accuracy: 0.9890Restoring model weights from the end of the best epoch.\n",
      "1299/1299 [==============================] - 95s 73ms/step - loss: 0.0379 - accuracy: 0.9890 - val_loss: 0.0689 - val_accuracy: 0.9893\n",
      "Epoch 00020: early stopping\n"
     ]
    }
   ],
   "source": [
    "katakana_model.compile(loss = 'categorical_crossentropy', optimizer = 'adam', metrics = ['accuracy'])\n",
    "\n",
    "katakana_results = katakana_model.fit(katakana_datagen.flow(katakana_X_train, katakana_y_train, batch_size = 32),\n",
    "          epochs = 30, callbacks = (katakana_es, katakana_lr, tensorboard_callback), validation_data = (katakana_X_val, katakana_y_val))"
   ]
  },
  {
   "cell_type": "markdown",
   "metadata": {
    "hidden": true
   },
   "source": [
    "#### Katakana CNN Model Evaluation"
   ]
  },
  {
   "cell_type": "code",
   "execution_count": 63,
   "metadata": {
    "ExecuteTime": {
     "end_time": "2021-04-22T15:28:20.585169Z",
     "start_time": "2021-04-22T15:28:20.570209Z"
    },
    "hidden": true
   },
   "outputs": [],
   "source": [
    "katakana_history = katakana_results.history\n",
    "katakana_training_loss = katakana_history['loss']\n",
    "katakana_val_loss = katakana_history['val_loss']\n",
    "katakana_training_accuracy = katakana_history['accuracy']\n",
    "katakana_val_accuracy = katakana_history['val_accuracy']"
   ]
  },
  {
   "cell_type": "code",
   "execution_count": 85,
   "metadata": {
    "ExecuteTime": {
     "end_time": "2021-04-22T18:36:46.506931Z",
     "start_time": "2021-04-22T18:36:46.064099Z"
    },
    "hidden": true,
    "scrolled": true
   },
   "outputs": [
    {
     "data": {
      "application/javascript": [
       "\n",
       "        if (window._pyforest_update_imports_cell) { window._pyforest_update_imports_cell('import matplotlib.pyplot as plt\\nimport numpy as np'); }\n",
       "    "
      ],
      "text/plain": [
       "<IPython.core.display.Javascript object>"
      ]
     },
     "metadata": {},
     "output_type": "display_data"
    },
    {
     "data": {
      "application/javascript": [
       "\n",
       "        if (window._pyforest_update_imports_cell) { window._pyforest_update_imports_cell('import matplotlib.pyplot as plt\\nimport numpy as np'); }\n",
       "    "
      ],
      "text/plain": [
       "<IPython.core.display.Javascript object>"
      ]
     },
     "metadata": {},
     "output_type": "display_data"
    },
    {
     "data": {
      "image/png": "[encoded data removed]",
      "text/plain": [
       "<Figure size 1080x360 with 2 Axes>"
      ]
     },
     "metadata": {
      "needs_background": "light"
     },
     "output_type": "display_data"
    }
   ],
   "source": [
    "fig, (ax1, ax2) = plt.subplots(1,2,figsize=(15,5))\n",
    "\n",
    "\n",
    "sns.lineplot(x = list(range(len(katakana_training_loss))),\n",
    "             y = katakana_training_loss, color = 'purple', alpha = 0.6, label = 'training', ax = ax1)\n",
    "sns.lineplot(x = list(range(len(katakana_val_loss))),\n",
    "             y = katakana_val_loss, color = 'green', alpha = 0.6, linestyle = 'dashed', label = 'validation', ax = ax1)\n",
    "sns.lineplot(x = list(range(len(katakana_training_loss))),\n",
    "             y = katakana_training_accuracy, color = 'r', alpha = 0.6, label = 'training', ax = ax2)\n",
    "sns.lineplot(x = list(range(len(katakana_val_loss))),\n",
    "             y = katakana_val_accuracy, color = 'b', alpha = 0.6, linestyle = 'dashed', label = 'validation', ax = ax2)\n",
    "# plt.savefig('img/katakana_loss_acc.png')\n",
    "ax1.legend();"
   ]
  },
  {
   "cell_type": "markdown",
   "metadata": {
    "hidden": true
   },
   "source": [
    "#### Katakana Test Data Results"
   ]
  },
  {
   "cell_type": "code",
   "execution_count": 66,
   "metadata": {
    "ExecuteTime": {
     "end_time": "2021-04-22T15:28:43.502769Z",
     "start_time": "2021-04-22T15:28:38.037390Z"
    },
    "hidden": true
   },
   "outputs": [
    {
     "data": {
      "application/javascript": [
       "\n",
       "        if (window._pyforest_update_imports_cell) { window._pyforest_update_imports_cell('import matplotlib.pyplot as plt\\nimport numpy as np'); }\n",
       "    "
      ],
      "text/plain": [
       "<IPython.core.display.Javascript object>"
      ]
     },
     "metadata": {},
     "output_type": "display_data"
    },
    {
     "data": {
      "text/plain": [
       "array([[285,   0,   0, ...,   0,   0,   0],\n",
       "       [  0, 265,   0, ...,   0,   0,   0],\n",
       "       [  0,   0, 290, ...,   2,   0,   0],\n",
       "       ...,\n",
       "       [  0,   0,   0, ..., 277,   0,   0],\n",
       "       [  0,   0,   0, ...,   0, 275,   0],\n",
       "       [  0,   0,   0, ...,   0,   0, 258]], dtype=int64)"
      ]
     },
     "execution_count": 66,
     "metadata": {},
     "output_type": "execute_result"
    }
   ],
   "source": [
    "katakana_y_hat_test = np.argmax(katakana_model.predict(katakana_X_test), axis=-1)\n",
    "katakana_test_restore = katakana_ohe.inverse_transform(katakana_y_test)\n",
    "confusion_matrix(katakana_test_restore, katakana_y_hat_test)"
   ]
  },
  {
   "cell_type": "code",
   "execution_count": 67,
   "metadata": {
    "ExecuteTime": {
     "end_time": "2021-04-22T15:28:51.678462Z",
     "start_time": "2021-04-22T15:28:46.027609Z"
    },
    "hidden": true
   },
   "outputs": [
    {
     "name": "stdout",
     "output_type": "stream",
     "text": [
      "406/406 [==============================] - 6s 14ms/step - loss: 0.0614 - accuracy: 0.9878\n"
     ]
    }
   ],
   "source": [
    "katakana_test_loss, katakana_test_acc = katakana_model.evaluate(katakana_X_test, katakana_y_test)"
   ]
  },
  {
   "cell_type": "code",
   "execution_count": 68,
   "metadata": {
    "ExecuteTime": {
     "end_time": "2021-04-22T15:28:59.932967Z",
     "start_time": "2021-04-22T15:28:59.926956Z"
    },
    "hidden": true
   },
   "outputs": [
    {
     "name": "stdout",
     "output_type": "stream",
     "text": [
      "We acheived a test accuracy of 0.9878% on our Katakana dataset.\n"
     ]
    }
   ],
   "source": [
    "print(f'We acheived a test accuracy of {round(katakana_test_acc, 4)}% on our Katakana dataset.')"
   ]
  },
  {
   "cell_type": "code",
   "execution_count": 69,
   "metadata": {
    "ExecuteTime": {
     "end_time": "2021-04-22T15:29:05.205859Z",
     "start_time": "2021-04-22T15:29:05.116916Z"
    },
    "hidden": true
   },
   "outputs": [],
   "source": [
    "katakana_model.save('katakana_model.h5')"
   ]
  },
  {
   "cell_type": "markdown",
   "metadata": {
    "heading_collapsed": true,
    "hidden": true
   },
   "source": [
    "### Tensorboard Visualization"
   ]
  },
  {
   "cell_type": "code",
   "execution_count": 94,
   "metadata": {
    "ExecuteTime": {
     "end_time": "2021-04-23T11:24:19.880625Z",
     "start_time": "2021-04-23T11:24:19.876664Z"
    },
    "hidden": true
   },
   "outputs": [],
   "source": [
    "# tensorboard --logdir logs/fit"
   ]
  },
  {
   "cell_type": "markdown",
   "metadata": {
    "heading_collapsed": true,
    "hidden": true
   },
   "source": [
    "## Conclusions & Next Steps"
   ]
  },
  {
   "cell_type": "markdown",
   "metadata": {
    "hidden": true
   },
   "source": [
    "### Conclusions:"
   ]
  },
  {
   "cell_type": "markdown",
   "metadata": {
    "hidden": true
   },
   "source": [
    "- Kanji model may be underperforming due to sheer amount of separate classes in the dataset (883)\n",
    "- Kanji are composed in “parts” called radicals. These radicals are also the basis for many original hiragana & katakana characters\n",
    "- Less variation in Hiragana and Katakana characters could be why those models performed so well\n",
    "- Many kanji are quite similar to each other, especially with radicals combinations that express similar ideas. Would be interesting to see the way radicals or structural components of kanji affect the model\n",
    "- Further upsizing the kanji images to 64x64 or higher may improve the model"
   ]
  },
  {
   "cell_type": "markdown",
   "metadata": {
    "hidden": true
   },
   "source": [
    "### Next Steps:"
   ]
  },
  {
   "cell_type": "markdown",
   "metadata": {
    "hidden": true
   },
   "source": [
    "- Fine tune model params for kanji model to achieve higher accuracy\n",
    "- Further dive into Tensorboard to view for live modeling (did post model in this notebook)\n",
    "- Implement cloud-based modeling using other model techniques. Running in the cloud on multiple GPUs will speed up production time and lessen the strain on my work rig\n",
    "- Combine datasets in the future to work on an image classification model that can identify the type of character (hiragana, katakana, kanji, romanji, numerals) for capstone\n",
    "- Expand model for touchscreen API integration for language education (iOS app) "
   ]
  }
 ],
 "metadata": {
  "kernelspec": {
   "display_name": "Python 3",
   "language": "python",
   "name": "python3"
  },
  "language_info": {
   "codemirror_mode": {
    "name": "ipython",
    "version": 3
   },
   "file_extension": ".py",
   "mimetype": "text/x-python",
   "name": "python",
   "nbconvert_exporter": "python",
   "pygments_lexer": "ipython3",
   "version": "3.8.5"
  },
  "toc": {
   "base_numbering": 1,
   "nav_menu": {},
   "number_sections": true,
   "sideBar": true,
   "skip_h1_title": true,
   "title_cell": "Table of Contents",
   "title_sidebar": "Contents",
   "toc_cell": false,
   "toc_position": {
    "height": "calc(100% - 180px)",
    "left": "10px",
    "top": "150px",
    "width": "305px"
   },
   "toc_section_display": true,
   "toc_window_display": true
  }
 },
 "nbformat": 4,
 "nbformat_minor": 4
}
